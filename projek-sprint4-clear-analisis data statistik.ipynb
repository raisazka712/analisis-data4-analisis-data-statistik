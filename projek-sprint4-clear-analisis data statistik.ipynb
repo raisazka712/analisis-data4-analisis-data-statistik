{
  "metadata": {
    "kernelspec": {
      "name": "python",
      "display_name": "Python (Pyodide)",
      "language": "python"
    },
    "language_info": {
      "codemirror_mode": {
        "name": "python",
        "version": 3
      },
      "file_extension": ".py",
      "mimetype": "text/x-python",
      "name": "python",
      "nbconvert_exporter": "python",
      "pygments_lexer": "ipython3",
      "version": "3.8"
    },
    "ExecuteTimeLog": [
      {
        "duration": 828,
        "start_time": "2021-11-16T09:21:11.304Z"
      },
      {
        "duration": 893,
        "start_time": "2021-11-16T09:21:17.728Z"
      },
      {
        "duration": 1150,
        "start_time": "2021-11-16T09:21:29.568Z"
      },
      {
        "duration": 3,
        "start_time": "2021-11-16T09:24:14.495Z"
      },
      {
        "duration": 120,
        "start_time": "2021-11-16T09:24:46.630Z"
      },
      {
        "duration": 3,
        "start_time": "2021-11-16T09:28:27.882Z"
      },
      {
        "duration": 4,
        "start_time": "2021-11-16T09:29:54.281Z"
      },
      {
        "duration": 3,
        "start_time": "2021-11-16T09:30:45.936Z"
      },
      {
        "duration": 4,
        "start_time": "2021-11-16T09:31:06.300Z"
      },
      {
        "duration": 113,
        "start_time": "2021-11-16T09:31:37.208Z"
      },
      {
        "duration": 143,
        "start_time": "2021-11-16T09:31:48.656Z"
      },
      {
        "duration": 98,
        "start_time": "2021-11-16T09:31:55.678Z"
      },
      {
        "duration": 3,
        "start_time": "2021-11-16T09:32:08.535Z"
      },
      {
        "duration": 111,
        "start_time": "2021-11-16T09:32:10.120Z"
      },
      {
        "duration": 3,
        "start_time": "2021-11-16T09:32:15.732Z"
      },
      {
        "duration": 4,
        "start_time": "2021-11-16T09:32:29.423Z"
      },
      {
        "duration": 3,
        "start_time": "2021-11-16T10:03:03.074Z"
      },
      {
        "duration": 3,
        "start_time": "2021-11-16T10:10:01.288Z"
      },
      {
        "duration": 3,
        "start_time": "2021-11-16T10:10:46.923Z"
      },
      {
        "duration": 121,
        "start_time": "2021-11-16T10:37:46.494Z"
      },
      {
        "duration": 125,
        "start_time": "2021-11-16T10:38:20.632Z"
      },
      {
        "duration": 112,
        "start_time": "2021-11-16T10:46:53.001Z"
      },
      {
        "duration": 110,
        "start_time": "2021-11-16T10:48:25.775Z"
      },
      {
        "duration": 3,
        "start_time": "2021-11-16T10:50:18.720Z"
      },
      {
        "duration": 4,
        "start_time": "2021-11-16T10:50:37.649Z"
      },
      {
        "duration": 2,
        "start_time": "2021-11-16T10:50:51.884Z"
      },
      {
        "duration": 3,
        "start_time": "2021-11-16T10:51:56.237Z"
      },
      {
        "duration": 101,
        "start_time": "2021-11-16T10:53:13.791Z"
      },
      {
        "duration": 3,
        "start_time": "2021-11-16T10:55:59.186Z"
      },
      {
        "duration": 3,
        "start_time": "2021-11-16T10:56:10.751Z"
      },
      {
        "duration": 3,
        "start_time": "2021-11-16T10:56:49.038Z"
      },
      {
        "duration": 3,
        "start_time": "2021-11-16T10:56:49.174Z"
      },
      {
        "duration": 4,
        "start_time": "2021-11-16T10:56:49.414Z"
      },
      {
        "duration": 3,
        "start_time": "2021-11-16T10:56:49.680Z"
      },
      {
        "duration": 3,
        "start_time": "2021-11-16T10:56:50.370Z"
      },
      {
        "duration": 114,
        "start_time": "2021-11-16T10:59:34.518Z"
      },
      {
        "duration": 3,
        "start_time": "2021-11-16T11:01:41.201Z"
      },
      {
        "duration": 116,
        "start_time": "2021-11-16T11:01:48.754Z"
      },
      {
        "duration": 3,
        "start_time": "2021-11-16T11:02:16.685Z"
      },
      {
        "duration": 3,
        "start_time": "2021-11-16T11:02:19.479Z"
      },
      {
        "duration": 3,
        "start_time": "2021-11-16T11:02:47.067Z"
      },
      {
        "duration": 3,
        "start_time": "2021-11-16T11:02:49.353Z"
      },
      {
        "duration": 3,
        "start_time": "2021-11-16T11:03:07.835Z"
      },
      {
        "duration": 3,
        "start_time": "2021-11-16T11:03:07.953Z"
      },
      {
        "duration": 112,
        "start_time": "2021-11-16T11:07:52.072Z"
      },
      {
        "duration": 187,
        "start_time": "2021-11-16T11:09:23.468Z"
      },
      {
        "duration": 4,
        "start_time": "2021-11-16T11:10:01.455Z"
      },
      {
        "duration": 3,
        "start_time": "2021-11-16T11:10:05.069Z"
      },
      {
        "duration": 4,
        "start_time": "2021-11-16T11:10:13.376Z"
      },
      {
        "duration": 3,
        "start_time": "2021-11-16T11:10:14.434Z"
      },
      {
        "duration": 3,
        "start_time": "2021-11-16T11:10:22.853Z"
      },
      {
        "duration": 4,
        "start_time": "2021-11-16T11:27:29.279Z"
      },
      {
        "duration": 4,
        "start_time": "2021-11-16T11:29:08.919Z"
      },
      {
        "duration": 118,
        "start_time": "2021-11-16T11:29:46.703Z"
      },
      {
        "duration": 437,
        "start_time": "2021-11-16T11:36:02.181Z"
      },
      {
        "duration": 157,
        "start_time": "2021-11-16T11:36:14.388Z"
      },
      {
        "duration": 207,
        "start_time": "2021-11-16T11:47:15.898Z"
      },
      {
        "duration": 3,
        "start_time": "2021-11-16T11:53:52.092Z"
      },
      {
        "duration": 3,
        "start_time": "2021-11-16T11:53:52.236Z"
      },
      {
        "duration": 3,
        "start_time": "2021-11-16T11:59:12.005Z"
      },
      {
        "duration": 112,
        "start_time": "2021-11-16T12:00:33.446Z"
      },
      {
        "duration": 3,
        "start_time": "2021-11-16T12:02:14.453Z"
      },
      {
        "duration": 3,
        "start_time": "2021-11-16T12:02:39.512Z"
      },
      {
        "duration": 106,
        "start_time": "2021-11-16T12:03:03.460Z"
      },
      {
        "duration": 3,
        "start_time": "2021-11-17T20:37:21.139Z"
      },
      {
        "duration": 3,
        "start_time": "2021-11-17T20:37:22.229Z"
      },
      {
        "duration": 3,
        "start_time": "2021-11-17T20:38:38.806Z"
      },
      {
        "duration": 3,
        "start_time": "2021-11-17T20:38:41.958Z"
      },
      {
        "duration": 3,
        "start_time": "2021-11-17T20:43:46.551Z"
      },
      {
        "duration": 4,
        "start_time": "2021-11-17T20:58:21.835Z"
      },
      {
        "duration": 3,
        "start_time": "2021-11-17T20:59:21.872Z"
      },
      {
        "duration": 4,
        "start_time": "2021-11-17T20:59:45.352Z"
      },
      {
        "duration": 4,
        "start_time": "2021-11-17T20:59:49.646Z"
      },
      {
        "duration": 159,
        "start_time": "2021-11-17T21:02:26.949Z"
      },
      {
        "duration": 3,
        "start_time": "2021-11-17T21:03:53.461Z"
      },
      {
        "duration": 3,
        "start_time": "2021-11-17T21:03:53.694Z"
      },
      {
        "duration": 3,
        "start_time": "2021-11-17T21:05:28.145Z"
      },
      {
        "duration": 116,
        "start_time": "2021-11-17T21:05:57.787Z"
      },
      {
        "duration": 3,
        "start_time": "2021-11-17T21:06:37.993Z"
      },
      {
        "duration": 3,
        "start_time": "2021-11-17T21:06:38.261Z"
      },
      {
        "duration": 3,
        "start_time": "2021-11-17T21:11:54.358Z"
      },
      {
        "duration": 3,
        "start_time": "2021-11-17T21:12:43.846Z"
      },
      {
        "duration": 4,
        "start_time": "2021-11-17T21:13:08.773Z"
      },
      {
        "duration": 3,
        "start_time": "2021-11-17T21:14:44.441Z"
      },
      {
        "duration": 3,
        "start_time": "2021-11-17T21:15:42.059Z"
      },
      {
        "duration": 4,
        "start_time": "2021-11-17T21:15:51.995Z"
      },
      {
        "duration": 3,
        "start_time": "2021-11-17T21:15:53.923Z"
      },
      {
        "duration": 3,
        "start_time": "2021-11-17T21:15:55.282Z"
      },
      {
        "duration": 3,
        "start_time": "2021-11-17T21:16:28.492Z"
      },
      {
        "duration": 3,
        "start_time": "2021-11-17T21:16:32.603Z"
      },
      {
        "duration": 3,
        "start_time": "2021-11-17T21:17:06.941Z"
      },
      {
        "duration": 98,
        "start_time": "2021-11-17T21:18:05.733Z"
      },
      {
        "duration": 4,
        "start_time": "2021-11-17T21:21:35.255Z"
      },
      {
        "duration": 3,
        "start_time": "2021-11-17T21:21:37.804Z"
      },
      {
        "duration": 4,
        "start_time": "2021-11-17T21:23:06.071Z"
      },
      {
        "duration": 3,
        "start_time": "2021-11-17T21:23:24.799Z"
      },
      {
        "duration": 3,
        "start_time": "2021-11-17T21:23:32.591Z"
      },
      {
        "duration": 98,
        "start_time": "2021-11-17T21:28:31.559Z"
      },
      {
        "duration": 3,
        "start_time": "2021-11-17T21:28:45.448Z"
      },
      {
        "duration": 3,
        "start_time": "2021-11-17T21:29:17.303Z"
      },
      {
        "duration": 3,
        "start_time": "2021-11-17T21:29:29.617Z"
      },
      {
        "duration": 3,
        "start_time": "2021-11-17T21:29:32.681Z"
      },
      {
        "duration": 3,
        "start_time": "2021-11-17T21:36:11.474Z"
      },
      {
        "duration": 3,
        "start_time": "2021-11-17T21:36:14.791Z"
      },
      {
        "duration": 3,
        "start_time": "2021-11-17T21:36:53.943Z"
      },
      {
        "duration": 3,
        "start_time": "2021-11-17T21:36:56.165Z"
      },
      {
        "duration": 4,
        "start_time": "2021-11-17T21:37:16.590Z"
      },
      {
        "duration": 3,
        "start_time": "2021-11-17T21:37:22.702Z"
      },
      {
        "duration": 4,
        "start_time": "2021-11-17T21:38:03.479Z"
      },
      {
        "duration": 3,
        "start_time": "2021-11-17T21:38:08.601Z"
      },
      {
        "duration": 3,
        "start_time": "2021-11-17T21:38:12.928Z"
      },
      {
        "duration": 3,
        "start_time": "2021-11-17T21:38:48.896Z"
      },
      {
        "duration": 2,
        "start_time": "2021-11-17T21:38:49.171Z"
      },
      {
        "duration": 4,
        "start_time": "2021-11-17T21:39:57.889Z"
      },
      {
        "duration": 3,
        "start_time": "2021-11-17T21:39:58.057Z"
      },
      {
        "duration": 3,
        "start_time": "2021-11-17T21:41:20.108Z"
      },
      {
        "duration": 3,
        "start_time": "2021-11-17T21:41:20.629Z"
      },
      {
        "duration": 3,
        "start_time": "2021-11-17T21:42:49.136Z"
      },
      {
        "duration": 3,
        "start_time": "2021-11-17T21:43:15.137Z"
      },
      {
        "duration": 4,
        "start_time": "2021-11-17T21:43:16.766Z"
      },
      {
        "duration": 4,
        "start_time": "2021-11-17T21:43:31.711Z"
      },
      {
        "duration": 3,
        "start_time": "2021-11-17T21:43:36.312Z"
      },
      {
        "duration": 4,
        "start_time": "2021-11-17T21:45:08.825Z"
      },
      {
        "duration": 4,
        "start_time": "2021-11-17T21:45:10.119Z"
      },
      {
        "duration": 4,
        "start_time": "2021-11-17T21:45:13.748Z"
      },
      {
        "duration": 3,
        "start_time": "2021-11-17T21:45:22.219Z"
      },
      {
        "duration": 3,
        "start_time": "2021-11-17T21:45:33.412Z"
      },
      {
        "duration": 2,
        "start_time": "2021-11-17T21:46:01.885Z"
      },
      {
        "duration": 3,
        "start_time": "2021-11-17T21:46:03.628Z"
      },
      {
        "duration": 107,
        "start_time": "2021-11-17T21:47:32.512Z"
      },
      {
        "duration": 103,
        "start_time": "2021-11-17T21:50:36.243Z"
      },
      {
        "duration": 3,
        "start_time": "2021-11-18T06:28:31.440Z"
      },
      {
        "duration": 3,
        "start_time": "2021-11-18T06:29:00.168Z"
      },
      {
        "duration": 3,
        "start_time": "2021-11-18T06:31:27.008Z"
      },
      {
        "duration": 2,
        "start_time": "2021-11-18T06:35:34.288Z"
      },
      {
        "duration": 2,
        "start_time": "2021-11-18T06:38:04.527Z"
      }
    ],
    "toc": {
      "base_numbering": 1,
      "nav_menu": {},
      "number_sections": true,
      "sideBar": true,
      "skip_h1_title": false,
      "title_cell": "Table of Contents",
      "title_sidebar": "Contents",
      "toc_cell": false,
      "toc_position": {
        "height": "258px",
        "left": "30px",
        "top": "110.219px",
        "width": "294.635px"
      },
      "toc_section_display": true,
      "toc_window_display": false
    }
  },
  "nbformat_minor": 4,
  "nbformat": 4,
  "cells": [
    {
      "cell_type": "markdown",
      "source": "## Contents\n\n* Introduction\n* Stage 1 : Data overview\n    * 1.1 Goal\n    * 1.2 Stages\n* Stage 2 : Pra-pemrosesan\n    * 2.1 Inisialisasi\n    * 2.2 Memuat Data\n    * 2.3 Mempersiapkan Data\n    * 2.4 Paket Prabayar\n    * 2.5 Pesan/SMS\n    * 2.6 Internet\n    * 2.7 Paket Prabayar\n* Stage 3 : Data Preparation\n    * 3.1 Mempersiapkan Data\n    * 3.2 Memperbaiki Data\n    * 3.3 Memperkaya Kualitas Data Data\n        * 3.3.1 Join Table\n        \n* Stage 4 : Exploratory Data Analysis (EDA).\n    * 4.1 Berapakah total income di setiap paket per bulannya?\n    * 4.2 Berapakah rata-rata income customer di setiap paket perbulannya?\n    * 4.3 Bagamaina distribusi rata-rata pendapatan user di setiap paket?\n    * 4.4 Bagaimana korelasi antara penggunaan internet dan pendapatan di setiap paket?\n\n* Stage 5 : Analisis Data Statistik\n    * 5.1 Mempelajari Syarat dan Kondisi Terkait Paket Prabayar\n    * 5.2 Mempelajari Perilaku Pengguna\n        * 5.2.1 Panggilan\n        * 5.2.2 Pesan/SMS\n        * 5.2.3 Internet\n    * 5.3 Pendapatan\n\n* Stage 6 : Menguji Hipotesis Statistik\n    * 6.1 Apakah Rata-rata pendapatan dari pengguna paket telepon Ultimate dan Surf berbeda\n    * 6.2 Apakah Rata-rata pendapatan dari pengguna di wilayah NY-NJ berbeda dengan pendapatan pengguna dari wilayah lain\n* Stage 7 : Kesimpulan Umum\n\n\n##  Introduction\n\nSetiap kali kita melakukan penelitian, kita membutuhkan formula hipotesis yang akan kita uji. Terkadang kita bisa menerima hipotesis tersebut, dan juga kita dapat menolaknya. Pebisnis harus paham untuk membuat asumsi yang tepat.\n\nDalam projek kali ini, kita akan menganalisis perilaku klien dan menentukan paket prabayar mana yang mendatangkan lebih banyak pendapatan sehingga departemen periklanan bisa membuat anggaran iklan yang sesuai. Pihak departemen periklanan telah memberi kita beberapa data, yang mana data tersebut akan dilakukan uji hipotesis berrikut :\n\n   * Rata-rata pendapatan dari pengguna paket telepon Ultimate dan Surf berbeda.\n   * Rata-rata pendapatan dari pengguna di wilayah NY-NJ berbeda dengan pendapatan pengguna dari wilayah lain.",
      "metadata": {}
    },
    {
      "cell_type": "markdown",
      "source": "# Data Overview\n\n**Paket Prabayar Manakah yang Lebih Baik?**\n\nAnda bekerja sebagai seorang analis di perusahaan operator telekomunikasi bernama Megaline. Perusahaan tersebut menawarkan kliennya dua jenis paket prabayar, yaitu paket Surf dan paket Ultimate. Departemen periklanan ingin mengetahui paket prabayar mana yang menghasilkan lebih banyak pendapatan, sehingga mereka bisa membuat anggaran iklan yang sesuai.\n\nAnda akan melakukan analisis awal untuk paket-paket prabayar tersebut berdasarkan sampel klien yang berukuran relatif kecil. Anda memiliki 500 data klien Megaline, yang berisi informasi seperti: siapa mereka, dari mana asalnya, jenis paket apa yang mereka gunakan, serta jumlah panggilan dan pesan yang mereka kirim di tahun 2018. Tugas Anda adalah untuk menganalisis perilaku para pengguna, lalu menentukan paket prabayar manakah yang lebih menguntungkan.\n\n## Goal\n\nTujuan Utama dalam Analisis Data ini adalah :\n\n   1. Mencari tahu dan menganalisis perilaku klien dan menentukan paket prabayar mana yang mendatangkan lebih banyak pendapatan sehingga departemen periklanan bisa membuat anggaran iklan yang sesuai.\n    \n## Stages\n\nData yang berasal dari departemen periklanan disimpan dalam file :\n1. /datasets/megaline_calls.csv  \n2. /datasets/megaline_internet.csv \n3. /datasets/megaline_messages.csv \n4. /datasets/megaline_plans.csv  \n5. /datasets/megaline_users.csv \n\nTidak terdapat informasi tentang kualitas data, sehingga kita harus eksplor data tersebut sebelum melakukan hipotesis.\n\nPertama, kita akan mengevaluasi kualitas data dan melihat apakah ada masalah yang signifikan. Kemudian, selama data preprocessing, kita akan menghitung masalah kritis.\n\nDalam projek ini terdiri dari empat tahapan : \n\n    1. Data overview\n    2. Data preprocessing\n    3. Exploratory Data Analysis (EDA)\n    4. Analisis Data Statistik",
      "metadata": {}
    },
    {
      "cell_type": "markdown",
      "source": "# Pra-pemrosesan",
      "metadata": {}
    },
    {
      "cell_type": "markdown",
      "source": "## Inisialisasi",
      "metadata": {}
    },
    {
      "cell_type": "markdown",
      "source": "Muat semua library yang dibutuhkan",
      "metadata": {}
    },
    {
      "cell_type": "code",
      "source": "# Import Library Data Processing\nimport pandas as pd, numpy as np\n\n# Import Library Data Visualization\nimport matplotlib.pyplot as plt, seaborn as sns\n\n# Import library Statistics\nfrom scipy.stats import ttest_ind,shapiro, mannwhitneyu",
      "metadata": {
        "trusted": true
      },
      "outputs": [],
      "execution_count": 1
    },
    {
      "cell_type": "markdown",
      "source": "## Memuat Data",
      "metadata": {}
    },
    {
      "cell_type": "markdown",
      "source": "Muat semua file data ke dalam data frame yang berbeda",
      "metadata": {}
    },
    {
      "cell_type": "code",
      "source": "# Load Data Calls\ncalls = pd.read_csv('/datasets/megaline_calls.csv')",
      "metadata": {
        "trusted": true
      },
      "outputs": [],
      "execution_count": 2
    },
    {
      "cell_type": "code",
      "source": "# Load Data internet\ninternet = pd.read_csv('/datasets/megaline_internet.csv')",
      "metadata": {
        "trusted": true
      },
      "outputs": [],
      "execution_count": 3
    },
    {
      "cell_type": "code",
      "source": "# Load Data messages\nmessages = pd.read_csv('/datasets/megaline_messages.csv')",
      "metadata": {
        "trusted": true
      },
      "outputs": [],
      "execution_count": 4
    },
    {
      "cell_type": "code",
      "source": "# Load Data plans\nplans = pd.read_csv('/datasets/megaline_plans.csv')",
      "metadata": {
        "trusted": true
      },
      "outputs": [],
      "execution_count": 5
    },
    {
      "cell_type": "code",
      "source": "# Load Data users\nusers = pd.read_csv('/datasets/megaline_users.csv')",
      "metadata": {
        "scrolled": true,
        "trusted": true
      },
      "outputs": [],
      "execution_count": 6
    },
    {
      "cell_type": "markdown",
      "source": "## Pengguna",
      "metadata": {}
    },
    {
      "cell_type": "code",
      "source": "# Tampilkan informasi/rangkuman umum tentang DataFrame pengguna\nusers.info()",
      "metadata": {
        "trusted": true
      },
      "outputs": [
        {
          "name": "stdout",
          "output_type": "stream",
          "text": "<class 'pandas.core.frame.DataFrame'>\n\nRangeIndex: 500 entries, 0 to 499\n\nData columns (total 8 columns):\n\n #   Column      Non-Null Count  Dtype \n\n---  ------      --------------  ----- \n\n 0   user_id     500 non-null    int64 \n\n 1   first_name  500 non-null    object\n\n 2   last_name   500 non-null    object\n\n 3   age         500 non-null    int64 \n\n 4   city        500 non-null    object\n\n 5   reg_date    500 non-null    object\n\n 6   plan        500 non-null    object\n\n 7   churn_date  34 non-null     object\n\ndtypes: int64(2), object(6)\n\nmemory usage: 31.4+ KB\n"
        }
      ],
      "execution_count": 7
    },
    {
      "cell_type": "code",
      "source": "# Tampilkan sampel data pengguna\nusers.sample(n=5)",
      "metadata": {
        "trusted": true
      },
      "outputs": [
        {
          "execution_count": 8,
          "output_type": "execute_result",
          "data": {
            "text/html": [
              "<div>\n",
              "<style scoped>\n",
              "    .dataframe tbody tr th:only-of-type {\n",
              "        vertical-align: middle;\n",
              "    }\n",
              "\n",
              "    .dataframe tbody tr th {\n",
              "        vertical-align: top;\n",
              "    }\n",
              "\n",
              "    .dataframe thead th {\n",
              "        text-align: right;\n",
              "    }\n",
              "</style>\n",
              "<table border=\"1\" class=\"dataframe\">\n",
              "  <thead>\n",
              "    <tr style=\"text-align: right;\">\n",
              "      <th></th>\n",
              "      <th>user_id</th>\n",
              "      <th>first_name</th>\n",
              "      <th>last_name</th>\n",
              "      <th>age</th>\n",
              "      <th>city</th>\n",
              "      <th>reg_date</th>\n",
              "      <th>plan</th>\n",
              "      <th>churn_date</th>\n",
              "    </tr>\n",
              "  </thead>\n",
              "  <tbody>\n",
              "    <tr>\n",
              "      <th>152</th>\n",
              "      <td>1152</td>\n",
              "      <td>Merrill</td>\n",
              "      <td>Hogan</td>\n",
              "      <td>35</td>\n",
              "      <td>Orlando-Kissimmee-Sanford, FL MSA</td>\n",
              "      <td>2018-11-01</td>\n",
              "      <td>surf</td>\n",
              "      <td>NaN</td>\n",
              "    </tr>\n",
              "    <tr>\n",
              "      <th>348</th>\n",
              "      <td>1348</td>\n",
              "      <td>Carl</td>\n",
              "      <td>Rutledge</td>\n",
              "      <td>60</td>\n",
              "      <td>Detroit-Warren-Dearborn, MI MSA</td>\n",
              "      <td>2018-10-05</td>\n",
              "      <td>surf</td>\n",
              "      <td>NaN</td>\n",
              "    </tr>\n",
              "    <tr>\n",
              "      <th>439</th>\n",
              "      <td>1439</td>\n",
              "      <td>Moses</td>\n",
              "      <td>Cabrera</td>\n",
              "      <td>28</td>\n",
              "      <td>Riverside-San Bernardino-Ontario, CA MSA</td>\n",
              "      <td>2018-01-04</td>\n",
              "      <td>surf</td>\n",
              "      <td>NaN</td>\n",
              "    </tr>\n",
              "    <tr>\n",
              "      <th>404</th>\n",
              "      <td>1404</td>\n",
              "      <td>Paulita</td>\n",
              "      <td>Conley</td>\n",
              "      <td>33</td>\n",
              "      <td>New York-Newark-Jersey City, NY-NJ-PA MSA</td>\n",
              "      <td>2018-04-16</td>\n",
              "      <td>surf</td>\n",
              "      <td>NaN</td>\n",
              "    </tr>\n",
              "    <tr>\n",
              "      <th>364</th>\n",
              "      <td>1364</td>\n",
              "      <td>Clarine</td>\n",
              "      <td>Bonner</td>\n",
              "      <td>75</td>\n",
              "      <td>San Diego-Chula Vista-Carlsbad, CA MSA</td>\n",
              "      <td>2018-08-09</td>\n",
              "      <td>surf</td>\n",
              "      <td>NaN</td>\n",
              "    </tr>\n",
              "  </tbody>\n",
              "</table>\n",
              "</div>"
            ],
            "text/plain": [
              "     user_id first_name last_name  age  \\\n",
              "152     1152    Merrill     Hogan   35   \n",
              "348     1348       Carl  Rutledge   60   \n",
              "439     1439      Moses   Cabrera   28   \n",
              "404     1404    Paulita    Conley   33   \n",
              "364     1364    Clarine    Bonner   75   \n",
              "\n",
              "                                          city    reg_date  plan churn_date  \n",
              "152          Orlando-Kissimmee-Sanford, FL MSA  2018-11-01  surf        NaN  \n",
              "348            Detroit-Warren-Dearborn, MI MSA  2018-10-05  surf        NaN  \n",
              "439   Riverside-San Bernardino-Ontario, CA MSA  2018-01-04  surf        NaN  \n",
              "404  New York-Newark-Jersey City, NY-NJ-PA MSA  2018-04-16  surf        NaN  \n",
              "364     San Diego-Chula Vista-Carlsbad, CA MSA  2018-08-09  surf        NaN  "
            ]
          },
          "metadata": {}
        }
      ],
      "execution_count": 8
    },
    {
      "cell_type": "markdown",
      "source": "* Berdasarkan data diatas, data users tidak memiliki nilai yang hilang, terdapat tipe data yang tidak sesuai pada kolom reg_date dan churn_date, harusnya bernilai datetime. Akan tetapi 2 kolom tersebut nantinya tidak diperlukan, maka dari itu tidak perlu di ganti ke tipe data datet time.\n\n* Nantinya kita akan membersihkan kolom city dengan menampilkan kode kotanya saja agar lebih mudah di baca dan memfilternya sesuai permintaan.",
      "metadata": {}
    },
    {
      "cell_type": "markdown",
      "source": "## Panggilan",
      "metadata": {}
    },
    {
      "cell_type": "code",
      "source": "# Tampilkan informasi/rangkuman umum tentang DataFrame panggilan\ncalls.info()",
      "metadata": {
        "trusted": true
      },
      "outputs": [
        {
          "name": "stdout",
          "output_type": "stream",
          "text": "<class 'pandas.core.frame.DataFrame'>\n\nRangeIndex: 137735 entries, 0 to 137734\n\nData columns (total 4 columns):\n\n #   Column     Non-Null Count   Dtype  \n\n---  ------     --------------   -----  \n\n 0   id         137735 non-null  object \n\n 1   user_id    137735 non-null  int64  \n\n 2   call_date  137735 non-null  object \n\n 3   duration   137735 non-null  float64\n\ndtypes: float64(1), int64(1), object(2)\n\nmemory usage: 4.2+ MB\n"
        }
      ],
      "execution_count": 9
    },
    {
      "cell_type": "code",
      "source": "# Tampilkan sampel data berisi panggilan\ncalls.sample(n=10)",
      "metadata": {
        "trusted": true
      },
      "outputs": [
        {
          "execution_count": 10,
          "output_type": "execute_result",
          "data": {
            "text/html": [
              "<div>\n",
              "<style scoped>\n",
              "    .dataframe tbody tr th:only-of-type {\n",
              "        vertical-align: middle;\n",
              "    }\n",
              "\n",
              "    .dataframe tbody tr th {\n",
              "        vertical-align: top;\n",
              "    }\n",
              "\n",
              "    .dataframe thead th {\n",
              "        text-align: right;\n",
              "    }\n",
              "</style>\n",
              "<table border=\"1\" class=\"dataframe\">\n",
              "  <thead>\n",
              "    <tr style=\"text-align: right;\">\n",
              "      <th></th>\n",
              "      <th>id</th>\n",
              "      <th>user_id</th>\n",
              "      <th>call_date</th>\n",
              "      <th>duration</th>\n",
              "    </tr>\n",
              "  </thead>\n",
              "  <tbody>\n",
              "    <tr>\n",
              "      <th>66112</th>\n",
              "      <td>1239_195</td>\n",
              "      <td>1239</td>\n",
              "      <td>2018-12-07</td>\n",
              "      <td>18.24</td>\n",
              "    </tr>\n",
              "    <tr>\n",
              "      <th>74941</th>\n",
              "      <td>1264_252</td>\n",
              "      <td>1264</td>\n",
              "      <td>2018-06-16</td>\n",
              "      <td>0.00</td>\n",
              "    </tr>\n",
              "    <tr>\n",
              "      <th>23939</th>\n",
              "      <td>1090_111</td>\n",
              "      <td>1090</td>\n",
              "      <td>2018-09-10</td>\n",
              "      <td>6.51</td>\n",
              "    </tr>\n",
              "    <tr>\n",
              "      <th>100546</th>\n",
              "      <td>1359_428</td>\n",
              "      <td>1359</td>\n",
              "      <td>2018-06-08</td>\n",
              "      <td>14.67</td>\n",
              "    </tr>\n",
              "    <tr>\n",
              "      <th>81128</th>\n",
              "      <td>1292_80</td>\n",
              "      <td>1292</td>\n",
              "      <td>2018-08-16</td>\n",
              "      <td>0.00</td>\n",
              "    </tr>\n",
              "    <tr>\n",
              "      <th>100669</th>\n",
              "      <td>1359_553</td>\n",
              "      <td>1359</td>\n",
              "      <td>2018-09-01</td>\n",
              "      <td>8.17</td>\n",
              "    </tr>\n",
              "    <tr>\n",
              "      <th>8991</th>\n",
              "      <td>1041_426</td>\n",
              "      <td>1041</td>\n",
              "      <td>2018-12-22</td>\n",
              "      <td>3.69</td>\n",
              "    </tr>\n",
              "    <tr>\n",
              "      <th>104181</th>\n",
              "      <td>1366_390</td>\n",
              "      <td>1366</td>\n",
              "      <td>2018-09-03</td>\n",
              "      <td>0.00</td>\n",
              "    </tr>\n",
              "    <tr>\n",
              "      <th>98132</th>\n",
              "      <td>1352_496</td>\n",
              "      <td>1352</td>\n",
              "      <td>2018-12-31</td>\n",
              "      <td>2.07</td>\n",
              "    </tr>\n",
              "    <tr>\n",
              "      <th>29308</th>\n",
              "      <td>1110_359</td>\n",
              "      <td>1110</td>\n",
              "      <td>2018-06-04</td>\n",
              "      <td>0.00</td>\n",
              "    </tr>\n",
              "  </tbody>\n",
              "</table>\n",
              "</div>"
            ],
            "text/plain": [
              "              id  user_id   call_date  duration\n",
              "66112   1239_195     1239  2018-12-07     18.24\n",
              "74941   1264_252     1264  2018-06-16      0.00\n",
              "23939   1090_111     1090  2018-09-10      6.51\n",
              "100546  1359_428     1359  2018-06-08     14.67\n",
              "81128    1292_80     1292  2018-08-16      0.00\n",
              "100669  1359_553     1359  2018-09-01      8.17\n",
              "8991    1041_426     1041  2018-12-22      3.69\n",
              "104181  1366_390     1366  2018-09-03      0.00\n",
              "98132   1352_496     1352  2018-12-31      2.07\n",
              "29308   1110_359     1110  2018-06-04      0.00"
            ]
          },
          "metadata": {}
        }
      ],
      "execution_count": 10
    },
    {
      "cell_type": "markdown",
      "source": "* Berdasarkan data diatas, data calls tidak memiliki nilai yang hilang, akan tetapi terdapat tipe data yang salah pada kolom call_date yang bernilai object, nantinya kita akan merubah tipe data tersebut ke tipe data datetime.",
      "metadata": {}
    },
    {
      "cell_type": "markdown",
      "source": "## Pesan/SMS",
      "metadata": {}
    },
    {
      "cell_type": "code",
      "source": "# Tampilkan informasi/rangkuman umum tentang DataFrame SMS\nmessages.info()",
      "metadata": {
        "trusted": true
      },
      "outputs": [
        {
          "name": "stdout",
          "output_type": "stream",
          "text": "<class 'pandas.core.frame.DataFrame'>\n\nRangeIndex: 76051 entries, 0 to 76050\n\nData columns (total 3 columns):\n\n #   Column        Non-Null Count  Dtype \n\n---  ------        --------------  ----- \n\n 0   id            76051 non-null  object\n\n 1   user_id       76051 non-null  int64 \n\n 2   message_date  76051 non-null  object\n\ndtypes: int64(1), object(2)\n\nmemory usage: 1.7+ MB\n"
        }
      ],
      "execution_count": 11
    },
    {
      "cell_type": "code",
      "source": "# Tampilkan sampel data untuk SMS\nmessages.sample(n=5)",
      "metadata": {
        "trusted": true
      },
      "outputs": [
        {
          "execution_count": 12,
          "output_type": "execute_result",
          "data": {
            "text/html": [
              "<div>\n",
              "<style scoped>\n",
              "    .dataframe tbody tr th:only-of-type {\n",
              "        vertical-align: middle;\n",
              "    }\n",
              "\n",
              "    .dataframe tbody tr th {\n",
              "        vertical-align: top;\n",
              "    }\n",
              "\n",
              "    .dataframe thead th {\n",
              "        text-align: right;\n",
              "    }\n",
              "</style>\n",
              "<table border=\"1\" class=\"dataframe\">\n",
              "  <thead>\n",
              "    <tr style=\"text-align: right;\">\n",
              "      <th></th>\n",
              "      <th>id</th>\n",
              "      <th>user_id</th>\n",
              "      <th>message_date</th>\n",
              "    </tr>\n",
              "  </thead>\n",
              "  <tbody>\n",
              "    <tr>\n",
              "      <th>50374</th>\n",
              "      <td>1329_218</td>\n",
              "      <td>1329</td>\n",
              "      <td>2018-10-20</td>\n",
              "    </tr>\n",
              "    <tr>\n",
              "      <th>25732</th>\n",
              "      <td>1155_98</td>\n",
              "      <td>1155</td>\n",
              "      <td>2018-09-29</td>\n",
              "    </tr>\n",
              "    <tr>\n",
              "      <th>15261</th>\n",
              "      <td>1101_318</td>\n",
              "      <td>1101</td>\n",
              "      <td>2018-11-08</td>\n",
              "    </tr>\n",
              "    <tr>\n",
              "      <th>67741</th>\n",
              "      <td>1439_135</td>\n",
              "      <td>1439</td>\n",
              "      <td>2018-09-07</td>\n",
              "    </tr>\n",
              "    <tr>\n",
              "      <th>73357</th>\n",
              "      <td>1470_985</td>\n",
              "      <td>1470</td>\n",
              "      <td>2018-06-18</td>\n",
              "    </tr>\n",
              "  </tbody>\n",
              "</table>\n",
              "</div>"
            ],
            "text/plain": [
              "             id  user_id message_date\n",
              "50374  1329_218     1329   2018-10-20\n",
              "25732   1155_98     1155   2018-09-29\n",
              "15261  1101_318     1101   2018-11-08\n",
              "67741  1439_135     1439   2018-09-07\n",
              "73357  1470_985     1470   2018-06-18"
            ]
          },
          "metadata": {}
        }
      ],
      "execution_count": 12
    },
    {
      "cell_type": "markdown",
      "source": "* Berdasarkan data diatas, data messages tidak memiliki nilai yang hilang, akan tetapi terdapat tipe data yang salah pada kolom message_date yang bernilai object, nantinya kita akan merubah tipe data tersebut ke tipe data datetime.",
      "metadata": {}
    },
    {
      "cell_type": "markdown",
      "source": "## Internet",
      "metadata": {}
    },
    {
      "cell_type": "code",
      "source": "# Tampilkan informasi/rangkuman umum tentang DataFrame internet\ninternet.info()",
      "metadata": {
        "trusted": true
      },
      "outputs": [
        {
          "name": "stdout",
          "output_type": "stream",
          "text": "<class 'pandas.core.frame.DataFrame'>\n\nRangeIndex: 104825 entries, 0 to 104824\n\nData columns (total 4 columns):\n\n #   Column        Non-Null Count   Dtype  \n\n---  ------        --------------   -----  \n\n 0   id            104825 non-null  object \n\n 1   user_id       104825 non-null  int64  \n\n 2   session_date  104825 non-null  object \n\n 3   mb_used       104825 non-null  float64\n\ndtypes: float64(1), int64(1), object(2)\n\nmemory usage: 3.2+ MB\n"
        }
      ],
      "execution_count": 13
    },
    {
      "cell_type": "code",
      "source": "# Tampilkan sampel data untuk traffic internet\ninternet.sample(n=5)",
      "metadata": {
        "trusted": true
      },
      "outputs": [
        {
          "execution_count": 14,
          "output_type": "execute_result",
          "data": {
            "text/html": [
              "<div>\n",
              "<style scoped>\n",
              "    .dataframe tbody tr th:only-of-type {\n",
              "        vertical-align: middle;\n",
              "    }\n",
              "\n",
              "    .dataframe tbody tr th {\n",
              "        vertical-align: top;\n",
              "    }\n",
              "\n",
              "    .dataframe thead th {\n",
              "        text-align: right;\n",
              "    }\n",
              "</style>\n",
              "<table border=\"1\" class=\"dataframe\">\n",
              "  <thead>\n",
              "    <tr style=\"text-align: right;\">\n",
              "      <th></th>\n",
              "      <th>id</th>\n",
              "      <th>user_id</th>\n",
              "      <th>session_date</th>\n",
              "      <th>mb_used</th>\n",
              "    </tr>\n",
              "  </thead>\n",
              "  <tbody>\n",
              "    <tr>\n",
              "      <th>93207</th>\n",
              "      <td>1434_459</td>\n",
              "      <td>1434</td>\n",
              "      <td>2018-05-12</td>\n",
              "      <td>0.00</td>\n",
              "    </tr>\n",
              "    <tr>\n",
              "      <th>95150</th>\n",
              "      <td>1444_101</td>\n",
              "      <td>1444</td>\n",
              "      <td>2018-10-21</td>\n",
              "      <td>510.26</td>\n",
              "    </tr>\n",
              "    <tr>\n",
              "      <th>54703</th>\n",
              "      <td>1247_118</td>\n",
              "      <td>1247</td>\n",
              "      <td>2018-11-07</td>\n",
              "      <td>543.99</td>\n",
              "    </tr>\n",
              "    <tr>\n",
              "      <th>54985</th>\n",
              "      <td>1249_197</td>\n",
              "      <td>1249</td>\n",
              "      <td>2018-07-25</td>\n",
              "      <td>0.00</td>\n",
              "    </tr>\n",
              "    <tr>\n",
              "      <th>42262</th>\n",
              "      <td>1187_439</td>\n",
              "      <td>1187</td>\n",
              "      <td>2018-07-11</td>\n",
              "      <td>401.63</td>\n",
              "    </tr>\n",
              "  </tbody>\n",
              "</table>\n",
              "</div>"
            ],
            "text/plain": [
              "             id  user_id session_date  mb_used\n",
              "93207  1434_459     1434   2018-05-12     0.00\n",
              "95150  1444_101     1444   2018-10-21   510.26\n",
              "54703  1247_118     1247   2018-11-07   543.99\n",
              "54985  1249_197     1249   2018-07-25     0.00\n",
              "42262  1187_439     1187   2018-07-11   401.63"
            ]
          },
          "metadata": {}
        }
      ],
      "execution_count": 14
    },
    {
      "cell_type": "markdown",
      "source": "* Berdasarkan data diatas, data internet tidak memiliki nilai yang hilang, akan tetapi terdapat tipe data yang salah pada kolom session_date yang bernilai object, nantinya kita akan merubah tipe data tersebut ke tipe data datetime.",
      "metadata": {}
    },
    {
      "cell_type": "markdown",
      "source": "## Paket Prabayar",
      "metadata": {}
    },
    {
      "cell_type": "code",
      "source": "# Tampilkan informasi/rangkuman umum tentang DataFrame paket-paket prabayar\nplans.info()",
      "metadata": {
        "trusted": true
      },
      "outputs": [
        {
          "name": "stdout",
          "output_type": "stream",
          "text": "<class 'pandas.core.frame.DataFrame'>\n\nRangeIndex: 2 entries, 0 to 1\n\nData columns (total 8 columns):\n\n #   Column                 Non-Null Count  Dtype  \n\n---  ------                 --------------  -----  \n\n 0   messages_included      2 non-null      int64  \n\n 1   mb_per_month_included  2 non-null      int64  \n\n 2   minutes_included       2 non-null      int64  \n\n 3   usd_monthly_pay        2 non-null      int64  \n\n 4   usd_per_gb             2 non-null      int64  \n\n 5   usd_per_message        2 non-null      float64\n\n 6   usd_per_minute         2 non-null      float64\n\n 7   plan_name              2 non-null      object \n\ndtypes: float64(2), int64(5), object(1)\n\nmemory usage: 256.0+ bytes\n"
        }
      ],
      "execution_count": 15
    },
    {
      "cell_type": "code",
      "source": "# Tampilkan sampel data untuk paket-paket tersebut\nplans.sample(n=2)",
      "metadata": {
        "trusted": true
      },
      "outputs": [
        {
          "execution_count": 16,
          "output_type": "execute_result",
          "data": {
            "text/html": [
              "<div>\n",
              "<style scoped>\n",
              "    .dataframe tbody tr th:only-of-type {\n",
              "        vertical-align: middle;\n",
              "    }\n",
              "\n",
              "    .dataframe tbody tr th {\n",
              "        vertical-align: top;\n",
              "    }\n",
              "\n",
              "    .dataframe thead th {\n",
              "        text-align: right;\n",
              "    }\n",
              "</style>\n",
              "<table border=\"1\" class=\"dataframe\">\n",
              "  <thead>\n",
              "    <tr style=\"text-align: right;\">\n",
              "      <th></th>\n",
              "      <th>messages_included</th>\n",
              "      <th>mb_per_month_included</th>\n",
              "      <th>minutes_included</th>\n",
              "      <th>usd_monthly_pay</th>\n",
              "      <th>usd_per_gb</th>\n",
              "      <th>usd_per_message</th>\n",
              "      <th>usd_per_minute</th>\n",
              "      <th>plan_name</th>\n",
              "    </tr>\n",
              "  </thead>\n",
              "  <tbody>\n",
              "    <tr>\n",
              "      <th>1</th>\n",
              "      <td>1000</td>\n",
              "      <td>30720</td>\n",
              "      <td>3000</td>\n",
              "      <td>70</td>\n",
              "      <td>7</td>\n",
              "      <td>0.01</td>\n",
              "      <td>0.01</td>\n",
              "      <td>ultimate</td>\n",
              "    </tr>\n",
              "    <tr>\n",
              "      <th>0</th>\n",
              "      <td>50</td>\n",
              "      <td>15360</td>\n",
              "      <td>500</td>\n",
              "      <td>20</td>\n",
              "      <td>10</td>\n",
              "      <td>0.03</td>\n",
              "      <td>0.03</td>\n",
              "      <td>surf</td>\n",
              "    </tr>\n",
              "  </tbody>\n",
              "</table>\n",
              "</div>"
            ],
            "text/plain": [
              "   messages_included  mb_per_month_included  minutes_included  \\\n",
              "1               1000                  30720              3000   \n",
              "0                 50                  15360               500   \n",
              "\n",
              "   usd_monthly_pay  usd_per_gb  usd_per_message  usd_per_minute plan_name  \n",
              "1               70           7             0.01            0.01  ultimate  \n",
              "0               20          10             0.03            0.03      surf  "
            ]
          },
          "metadata": {}
        }
      ],
      "execution_count": 16
    },
    {
      "cell_type": "markdown",
      "source": "* Berdasarkan data diatas, data plans aman dari masalah, semua tipe data benar, tidak terdapat missing values, tidak terdapat duplikat juga. Dan nantinya kita tinggal memperbaiki nilai pada data tersebut sesuai ketentuan yang di minta",
      "metadata": {}
    },
    {
      "cell_type": "code",
      "source": "# cek duplikasi\nprint('message duplicate', messages.duplicated().sum())\nprint('internet duplicate', internet.duplicated().sum())\nprint('calls duplicate', calls.duplicated().sum())\nprint('users duplicate', users.duplicated().sum())",
      "metadata": {
        "trusted": true
      },
      "outputs": [
        {
          "name": "stdout",
          "output_type": "stream",
          "text": "message duplicate 0\n\ninternet duplicate 0\n\ncalls duplicate 0\n\nusers duplicate 0\n"
        }
      ],
      "execution_count": 17
    },
    {
      "cell_type": "markdown",
      "source": "**Kesimpulan Sementara**\n\n1. Tidak ada missing value dan nilai duplikat pada dataset\n2. Tipe data pada data tanggal masih dalam format string dan perlu di ubah ke format datetime\n3. Kelima dataset harus dijadikan satu\n4. Semua definisi dalam satu row harus dalam format bulanan",
      "metadata": {}
    },
    {
      "cell_type": "markdown",
      "source": "# Data Preparation",
      "metadata": {}
    },
    {
      "cell_type": "markdown",
      "source": "## Mempersiapkan Data",
      "metadata": {}
    },
    {
      "cell_type": "code",
      "source": "# Buat function untuk mendapatkan tahun-bulan dari tiap row\ndef to_month(dataset, col_name):\n    temp = pd.to_datetime(dataset[col_name])\n    temp = temp.dt.to_period(\"M\")\n    return temp",
      "metadata": {
        "trusted": true
      },
      "outputs": [],
      "execution_count": 18
    },
    {
      "cell_type": "code",
      "source": "# Bikin kolom year-month di table calls\ncalls['month'] = to_month(calls, 'call_date')\ncalls.head()",
      "metadata": {
        "trusted": true
      },
      "outputs": [
        {
          "execution_count": 19,
          "output_type": "execute_result",
          "data": {
            "text/html": [
              "<div>\n",
              "<style scoped>\n",
              "    .dataframe tbody tr th:only-of-type {\n",
              "        vertical-align: middle;\n",
              "    }\n",
              "\n",
              "    .dataframe tbody tr th {\n",
              "        vertical-align: top;\n",
              "    }\n",
              "\n",
              "    .dataframe thead th {\n",
              "        text-align: right;\n",
              "    }\n",
              "</style>\n",
              "<table border=\"1\" class=\"dataframe\">\n",
              "  <thead>\n",
              "    <tr style=\"text-align: right;\">\n",
              "      <th></th>\n",
              "      <th>id</th>\n",
              "      <th>user_id</th>\n",
              "      <th>call_date</th>\n",
              "      <th>duration</th>\n",
              "      <th>month</th>\n",
              "    </tr>\n",
              "  </thead>\n",
              "  <tbody>\n",
              "    <tr>\n",
              "      <th>0</th>\n",
              "      <td>1000_93</td>\n",
              "      <td>1000</td>\n",
              "      <td>2018-12-27</td>\n",
              "      <td>8.52</td>\n",
              "      <td>2018-12</td>\n",
              "    </tr>\n",
              "    <tr>\n",
              "      <th>1</th>\n",
              "      <td>1000_145</td>\n",
              "      <td>1000</td>\n",
              "      <td>2018-12-27</td>\n",
              "      <td>13.66</td>\n",
              "      <td>2018-12</td>\n",
              "    </tr>\n",
              "    <tr>\n",
              "      <th>2</th>\n",
              "      <td>1000_247</td>\n",
              "      <td>1000</td>\n",
              "      <td>2018-12-27</td>\n",
              "      <td>14.48</td>\n",
              "      <td>2018-12</td>\n",
              "    </tr>\n",
              "    <tr>\n",
              "      <th>3</th>\n",
              "      <td>1000_309</td>\n",
              "      <td>1000</td>\n",
              "      <td>2018-12-28</td>\n",
              "      <td>5.76</td>\n",
              "      <td>2018-12</td>\n",
              "    </tr>\n",
              "    <tr>\n",
              "      <th>4</th>\n",
              "      <td>1000_380</td>\n",
              "      <td>1000</td>\n",
              "      <td>2018-12-30</td>\n",
              "      <td>4.22</td>\n",
              "      <td>2018-12</td>\n",
              "    </tr>\n",
              "  </tbody>\n",
              "</table>\n",
              "</div>"
            ],
            "text/plain": [
              "         id  user_id   call_date  duration    month\n",
              "0   1000_93     1000  2018-12-27      8.52  2018-12\n",
              "1  1000_145     1000  2018-12-27     13.66  2018-12\n",
              "2  1000_247     1000  2018-12-27     14.48  2018-12\n",
              "3  1000_309     1000  2018-12-28      5.76  2018-12\n",
              "4  1000_380     1000  2018-12-30      4.22  2018-12"
            ]
          },
          "metadata": {}
        }
      ],
      "execution_count": 19
    },
    {
      "cell_type": "code",
      "source": "# Bikin kolom year-month di table messages\nmessages['month'] = to_month(messages, 'message_date')\nmessages.head()",
      "metadata": {
        "trusted": true
      },
      "outputs": [
        {
          "execution_count": 20,
          "output_type": "execute_result",
          "data": {
            "text/html": [
              "<div>\n",
              "<style scoped>\n",
              "    .dataframe tbody tr th:only-of-type {\n",
              "        vertical-align: middle;\n",
              "    }\n",
              "\n",
              "    .dataframe tbody tr th {\n",
              "        vertical-align: top;\n",
              "    }\n",
              "\n",
              "    .dataframe thead th {\n",
              "        text-align: right;\n",
              "    }\n",
              "</style>\n",
              "<table border=\"1\" class=\"dataframe\">\n",
              "  <thead>\n",
              "    <tr style=\"text-align: right;\">\n",
              "      <th></th>\n",
              "      <th>id</th>\n",
              "      <th>user_id</th>\n",
              "      <th>message_date</th>\n",
              "      <th>month</th>\n",
              "    </tr>\n",
              "  </thead>\n",
              "  <tbody>\n",
              "    <tr>\n",
              "      <th>0</th>\n",
              "      <td>1000_125</td>\n",
              "      <td>1000</td>\n",
              "      <td>2018-12-27</td>\n",
              "      <td>2018-12</td>\n",
              "    </tr>\n",
              "    <tr>\n",
              "      <th>1</th>\n",
              "      <td>1000_160</td>\n",
              "      <td>1000</td>\n",
              "      <td>2018-12-31</td>\n",
              "      <td>2018-12</td>\n",
              "    </tr>\n",
              "    <tr>\n",
              "      <th>2</th>\n",
              "      <td>1000_223</td>\n",
              "      <td>1000</td>\n",
              "      <td>2018-12-31</td>\n",
              "      <td>2018-12</td>\n",
              "    </tr>\n",
              "    <tr>\n",
              "      <th>3</th>\n",
              "      <td>1000_251</td>\n",
              "      <td>1000</td>\n",
              "      <td>2018-12-27</td>\n",
              "      <td>2018-12</td>\n",
              "    </tr>\n",
              "    <tr>\n",
              "      <th>4</th>\n",
              "      <td>1000_255</td>\n",
              "      <td>1000</td>\n",
              "      <td>2018-12-26</td>\n",
              "      <td>2018-12</td>\n",
              "    </tr>\n",
              "  </tbody>\n",
              "</table>\n",
              "</div>"
            ],
            "text/plain": [
              "         id  user_id message_date    month\n",
              "0  1000_125     1000   2018-12-27  2018-12\n",
              "1  1000_160     1000   2018-12-31  2018-12\n",
              "2  1000_223     1000   2018-12-31  2018-12\n",
              "3  1000_251     1000   2018-12-27  2018-12\n",
              "4  1000_255     1000   2018-12-26  2018-12"
            ]
          },
          "metadata": {}
        }
      ],
      "execution_count": 20
    },
    {
      "cell_type": "code",
      "source": "# Bikin kolom year-month di table internet\ninternet['month'] = to_month(internet, 'session_date')\ninternet.head()",
      "metadata": {
        "trusted": true
      },
      "outputs": [
        {
          "execution_count": 21,
          "output_type": "execute_result",
          "data": {
            "text/html": [
              "<div>\n",
              "<style scoped>\n",
              "    .dataframe tbody tr th:only-of-type {\n",
              "        vertical-align: middle;\n",
              "    }\n",
              "\n",
              "    .dataframe tbody tr th {\n",
              "        vertical-align: top;\n",
              "    }\n",
              "\n",
              "    .dataframe thead th {\n",
              "        text-align: right;\n",
              "    }\n",
              "</style>\n",
              "<table border=\"1\" class=\"dataframe\">\n",
              "  <thead>\n",
              "    <tr style=\"text-align: right;\">\n",
              "      <th></th>\n",
              "      <th>id</th>\n",
              "      <th>user_id</th>\n",
              "      <th>session_date</th>\n",
              "      <th>mb_used</th>\n",
              "      <th>month</th>\n",
              "    </tr>\n",
              "  </thead>\n",
              "  <tbody>\n",
              "    <tr>\n",
              "      <th>0</th>\n",
              "      <td>1000_13</td>\n",
              "      <td>1000</td>\n",
              "      <td>2018-12-29</td>\n",
              "      <td>89.86</td>\n",
              "      <td>2018-12</td>\n",
              "    </tr>\n",
              "    <tr>\n",
              "      <th>1</th>\n",
              "      <td>1000_204</td>\n",
              "      <td>1000</td>\n",
              "      <td>2018-12-31</td>\n",
              "      <td>0.00</td>\n",
              "      <td>2018-12</td>\n",
              "    </tr>\n",
              "    <tr>\n",
              "      <th>2</th>\n",
              "      <td>1000_379</td>\n",
              "      <td>1000</td>\n",
              "      <td>2018-12-28</td>\n",
              "      <td>660.40</td>\n",
              "      <td>2018-12</td>\n",
              "    </tr>\n",
              "    <tr>\n",
              "      <th>3</th>\n",
              "      <td>1000_413</td>\n",
              "      <td>1000</td>\n",
              "      <td>2018-12-26</td>\n",
              "      <td>270.99</td>\n",
              "      <td>2018-12</td>\n",
              "    </tr>\n",
              "    <tr>\n",
              "      <th>4</th>\n",
              "      <td>1000_442</td>\n",
              "      <td>1000</td>\n",
              "      <td>2018-12-27</td>\n",
              "      <td>880.22</td>\n",
              "      <td>2018-12</td>\n",
              "    </tr>\n",
              "  </tbody>\n",
              "</table>\n",
              "</div>"
            ],
            "text/plain": [
              "         id  user_id session_date  mb_used    month\n",
              "0   1000_13     1000   2018-12-29    89.86  2018-12\n",
              "1  1000_204     1000   2018-12-31     0.00  2018-12\n",
              "2  1000_379     1000   2018-12-28   660.40  2018-12\n",
              "3  1000_413     1000   2018-12-26   270.99  2018-12\n",
              "4  1000_442     1000   2018-12-27   880.22  2018-12"
            ]
          },
          "metadata": {}
        }
      ],
      "execution_count": 21
    },
    {
      "cell_type": "markdown",
      "source": "* Tipe data pada data tanggal yang awalnya dalam format string telah di ubah ke format datetime",
      "metadata": {}
    },
    {
      "cell_type": "code",
      "source": "# Cek data city di table users\nusers['city'].value_counts()",
      "metadata": {
        "trusted": true
      },
      "outputs": [
        {
          "execution_count": 22,
          "output_type": "execute_result",
          "data": {
            "text/plain": [
              "New York-Newark-Jersey City, NY-NJ-PA MSA          80\n",
              "Los Angeles-Long Beach-Anaheim, CA MSA             29\n",
              "Dallas-Fort Worth-Arlington, TX MSA                21\n",
              "Chicago-Naperville-Elgin, IL-IN-WI MSA             19\n",
              "Philadelphia-Camden-Wilmington, PA-NJ-DE-MD MSA    17\n",
              "                                                   ..\n",
              "Cape Coral-Fort Myers, FL MSA                       1\n",
              "Greensboro-High Point, NC MSA                       1\n",
              "Albany-Schenectady-Troy, NY MSA                     1\n",
              "Raleigh-Cary, NC MSA                                1\n",
              "Stockton, CA MSA                                    1\n",
              "Name: city, Length: 73, dtype: int64"
            ]
          },
          "metadata": {}
        }
      ],
      "execution_count": 22
    },
    {
      "cell_type": "code",
      "source": "# Bersihkan data city di table users\nusers['clean_city'] = users['city'].str.split(', ').str[1]\nusers['clean_city'] = users['clean_city'].str.replace(' MSA', '')\nusers.head()",
      "metadata": {
        "trusted": true
      },
      "outputs": [
        {
          "execution_count": 23,
          "output_type": "execute_result",
          "data": {
            "text/html": [
              "<div>\n",
              "<style scoped>\n",
              "    .dataframe tbody tr th:only-of-type {\n",
              "        vertical-align: middle;\n",
              "    }\n",
              "\n",
              "    .dataframe tbody tr th {\n",
              "        vertical-align: top;\n",
              "    }\n",
              "\n",
              "    .dataframe thead th {\n",
              "        text-align: right;\n",
              "    }\n",
              "</style>\n",
              "<table border=\"1\" class=\"dataframe\">\n",
              "  <thead>\n",
              "    <tr style=\"text-align: right;\">\n",
              "      <th></th>\n",
              "      <th>user_id</th>\n",
              "      <th>first_name</th>\n",
              "      <th>last_name</th>\n",
              "      <th>age</th>\n",
              "      <th>city</th>\n",
              "      <th>reg_date</th>\n",
              "      <th>plan</th>\n",
              "      <th>churn_date</th>\n",
              "      <th>clean_city</th>\n",
              "    </tr>\n",
              "  </thead>\n",
              "  <tbody>\n",
              "    <tr>\n",
              "      <th>0</th>\n",
              "      <td>1000</td>\n",
              "      <td>Anamaria</td>\n",
              "      <td>Bauer</td>\n",
              "      <td>45</td>\n",
              "      <td>Atlanta-Sandy Springs-Roswell, GA MSA</td>\n",
              "      <td>2018-12-24</td>\n",
              "      <td>ultimate</td>\n",
              "      <td>NaN</td>\n",
              "      <td>GA</td>\n",
              "    </tr>\n",
              "    <tr>\n",
              "      <th>1</th>\n",
              "      <td>1001</td>\n",
              "      <td>Mickey</td>\n",
              "      <td>Wilkerson</td>\n",
              "      <td>28</td>\n",
              "      <td>Seattle-Tacoma-Bellevue, WA MSA</td>\n",
              "      <td>2018-08-13</td>\n",
              "      <td>surf</td>\n",
              "      <td>NaN</td>\n",
              "      <td>WA</td>\n",
              "    </tr>\n",
              "    <tr>\n",
              "      <th>2</th>\n",
              "      <td>1002</td>\n",
              "      <td>Carlee</td>\n",
              "      <td>Hoffman</td>\n",
              "      <td>36</td>\n",
              "      <td>Las Vegas-Henderson-Paradise, NV MSA</td>\n",
              "      <td>2018-10-21</td>\n",
              "      <td>surf</td>\n",
              "      <td>NaN</td>\n",
              "      <td>NV</td>\n",
              "    </tr>\n",
              "    <tr>\n",
              "      <th>3</th>\n",
              "      <td>1003</td>\n",
              "      <td>Reynaldo</td>\n",
              "      <td>Jenkins</td>\n",
              "      <td>52</td>\n",
              "      <td>Tulsa, OK MSA</td>\n",
              "      <td>2018-01-28</td>\n",
              "      <td>surf</td>\n",
              "      <td>NaN</td>\n",
              "      <td>OK</td>\n",
              "    </tr>\n",
              "    <tr>\n",
              "      <th>4</th>\n",
              "      <td>1004</td>\n",
              "      <td>Leonila</td>\n",
              "      <td>Thompson</td>\n",
              "      <td>40</td>\n",
              "      <td>Seattle-Tacoma-Bellevue, WA MSA</td>\n",
              "      <td>2018-05-23</td>\n",
              "      <td>surf</td>\n",
              "      <td>NaN</td>\n",
              "      <td>WA</td>\n",
              "    </tr>\n",
              "  </tbody>\n",
              "</table>\n",
              "</div>"
            ],
            "text/plain": [
              "   user_id first_name  last_name  age                                   city  \\\n",
              "0     1000   Anamaria      Bauer   45  Atlanta-Sandy Springs-Roswell, GA MSA   \n",
              "1     1001     Mickey  Wilkerson   28        Seattle-Tacoma-Bellevue, WA MSA   \n",
              "2     1002     Carlee    Hoffman   36   Las Vegas-Henderson-Paradise, NV MSA   \n",
              "3     1003   Reynaldo    Jenkins   52                          Tulsa, OK MSA   \n",
              "4     1004    Leonila   Thompson   40        Seattle-Tacoma-Bellevue, WA MSA   \n",
              "\n",
              "     reg_date      plan churn_date clean_city  \n",
              "0  2018-12-24  ultimate        NaN         GA  \n",
              "1  2018-08-13      surf        NaN         WA  \n",
              "2  2018-10-21      surf        NaN         NV  \n",
              "3  2018-01-28      surf        NaN         OK  \n",
              "4  2018-05-23      surf        NaN         WA  "
            ]
          },
          "metadata": {}
        }
      ],
      "execution_count": 23
    },
    {
      "cell_type": "code",
      "source": "# Bikin kolom penanda bahwa daerah tersebut NY-NJ dan lain2\nusers['is-nynj'] = users['clean_city'].str.contains('NY-NJ', regex=True)\nusers['is-nynj'] = users['is-nynj'].replace(True, 1).replace(False, 0)\nusers.tail()",
      "metadata": {
        "trusted": true
      },
      "outputs": [
        {
          "execution_count": 24,
          "output_type": "execute_result",
          "data": {
            "text/html": [
              "<div>\n",
              "<style scoped>\n",
              "    .dataframe tbody tr th:only-of-type {\n",
              "        vertical-align: middle;\n",
              "    }\n",
              "\n",
              "    .dataframe tbody tr th {\n",
              "        vertical-align: top;\n",
              "    }\n",
              "\n",
              "    .dataframe thead th {\n",
              "        text-align: right;\n",
              "    }\n",
              "</style>\n",
              "<table border=\"1\" class=\"dataframe\">\n",
              "  <thead>\n",
              "    <tr style=\"text-align: right;\">\n",
              "      <th></th>\n",
              "      <th>user_id</th>\n",
              "      <th>first_name</th>\n",
              "      <th>last_name</th>\n",
              "      <th>age</th>\n",
              "      <th>city</th>\n",
              "      <th>reg_date</th>\n",
              "      <th>plan</th>\n",
              "      <th>churn_date</th>\n",
              "      <th>clean_city</th>\n",
              "      <th>is-nynj</th>\n",
              "    </tr>\n",
              "  </thead>\n",
              "  <tbody>\n",
              "    <tr>\n",
              "      <th>495</th>\n",
              "      <td>1495</td>\n",
              "      <td>Fidel</td>\n",
              "      <td>Sharpe</td>\n",
              "      <td>67</td>\n",
              "      <td>New York-Newark-Jersey City, NY-NJ-PA MSA</td>\n",
              "      <td>2018-09-04</td>\n",
              "      <td>surf</td>\n",
              "      <td>NaN</td>\n",
              "      <td>NY-NJ-PA</td>\n",
              "      <td>1</td>\n",
              "    </tr>\n",
              "    <tr>\n",
              "      <th>496</th>\n",
              "      <td>1496</td>\n",
              "      <td>Ariel</td>\n",
              "      <td>Shepherd</td>\n",
              "      <td>49</td>\n",
              "      <td>New Orleans-Metairie, LA MSA</td>\n",
              "      <td>2018-02-20</td>\n",
              "      <td>surf</td>\n",
              "      <td>NaN</td>\n",
              "      <td>LA</td>\n",
              "      <td>0</td>\n",
              "    </tr>\n",
              "    <tr>\n",
              "      <th>497</th>\n",
              "      <td>1497</td>\n",
              "      <td>Donte</td>\n",
              "      <td>Barrera</td>\n",
              "      <td>49</td>\n",
              "      <td>Los Angeles-Long Beach-Anaheim, CA MSA</td>\n",
              "      <td>2018-12-10</td>\n",
              "      <td>ultimate</td>\n",
              "      <td>NaN</td>\n",
              "      <td>CA</td>\n",
              "      <td>0</td>\n",
              "    </tr>\n",
              "    <tr>\n",
              "      <th>498</th>\n",
              "      <td>1498</td>\n",
              "      <td>Scot</td>\n",
              "      <td>Williamson</td>\n",
              "      <td>51</td>\n",
              "      <td>New York-Newark-Jersey City, NY-NJ-PA MSA</td>\n",
              "      <td>2018-02-04</td>\n",
              "      <td>surf</td>\n",
              "      <td>NaN</td>\n",
              "      <td>NY-NJ-PA</td>\n",
              "      <td>1</td>\n",
              "    </tr>\n",
              "    <tr>\n",
              "      <th>499</th>\n",
              "      <td>1499</td>\n",
              "      <td>Shena</td>\n",
              "      <td>Dickson</td>\n",
              "      <td>37</td>\n",
              "      <td>Orlando-Kissimmee-Sanford, FL MSA</td>\n",
              "      <td>2018-05-06</td>\n",
              "      <td>surf</td>\n",
              "      <td>NaN</td>\n",
              "      <td>FL</td>\n",
              "      <td>0</td>\n",
              "    </tr>\n",
              "  </tbody>\n",
              "</table>\n",
              "</div>"
            ],
            "text/plain": [
              "     user_id first_name   last_name  age  \\\n",
              "495     1495      Fidel      Sharpe   67   \n",
              "496     1496      Ariel    Shepherd   49   \n",
              "497     1497      Donte     Barrera   49   \n",
              "498     1498       Scot  Williamson   51   \n",
              "499     1499      Shena     Dickson   37   \n",
              "\n",
              "                                          city    reg_date      plan  \\\n",
              "495  New York-Newark-Jersey City, NY-NJ-PA MSA  2018-09-04      surf   \n",
              "496               New Orleans-Metairie, LA MSA  2018-02-20      surf   \n",
              "497     Los Angeles-Long Beach-Anaheim, CA MSA  2018-12-10  ultimate   \n",
              "498  New York-Newark-Jersey City, NY-NJ-PA MSA  2018-02-04      surf   \n",
              "499          Orlando-Kissimmee-Sanford, FL MSA  2018-05-06      surf   \n",
              "\n",
              "    churn_date clean_city  is-nynj  \n",
              "495        NaN   NY-NJ-PA        1  \n",
              "496        NaN         LA        0  \n",
              "497        NaN         CA        0  \n",
              "498        NaN   NY-NJ-PA        1  \n",
              "499        NaN         FL        0  "
            ]
          },
          "metadata": {}
        }
      ],
      "execution_count": 24
    },
    {
      "cell_type": "markdown",
      "source": "**Kesimpulan sementara**\n1. Tipe data pada data tanggal yang awalnya dalam format string telah di ubah ke format datetime\n2. Menambahkan kolom baru clean_city yang telah dibersihkan dan berisi singkatan atau kode kota untuk mempermudah proses analisis\n3. Memfilter clean_city yang berisi kota NY-NJ, jika true maka tampilkan 1, jika false tampilkan 0 pada kolom baru is_nynj",
      "metadata": {}
    },
    {
      "cell_type": "markdown",
      "source": "## Memperbaiki Data",
      "metadata": {}
    },
    {
      "cell_type": "code",
      "source": "# Pembulatan ke atas untuk kolom duration call\ncalls['duration_rounded'] = np.ceil(calls['duration']).astype('int16')\ncalls.head()",
      "metadata": {
        "scrolled": true,
        "trusted": true
      },
      "outputs": [
        {
          "execution_count": 25,
          "output_type": "execute_result",
          "data": {
            "text/html": [
              "<div>\n",
              "<style scoped>\n",
              "    .dataframe tbody tr th:only-of-type {\n",
              "        vertical-align: middle;\n",
              "    }\n",
              "\n",
              "    .dataframe tbody tr th {\n",
              "        vertical-align: top;\n",
              "    }\n",
              "\n",
              "    .dataframe thead th {\n",
              "        text-align: right;\n",
              "    }\n",
              "</style>\n",
              "<table border=\"1\" class=\"dataframe\">\n",
              "  <thead>\n",
              "    <tr style=\"text-align: right;\">\n",
              "      <th></th>\n",
              "      <th>id</th>\n",
              "      <th>user_id</th>\n",
              "      <th>call_date</th>\n",
              "      <th>duration</th>\n",
              "      <th>month</th>\n",
              "      <th>duration_rounded</th>\n",
              "    </tr>\n",
              "  </thead>\n",
              "  <tbody>\n",
              "    <tr>\n",
              "      <th>0</th>\n",
              "      <td>1000_93</td>\n",
              "      <td>1000</td>\n",
              "      <td>2018-12-27</td>\n",
              "      <td>8.52</td>\n",
              "      <td>2018-12</td>\n",
              "      <td>9</td>\n",
              "    </tr>\n",
              "    <tr>\n",
              "      <th>1</th>\n",
              "      <td>1000_145</td>\n",
              "      <td>1000</td>\n",
              "      <td>2018-12-27</td>\n",
              "      <td>13.66</td>\n",
              "      <td>2018-12</td>\n",
              "      <td>14</td>\n",
              "    </tr>\n",
              "    <tr>\n",
              "      <th>2</th>\n",
              "      <td>1000_247</td>\n",
              "      <td>1000</td>\n",
              "      <td>2018-12-27</td>\n",
              "      <td>14.48</td>\n",
              "      <td>2018-12</td>\n",
              "      <td>15</td>\n",
              "    </tr>\n",
              "    <tr>\n",
              "      <th>3</th>\n",
              "      <td>1000_309</td>\n",
              "      <td>1000</td>\n",
              "      <td>2018-12-28</td>\n",
              "      <td>5.76</td>\n",
              "      <td>2018-12</td>\n",
              "      <td>6</td>\n",
              "    </tr>\n",
              "    <tr>\n",
              "      <th>4</th>\n",
              "      <td>1000_380</td>\n",
              "      <td>1000</td>\n",
              "      <td>2018-12-30</td>\n",
              "      <td>4.22</td>\n",
              "      <td>2018-12</td>\n",
              "      <td>5</td>\n",
              "    </tr>\n",
              "  </tbody>\n",
              "</table>\n",
              "</div>"
            ],
            "text/plain": [
              "         id  user_id   call_date  duration    month  duration_rounded\n",
              "0   1000_93     1000  2018-12-27      8.52  2018-12                 9\n",
              "1  1000_145     1000  2018-12-27     13.66  2018-12                14\n",
              "2  1000_247     1000  2018-12-27     14.48  2018-12                15\n",
              "3  1000_309     1000  2018-12-28      5.76  2018-12                 6\n",
              "4  1000_380     1000  2018-12-30      4.22  2018-12                 5"
            ]
          },
          "metadata": {}
        }
      ],
      "execution_count": 25
    },
    {
      "cell_type": "markdown",
      "source": "* Memperbaiki tipe data duration pada kolom calls",
      "metadata": {}
    },
    {
      "cell_type": "markdown",
      "source": "**Mengagregasi Data per Pengguna**\n\nMengagregasikan data setiap pengguna per periode agar kita hanya memiliki satu catatan per pengguna per periode.",
      "metadata": {}
    },
    {
      "cell_type": "code",
      "source": "# Hitung jumlah panggilan yang dilakukan oleh setiap pengguna per bulan. Simpan hasilnya.\ncalls_agg = calls.groupby(['user_id','month']).agg({\n    'id':'count',\n    'duration_rounded':'sum'\n}).reset_index().rename(columns={\n    'id' : 'counts_calls',\n    'duration_rounded': 'total_duration'\n})\ncalls_agg",
      "metadata": {
        "trusted": true
      },
      "outputs": [
        {
          "execution_count": 26,
          "output_type": "execute_result",
          "data": {
            "text/html": [
              "<div>\n",
              "<style scoped>\n",
              "    .dataframe tbody tr th:only-of-type {\n",
              "        vertical-align: middle;\n",
              "    }\n",
              "\n",
              "    .dataframe tbody tr th {\n",
              "        vertical-align: top;\n",
              "    }\n",
              "\n",
              "    .dataframe thead th {\n",
              "        text-align: right;\n",
              "    }\n",
              "</style>\n",
              "<table border=\"1\" class=\"dataframe\">\n",
              "  <thead>\n",
              "    <tr style=\"text-align: right;\">\n",
              "      <th></th>\n",
              "      <th>user_id</th>\n",
              "      <th>month</th>\n",
              "      <th>counts_calls</th>\n",
              "      <th>total_duration</th>\n",
              "    </tr>\n",
              "  </thead>\n",
              "  <tbody>\n",
              "    <tr>\n",
              "      <th>0</th>\n",
              "      <td>1000</td>\n",
              "      <td>2018-12</td>\n",
              "      <td>16</td>\n",
              "      <td>124</td>\n",
              "    </tr>\n",
              "    <tr>\n",
              "      <th>1</th>\n",
              "      <td>1001</td>\n",
              "      <td>2018-08</td>\n",
              "      <td>27</td>\n",
              "      <td>182</td>\n",
              "    </tr>\n",
              "    <tr>\n",
              "      <th>2</th>\n",
              "      <td>1001</td>\n",
              "      <td>2018-09</td>\n",
              "      <td>49</td>\n",
              "      <td>315</td>\n",
              "    </tr>\n",
              "    <tr>\n",
              "      <th>3</th>\n",
              "      <td>1001</td>\n",
              "      <td>2018-10</td>\n",
              "      <td>65</td>\n",
              "      <td>393</td>\n",
              "    </tr>\n",
              "    <tr>\n",
              "      <th>4</th>\n",
              "      <td>1001</td>\n",
              "      <td>2018-11</td>\n",
              "      <td>64</td>\n",
              "      <td>426</td>\n",
              "    </tr>\n",
              "    <tr>\n",
              "      <th>...</th>\n",
              "      <td>...</td>\n",
              "      <td>...</td>\n",
              "      <td>...</td>\n",
              "      <td>...</td>\n",
              "    </tr>\n",
              "    <tr>\n",
              "      <th>2253</th>\n",
              "      <td>1498</td>\n",
              "      <td>2018-12</td>\n",
              "      <td>39</td>\n",
              "      <td>339</td>\n",
              "    </tr>\n",
              "    <tr>\n",
              "      <th>2254</th>\n",
              "      <td>1499</td>\n",
              "      <td>2018-09</td>\n",
              "      <td>41</td>\n",
              "      <td>346</td>\n",
              "    </tr>\n",
              "    <tr>\n",
              "      <th>2255</th>\n",
              "      <td>1499</td>\n",
              "      <td>2018-10</td>\n",
              "      <td>53</td>\n",
              "      <td>385</td>\n",
              "    </tr>\n",
              "    <tr>\n",
              "      <th>2256</th>\n",
              "      <td>1499</td>\n",
              "      <td>2018-11</td>\n",
              "      <td>45</td>\n",
              "      <td>308</td>\n",
              "    </tr>\n",
              "    <tr>\n",
              "      <th>2257</th>\n",
              "      <td>1499</td>\n",
              "      <td>2018-12</td>\n",
              "      <td>65</td>\n",
              "      <td>496</td>\n",
              "    </tr>\n",
              "  </tbody>\n",
              "</table>\n",
              "<p>2258 rows × 4 columns</p>\n",
              "</div>"
            ],
            "text/plain": [
              "      user_id    month  counts_calls  total_duration\n",
              "0        1000  2018-12            16             124\n",
              "1        1001  2018-08            27             182\n",
              "2        1001  2018-09            49             315\n",
              "3        1001  2018-10            65             393\n",
              "4        1001  2018-11            64             426\n",
              "...       ...      ...           ...             ...\n",
              "2253     1498  2018-12            39             339\n",
              "2254     1499  2018-09            41             346\n",
              "2255     1499  2018-10            53             385\n",
              "2256     1499  2018-11            45             308\n",
              "2257     1499  2018-12            65             496\n",
              "\n",
              "[2258 rows x 4 columns]"
            ]
          },
          "metadata": {}
        }
      ],
      "execution_count": 26
    },
    {
      "cell_type": "code",
      "source": "# internet calls per month\ninternet_agg = pd.pivot_table(internet,\n                           index=['user_id', 'month'],\n                           values='mb_used',\n                           aggfunc='sum').reset_index()\ninternet_agg.head()",
      "metadata": {
        "trusted": true
      },
      "outputs": [
        {
          "execution_count": 27,
          "output_type": "execute_result",
          "data": {
            "text/html": [
              "<div>\n",
              "<style scoped>\n",
              "    .dataframe tbody tr th:only-of-type {\n",
              "        vertical-align: middle;\n",
              "    }\n",
              "\n",
              "    .dataframe tbody tr th {\n",
              "        vertical-align: top;\n",
              "    }\n",
              "\n",
              "    .dataframe thead th {\n",
              "        text-align: right;\n",
              "    }\n",
              "</style>\n",
              "<table border=\"1\" class=\"dataframe\">\n",
              "  <thead>\n",
              "    <tr style=\"text-align: right;\">\n",
              "      <th></th>\n",
              "      <th>user_id</th>\n",
              "      <th>month</th>\n",
              "      <th>mb_used</th>\n",
              "    </tr>\n",
              "  </thead>\n",
              "  <tbody>\n",
              "    <tr>\n",
              "      <th>0</th>\n",
              "      <td>1000</td>\n",
              "      <td>2018-12</td>\n",
              "      <td>1901.47</td>\n",
              "    </tr>\n",
              "    <tr>\n",
              "      <th>1</th>\n",
              "      <td>1001</td>\n",
              "      <td>2018-08</td>\n",
              "      <td>6919.15</td>\n",
              "    </tr>\n",
              "    <tr>\n",
              "      <th>2</th>\n",
              "      <td>1001</td>\n",
              "      <td>2018-09</td>\n",
              "      <td>13314.82</td>\n",
              "    </tr>\n",
              "    <tr>\n",
              "      <th>3</th>\n",
              "      <td>1001</td>\n",
              "      <td>2018-10</td>\n",
              "      <td>22330.49</td>\n",
              "    </tr>\n",
              "    <tr>\n",
              "      <th>4</th>\n",
              "      <td>1001</td>\n",
              "      <td>2018-11</td>\n",
              "      <td>18504.30</td>\n",
              "    </tr>\n",
              "  </tbody>\n",
              "</table>\n",
              "</div>"
            ],
            "text/plain": [
              "   user_id    month   mb_used\n",
              "0     1000  2018-12   1901.47\n",
              "1     1001  2018-08   6919.15\n",
              "2     1001  2018-09  13314.82\n",
              "3     1001  2018-10  22330.49\n",
              "4     1001  2018-11  18504.30"
            ]
          },
          "metadata": {}
        }
      ],
      "execution_count": 27
    },
    {
      "cell_type": "code",
      "source": "# convert ke GB dan jika ada kelebihan dibulatkan ke atas\ninternet_agg['gb_used'] = np.ceil(internet_agg['mb_used'] / 1024)\ninternet_agg.head()",
      "metadata": {
        "trusted": true
      },
      "outputs": [
        {
          "execution_count": 28,
          "output_type": "execute_result",
          "data": {
            "text/html": [
              "<div>\n",
              "<style scoped>\n",
              "    .dataframe tbody tr th:only-of-type {\n",
              "        vertical-align: middle;\n",
              "    }\n",
              "\n",
              "    .dataframe tbody tr th {\n",
              "        vertical-align: top;\n",
              "    }\n",
              "\n",
              "    .dataframe thead th {\n",
              "        text-align: right;\n",
              "    }\n",
              "</style>\n",
              "<table border=\"1\" class=\"dataframe\">\n",
              "  <thead>\n",
              "    <tr style=\"text-align: right;\">\n",
              "      <th></th>\n",
              "      <th>user_id</th>\n",
              "      <th>month</th>\n",
              "      <th>mb_used</th>\n",
              "      <th>gb_used</th>\n",
              "    </tr>\n",
              "  </thead>\n",
              "  <tbody>\n",
              "    <tr>\n",
              "      <th>0</th>\n",
              "      <td>1000</td>\n",
              "      <td>2018-12</td>\n",
              "      <td>1901.47</td>\n",
              "      <td>2.0</td>\n",
              "    </tr>\n",
              "    <tr>\n",
              "      <th>1</th>\n",
              "      <td>1001</td>\n",
              "      <td>2018-08</td>\n",
              "      <td>6919.15</td>\n",
              "      <td>7.0</td>\n",
              "    </tr>\n",
              "    <tr>\n",
              "      <th>2</th>\n",
              "      <td>1001</td>\n",
              "      <td>2018-09</td>\n",
              "      <td>13314.82</td>\n",
              "      <td>14.0</td>\n",
              "    </tr>\n",
              "    <tr>\n",
              "      <th>3</th>\n",
              "      <td>1001</td>\n",
              "      <td>2018-10</td>\n",
              "      <td>22330.49</td>\n",
              "      <td>22.0</td>\n",
              "    </tr>\n",
              "    <tr>\n",
              "      <th>4</th>\n",
              "      <td>1001</td>\n",
              "      <td>2018-11</td>\n",
              "      <td>18504.30</td>\n",
              "      <td>19.0</td>\n",
              "    </tr>\n",
              "  </tbody>\n",
              "</table>\n",
              "</div>"
            ],
            "text/plain": [
              "   user_id    month   mb_used  gb_used\n",
              "0     1000  2018-12   1901.47      2.0\n",
              "1     1001  2018-08   6919.15      7.0\n",
              "2     1001  2018-09  13314.82     14.0\n",
              "3     1001  2018-10  22330.49     22.0\n",
              "4     1001  2018-11  18504.30     19.0"
            ]
          },
          "metadata": {}
        }
      ],
      "execution_count": 28
    },
    {
      "cell_type": "code",
      "source": "# Agregasi data messages \nmessage_agg = pd.pivot_table(messages, \n                             index=['user_id', 'month'], \n                             values='id',\n                             aggfunc='count').reset_index()\nmessage_agg.columns = ['user_id', 'month', 'sms']\nmessage_agg.head()",
      "metadata": {
        "scrolled": true,
        "trusted": true
      },
      "outputs": [
        {
          "execution_count": 29,
          "output_type": "execute_result",
          "data": {
            "text/html": [
              "<div>\n",
              "<style scoped>\n",
              "    .dataframe tbody tr th:only-of-type {\n",
              "        vertical-align: middle;\n",
              "    }\n",
              "\n",
              "    .dataframe tbody tr th {\n",
              "        vertical-align: top;\n",
              "    }\n",
              "\n",
              "    .dataframe thead th {\n",
              "        text-align: right;\n",
              "    }\n",
              "</style>\n",
              "<table border=\"1\" class=\"dataframe\">\n",
              "  <thead>\n",
              "    <tr style=\"text-align: right;\">\n",
              "      <th></th>\n",
              "      <th>user_id</th>\n",
              "      <th>month</th>\n",
              "      <th>sms</th>\n",
              "    </tr>\n",
              "  </thead>\n",
              "  <tbody>\n",
              "    <tr>\n",
              "      <th>0</th>\n",
              "      <td>1000</td>\n",
              "      <td>2018-12</td>\n",
              "      <td>11</td>\n",
              "    </tr>\n",
              "    <tr>\n",
              "      <th>1</th>\n",
              "      <td>1001</td>\n",
              "      <td>2018-08</td>\n",
              "      <td>30</td>\n",
              "    </tr>\n",
              "    <tr>\n",
              "      <th>2</th>\n",
              "      <td>1001</td>\n",
              "      <td>2018-09</td>\n",
              "      <td>44</td>\n",
              "    </tr>\n",
              "    <tr>\n",
              "      <th>3</th>\n",
              "      <td>1001</td>\n",
              "      <td>2018-10</td>\n",
              "      <td>53</td>\n",
              "    </tr>\n",
              "    <tr>\n",
              "      <th>4</th>\n",
              "      <td>1001</td>\n",
              "      <td>2018-11</td>\n",
              "      <td>36</td>\n",
              "    </tr>\n",
              "  </tbody>\n",
              "</table>\n",
              "</div>"
            ],
            "text/plain": [
              "   user_id    month  sms\n",
              "0     1000  2018-12   11\n",
              "1     1001  2018-08   30\n",
              "2     1001  2018-09   44\n",
              "3     1001  2018-10   53\n",
              "4     1001  2018-11   36"
            ]
          },
          "metadata": {}
        }
      ],
      "execution_count": 29
    },
    {
      "cell_type": "markdown",
      "source": "* Mengagregasikan kolom-kolom sesuai ketentuan yang diminta",
      "metadata": {}
    },
    {
      "cell_type": "code",
      "source": "# ubah mb per month menjadi gb per month\nplans['gb_per_month_included'] = plans['mb_per_month_included'] / 1024",
      "metadata": {
        "trusted": true
      },
      "outputs": [],
      "execution_count": 30
    },
    {
      "cell_type": "code",
      "source": "# Hapus kolom yang tidak dibutuhkan\nplans.drop('mb_per_month_included', axis=1, inplace=True)\nplans",
      "metadata": {
        "scrolled": true,
        "trusted": true
      },
      "outputs": [
        {
          "execution_count": 31,
          "output_type": "execute_result",
          "data": {
            "text/html": [
              "<div>\n",
              "<style scoped>\n",
              "    .dataframe tbody tr th:only-of-type {\n",
              "        vertical-align: middle;\n",
              "    }\n",
              "\n",
              "    .dataframe tbody tr th {\n",
              "        vertical-align: top;\n",
              "    }\n",
              "\n",
              "    .dataframe thead th {\n",
              "        text-align: right;\n",
              "    }\n",
              "</style>\n",
              "<table border=\"1\" class=\"dataframe\">\n",
              "  <thead>\n",
              "    <tr style=\"text-align: right;\">\n",
              "      <th></th>\n",
              "      <th>messages_included</th>\n",
              "      <th>minutes_included</th>\n",
              "      <th>usd_monthly_pay</th>\n",
              "      <th>usd_per_gb</th>\n",
              "      <th>usd_per_message</th>\n",
              "      <th>usd_per_minute</th>\n",
              "      <th>plan_name</th>\n",
              "      <th>gb_per_month_included</th>\n",
              "    </tr>\n",
              "  </thead>\n",
              "  <tbody>\n",
              "    <tr>\n",
              "      <th>0</th>\n",
              "      <td>50</td>\n",
              "      <td>500</td>\n",
              "      <td>20</td>\n",
              "      <td>10</td>\n",
              "      <td>0.03</td>\n",
              "      <td>0.03</td>\n",
              "      <td>surf</td>\n",
              "      <td>15.0</td>\n",
              "    </tr>\n",
              "    <tr>\n",
              "      <th>1</th>\n",
              "      <td>1000</td>\n",
              "      <td>3000</td>\n",
              "      <td>70</td>\n",
              "      <td>7</td>\n",
              "      <td>0.01</td>\n",
              "      <td>0.01</td>\n",
              "      <td>ultimate</td>\n",
              "      <td>30.0</td>\n",
              "    </tr>\n",
              "  </tbody>\n",
              "</table>\n",
              "</div>"
            ],
            "text/plain": [
              "   messages_included  minutes_included  usd_monthly_pay  usd_per_gb  \\\n",
              "0                 50               500               20          10   \n",
              "1               1000              3000               70           7   \n",
              "\n",
              "   usd_per_message  usd_per_minute plan_name  gb_per_month_included  \n",
              "0             0.03            0.03      surf                   15.0  \n",
              "1             0.01            0.01  ultimate                   30.0  "
            ]
          },
          "metadata": {}
        }
      ],
      "execution_count": 31
    },
    {
      "cell_type": "markdown",
      "source": "* Melakukan pembulatan keatas pada kolom mb_per_month_included sesuai ketentuan",
      "metadata": {}
    },
    {
      "cell_type": "code",
      "source": "# drop kolom yang tidak dibutuhkan pada tabel users\nusers.drop(['city', 'first_name', 'last_name'], axis=1, inplace=True)\nusers.head()",
      "metadata": {
        "trusted": true
      },
      "outputs": [
        {
          "execution_count": 32,
          "output_type": "execute_result",
          "data": {
            "text/html": [
              "<div>\n",
              "<style scoped>\n",
              "    .dataframe tbody tr th:only-of-type {\n",
              "        vertical-align: middle;\n",
              "    }\n",
              "\n",
              "    .dataframe tbody tr th {\n",
              "        vertical-align: top;\n",
              "    }\n",
              "\n",
              "    .dataframe thead th {\n",
              "        text-align: right;\n",
              "    }\n",
              "</style>\n",
              "<table border=\"1\" class=\"dataframe\">\n",
              "  <thead>\n",
              "    <tr style=\"text-align: right;\">\n",
              "      <th></th>\n",
              "      <th>user_id</th>\n",
              "      <th>age</th>\n",
              "      <th>reg_date</th>\n",
              "      <th>plan</th>\n",
              "      <th>churn_date</th>\n",
              "      <th>clean_city</th>\n",
              "      <th>is-nynj</th>\n",
              "    </tr>\n",
              "  </thead>\n",
              "  <tbody>\n",
              "    <tr>\n",
              "      <th>0</th>\n",
              "      <td>1000</td>\n",
              "      <td>45</td>\n",
              "      <td>2018-12-24</td>\n",
              "      <td>ultimate</td>\n",
              "      <td>NaN</td>\n",
              "      <td>GA</td>\n",
              "      <td>0</td>\n",
              "    </tr>\n",
              "    <tr>\n",
              "      <th>1</th>\n",
              "      <td>1001</td>\n",
              "      <td>28</td>\n",
              "      <td>2018-08-13</td>\n",
              "      <td>surf</td>\n",
              "      <td>NaN</td>\n",
              "      <td>WA</td>\n",
              "      <td>0</td>\n",
              "    </tr>\n",
              "    <tr>\n",
              "      <th>2</th>\n",
              "      <td>1002</td>\n",
              "      <td>36</td>\n",
              "      <td>2018-10-21</td>\n",
              "      <td>surf</td>\n",
              "      <td>NaN</td>\n",
              "      <td>NV</td>\n",
              "      <td>0</td>\n",
              "    </tr>\n",
              "    <tr>\n",
              "      <th>3</th>\n",
              "      <td>1003</td>\n",
              "      <td>52</td>\n",
              "      <td>2018-01-28</td>\n",
              "      <td>surf</td>\n",
              "      <td>NaN</td>\n",
              "      <td>OK</td>\n",
              "      <td>0</td>\n",
              "    </tr>\n",
              "    <tr>\n",
              "      <th>4</th>\n",
              "      <td>1004</td>\n",
              "      <td>40</td>\n",
              "      <td>2018-05-23</td>\n",
              "      <td>surf</td>\n",
              "      <td>NaN</td>\n",
              "      <td>WA</td>\n",
              "      <td>0</td>\n",
              "    </tr>\n",
              "  </tbody>\n",
              "</table>\n",
              "</div>"
            ],
            "text/plain": [
              "   user_id  age    reg_date      plan churn_date clean_city  is-nynj\n",
              "0     1000   45  2018-12-24  ultimate        NaN         GA        0\n",
              "1     1001   28  2018-08-13      surf        NaN         WA        0\n",
              "2     1002   36  2018-10-21      surf        NaN         NV        0\n",
              "3     1003   52  2018-01-28      surf        NaN         OK        0\n",
              "4     1004   40  2018-05-23      surf        NaN         WA        0"
            ]
          },
          "metadata": {}
        }
      ],
      "execution_count": 32
    },
    {
      "cell_type": "markdown",
      "source": "* Menghapus kolom yang tidak dibutuhkan pada tabel users, untuk mempermudah proses analisis",
      "metadata": {}
    },
    {
      "cell_type": "markdown",
      "source": "\n## Memperkaya Kualitas Data",
      "metadata": {}
    },
    {
      "cell_type": "markdown",
      "source": "### Join Table",
      "metadata": {}
    },
    {
      "cell_type": "code",
      "source": "# Gabungkan table users dengan plan\ntable_users = users.merge(plans, how='left', left_on='plan', right_on='plan_name').drop('plan_name', axis=1)\ntable_users.tail()",
      "metadata": {
        "scrolled": true,
        "trusted": true
      },
      "outputs": [
        {
          "execution_count": 33,
          "output_type": "execute_result",
          "data": {
            "text/html": [
              "<div>\n",
              "<style scoped>\n",
              "    .dataframe tbody tr th:only-of-type {\n",
              "        vertical-align: middle;\n",
              "    }\n",
              "\n",
              "    .dataframe tbody tr th {\n",
              "        vertical-align: top;\n",
              "    }\n",
              "\n",
              "    .dataframe thead th {\n",
              "        text-align: right;\n",
              "    }\n",
              "</style>\n",
              "<table border=\"1\" class=\"dataframe\">\n",
              "  <thead>\n",
              "    <tr style=\"text-align: right;\">\n",
              "      <th></th>\n",
              "      <th>user_id</th>\n",
              "      <th>age</th>\n",
              "      <th>reg_date</th>\n",
              "      <th>plan</th>\n",
              "      <th>churn_date</th>\n",
              "      <th>clean_city</th>\n",
              "      <th>is-nynj</th>\n",
              "      <th>messages_included</th>\n",
              "      <th>minutes_included</th>\n",
              "      <th>usd_monthly_pay</th>\n",
              "      <th>usd_per_gb</th>\n",
              "      <th>usd_per_message</th>\n",
              "      <th>usd_per_minute</th>\n",
              "      <th>gb_per_month_included</th>\n",
              "    </tr>\n",
              "  </thead>\n",
              "  <tbody>\n",
              "    <tr>\n",
              "      <th>495</th>\n",
              "      <td>1495</td>\n",
              "      <td>67</td>\n",
              "      <td>2018-09-04</td>\n",
              "      <td>surf</td>\n",
              "      <td>NaN</td>\n",
              "      <td>NY-NJ-PA</td>\n",
              "      <td>1</td>\n",
              "      <td>50</td>\n",
              "      <td>500</td>\n",
              "      <td>20</td>\n",
              "      <td>10</td>\n",
              "      <td>0.03</td>\n",
              "      <td>0.03</td>\n",
              "      <td>15.0</td>\n",
              "    </tr>\n",
              "    <tr>\n",
              "      <th>496</th>\n",
              "      <td>1496</td>\n",
              "      <td>49</td>\n",
              "      <td>2018-02-20</td>\n",
              "      <td>surf</td>\n",
              "      <td>NaN</td>\n",
              "      <td>LA</td>\n",
              "      <td>0</td>\n",
              "      <td>50</td>\n",
              "      <td>500</td>\n",
              "      <td>20</td>\n",
              "      <td>10</td>\n",
              "      <td>0.03</td>\n",
              "      <td>0.03</td>\n",
              "      <td>15.0</td>\n",
              "    </tr>\n",
              "    <tr>\n",
              "      <th>497</th>\n",
              "      <td>1497</td>\n",
              "      <td>49</td>\n",
              "      <td>2018-12-10</td>\n",
              "      <td>ultimate</td>\n",
              "      <td>NaN</td>\n",
              "      <td>CA</td>\n",
              "      <td>0</td>\n",
              "      <td>1000</td>\n",
              "      <td>3000</td>\n",
              "      <td>70</td>\n",
              "      <td>7</td>\n",
              "      <td>0.01</td>\n",
              "      <td>0.01</td>\n",
              "      <td>30.0</td>\n",
              "    </tr>\n",
              "    <tr>\n",
              "      <th>498</th>\n",
              "      <td>1498</td>\n",
              "      <td>51</td>\n",
              "      <td>2018-02-04</td>\n",
              "      <td>surf</td>\n",
              "      <td>NaN</td>\n",
              "      <td>NY-NJ-PA</td>\n",
              "      <td>1</td>\n",
              "      <td>50</td>\n",
              "      <td>500</td>\n",
              "      <td>20</td>\n",
              "      <td>10</td>\n",
              "      <td>0.03</td>\n",
              "      <td>0.03</td>\n",
              "      <td>15.0</td>\n",
              "    </tr>\n",
              "    <tr>\n",
              "      <th>499</th>\n",
              "      <td>1499</td>\n",
              "      <td>37</td>\n",
              "      <td>2018-05-06</td>\n",
              "      <td>surf</td>\n",
              "      <td>NaN</td>\n",
              "      <td>FL</td>\n",
              "      <td>0</td>\n",
              "      <td>50</td>\n",
              "      <td>500</td>\n",
              "      <td>20</td>\n",
              "      <td>10</td>\n",
              "      <td>0.03</td>\n",
              "      <td>0.03</td>\n",
              "      <td>15.0</td>\n",
              "    </tr>\n",
              "  </tbody>\n",
              "</table>\n",
              "</div>"
            ],
            "text/plain": [
              "     user_id  age    reg_date      plan churn_date clean_city  is-nynj  \\\n",
              "495     1495   67  2018-09-04      surf        NaN   NY-NJ-PA        1   \n",
              "496     1496   49  2018-02-20      surf        NaN         LA        0   \n",
              "497     1497   49  2018-12-10  ultimate        NaN         CA        0   \n",
              "498     1498   51  2018-02-04      surf        NaN   NY-NJ-PA        1   \n",
              "499     1499   37  2018-05-06      surf        NaN         FL        0   \n",
              "\n",
              "     messages_included  minutes_included  usd_monthly_pay  usd_per_gb  \\\n",
              "495                 50               500               20          10   \n",
              "496                 50               500               20          10   \n",
              "497               1000              3000               70           7   \n",
              "498                 50               500               20          10   \n",
              "499                 50               500               20          10   \n",
              "\n",
              "     usd_per_message  usd_per_minute  gb_per_month_included  \n",
              "495             0.03            0.03                   15.0  \n",
              "496             0.03            0.03                   15.0  \n",
              "497             0.01            0.01                   30.0  \n",
              "498             0.03            0.03                   15.0  \n",
              "499             0.03            0.03                   15.0  "
            ]
          },
          "metadata": {}
        }
      ],
      "execution_count": 33
    },
    {
      "cell_type": "code",
      "source": "# Gabungkan semua table\nmain = calls_agg.merge(internet_agg, how='outer', on=['user_id', 'month'])\nmain = main.merge(message_agg, how='outer', on=['user_id', 'month'])\ndf = main.merge(table_users, how='left', on='user_id')\ndf.tail()",
      "metadata": {
        "scrolled": true,
        "trusted": true
      },
      "outputs": [
        {
          "execution_count": 34,
          "output_type": "execute_result",
          "data": {
            "text/html": [
              "<div>\n",
              "<style scoped>\n",
              "    .dataframe tbody tr th:only-of-type {\n",
              "        vertical-align: middle;\n",
              "    }\n",
              "\n",
              "    .dataframe tbody tr th {\n",
              "        vertical-align: top;\n",
              "    }\n",
              "\n",
              "    .dataframe thead th {\n",
              "        text-align: right;\n",
              "    }\n",
              "</style>\n",
              "<table border=\"1\" class=\"dataframe\">\n",
              "  <thead>\n",
              "    <tr style=\"text-align: right;\">\n",
              "      <th></th>\n",
              "      <th>user_id</th>\n",
              "      <th>month</th>\n",
              "      <th>counts_calls</th>\n",
              "      <th>total_duration</th>\n",
              "      <th>mb_used</th>\n",
              "      <th>gb_used</th>\n",
              "      <th>sms</th>\n",
              "      <th>age</th>\n",
              "      <th>reg_date</th>\n",
              "      <th>plan</th>\n",
              "      <th>churn_date</th>\n",
              "      <th>clean_city</th>\n",
              "      <th>is-nynj</th>\n",
              "      <th>messages_included</th>\n",
              "      <th>minutes_included</th>\n",
              "      <th>usd_monthly_pay</th>\n",
              "      <th>usd_per_gb</th>\n",
              "      <th>usd_per_message</th>\n",
              "      <th>usd_per_minute</th>\n",
              "      <th>gb_per_month_included</th>\n",
              "    </tr>\n",
              "  </thead>\n",
              "  <tbody>\n",
              "    <tr>\n",
              "      <th>2288</th>\n",
              "      <td>1349</td>\n",
              "      <td>2018-10</td>\n",
              "      <td>NaN</td>\n",
              "      <td>NaN</td>\n",
              "      <td>13093.55</td>\n",
              "      <td>13.0</td>\n",
              "      <td>76.0</td>\n",
              "      <td>69</td>\n",
              "      <td>2018-10-01</td>\n",
              "      <td>surf</td>\n",
              "      <td>NaN</td>\n",
              "      <td>MA-NH</td>\n",
              "      <td>0</td>\n",
              "      <td>50</td>\n",
              "      <td>500</td>\n",
              "      <td>20</td>\n",
              "      <td>10</td>\n",
              "      <td>0.03</td>\n",
              "      <td>0.03</td>\n",
              "      <td>15.0</td>\n",
              "    </tr>\n",
              "    <tr>\n",
              "      <th>2289</th>\n",
              "      <td>1349</td>\n",
              "      <td>2018-11</td>\n",
              "      <td>NaN</td>\n",
              "      <td>NaN</td>\n",
              "      <td>17128.26</td>\n",
              "      <td>17.0</td>\n",
              "      <td>72.0</td>\n",
              "      <td>69</td>\n",
              "      <td>2018-10-01</td>\n",
              "      <td>surf</td>\n",
              "      <td>NaN</td>\n",
              "      <td>MA-NH</td>\n",
              "      <td>0</td>\n",
              "      <td>50</td>\n",
              "      <td>500</td>\n",
              "      <td>20</td>\n",
              "      <td>10</td>\n",
              "      <td>0.03</td>\n",
              "      <td>0.03</td>\n",
              "      <td>15.0</td>\n",
              "    </tr>\n",
              "    <tr>\n",
              "      <th>2290</th>\n",
              "      <td>1349</td>\n",
              "      <td>2018-12</td>\n",
              "      <td>NaN</td>\n",
              "      <td>NaN</td>\n",
              "      <td>13039.91</td>\n",
              "      <td>13.0</td>\n",
              "      <td>61.0</td>\n",
              "      <td>69</td>\n",
              "      <td>2018-10-01</td>\n",
              "      <td>surf</td>\n",
              "      <td>NaN</td>\n",
              "      <td>MA-NH</td>\n",
              "      <td>0</td>\n",
              "      <td>50</td>\n",
              "      <td>500</td>\n",
              "      <td>20</td>\n",
              "      <td>10</td>\n",
              "      <td>0.03</td>\n",
              "      <td>0.03</td>\n",
              "      <td>15.0</td>\n",
              "    </tr>\n",
              "    <tr>\n",
              "      <th>2291</th>\n",
              "      <td>1361</td>\n",
              "      <td>2018-05</td>\n",
              "      <td>NaN</td>\n",
              "      <td>NaN</td>\n",
              "      <td>1519.69</td>\n",
              "      <td>2.0</td>\n",
              "      <td>2.0</td>\n",
              "      <td>45</td>\n",
              "      <td>2018-04-14</td>\n",
              "      <td>surf</td>\n",
              "      <td>NaN</td>\n",
              "      <td>AL</td>\n",
              "      <td>0</td>\n",
              "      <td>50</td>\n",
              "      <td>500</td>\n",
              "      <td>20</td>\n",
              "      <td>10</td>\n",
              "      <td>0.03</td>\n",
              "      <td>0.03</td>\n",
              "      <td>15.0</td>\n",
              "    </tr>\n",
              "    <tr>\n",
              "      <th>2292</th>\n",
              "      <td>1482</td>\n",
              "      <td>2018-10</td>\n",
              "      <td>NaN</td>\n",
              "      <td>NaN</td>\n",
              "      <td>NaN</td>\n",
              "      <td>NaN</td>\n",
              "      <td>2.0</td>\n",
              "      <td>70</td>\n",
              "      <td>2018-01-01</td>\n",
              "      <td>ultimate</td>\n",
              "      <td>NaN</td>\n",
              "      <td>NY-NJ-PA</td>\n",
              "      <td>1</td>\n",
              "      <td>1000</td>\n",
              "      <td>3000</td>\n",
              "      <td>70</td>\n",
              "      <td>7</td>\n",
              "      <td>0.01</td>\n",
              "      <td>0.01</td>\n",
              "      <td>30.0</td>\n",
              "    </tr>\n",
              "  </tbody>\n",
              "</table>\n",
              "</div>"
            ],
            "text/plain": [
              "      user_id    month  counts_calls  total_duration   mb_used  gb_used   sms  \\\n",
              "2288     1349  2018-10           NaN             NaN  13093.55     13.0  76.0   \n",
              "2289     1349  2018-11           NaN             NaN  17128.26     17.0  72.0   \n",
              "2290     1349  2018-12           NaN             NaN  13039.91     13.0  61.0   \n",
              "2291     1361  2018-05           NaN             NaN   1519.69      2.0   2.0   \n",
              "2292     1482  2018-10           NaN             NaN       NaN      NaN   2.0   \n",
              "\n",
              "      age    reg_date      plan churn_date clean_city  is-nynj  \\\n",
              "2288   69  2018-10-01      surf        NaN      MA-NH        0   \n",
              "2289   69  2018-10-01      surf        NaN      MA-NH        0   \n",
              "2290   69  2018-10-01      surf        NaN      MA-NH        0   \n",
              "2291   45  2018-04-14      surf        NaN         AL        0   \n",
              "2292   70  2018-01-01  ultimate        NaN   NY-NJ-PA        1   \n",
              "\n",
              "      messages_included  minutes_included  usd_monthly_pay  usd_per_gb  \\\n",
              "2288                 50               500               20          10   \n",
              "2289                 50               500               20          10   \n",
              "2290                 50               500               20          10   \n",
              "2291                 50               500               20          10   \n",
              "2292               1000              3000               70           7   \n",
              "\n",
              "      usd_per_message  usd_per_minute  gb_per_month_included  \n",
              "2288             0.03            0.03                   15.0  \n",
              "2289             0.03            0.03                   15.0  \n",
              "2290             0.03            0.03                   15.0  \n",
              "2291             0.03            0.03                   15.0  \n",
              "2292             0.01            0.01                   30.0  "
            ]
          },
          "metadata": {}
        }
      ],
      "execution_count": 34
    },
    {
      "cell_type": "markdown",
      "source": "* Menggabungkan semua tabel, agar lebih mudah untuk dianalisis",
      "metadata": {}
    },
    {
      "cell_type": "code",
      "source": "# drop kolom yang tidak dibutuhkan\ndf.drop(['mb_used', 'reg_date', 'churn_date'], axis=1, inplace=True)\ndf.head()",
      "metadata": {
        "scrolled": true,
        "trusted": true
      },
      "outputs": [
        {
          "execution_count": 35,
          "output_type": "execute_result",
          "data": {
            "text/html": [
              "<div>\n",
              "<style scoped>\n",
              "    .dataframe tbody tr th:only-of-type {\n",
              "        vertical-align: middle;\n",
              "    }\n",
              "\n",
              "    .dataframe tbody tr th {\n",
              "        vertical-align: top;\n",
              "    }\n",
              "\n",
              "    .dataframe thead th {\n",
              "        text-align: right;\n",
              "    }\n",
              "</style>\n",
              "<table border=\"1\" class=\"dataframe\">\n",
              "  <thead>\n",
              "    <tr style=\"text-align: right;\">\n",
              "      <th></th>\n",
              "      <th>user_id</th>\n",
              "      <th>month</th>\n",
              "      <th>counts_calls</th>\n",
              "      <th>total_duration</th>\n",
              "      <th>gb_used</th>\n",
              "      <th>sms</th>\n",
              "      <th>age</th>\n",
              "      <th>plan</th>\n",
              "      <th>clean_city</th>\n",
              "      <th>is-nynj</th>\n",
              "      <th>messages_included</th>\n",
              "      <th>minutes_included</th>\n",
              "      <th>usd_monthly_pay</th>\n",
              "      <th>usd_per_gb</th>\n",
              "      <th>usd_per_message</th>\n",
              "      <th>usd_per_minute</th>\n",
              "      <th>gb_per_month_included</th>\n",
              "    </tr>\n",
              "  </thead>\n",
              "  <tbody>\n",
              "    <tr>\n",
              "      <th>0</th>\n",
              "      <td>1000</td>\n",
              "      <td>2018-12</td>\n",
              "      <td>16.0</td>\n",
              "      <td>124.0</td>\n",
              "      <td>2.0</td>\n",
              "      <td>11.0</td>\n",
              "      <td>45</td>\n",
              "      <td>ultimate</td>\n",
              "      <td>GA</td>\n",
              "      <td>0</td>\n",
              "      <td>1000</td>\n",
              "      <td>3000</td>\n",
              "      <td>70</td>\n",
              "      <td>7</td>\n",
              "      <td>0.01</td>\n",
              "      <td>0.01</td>\n",
              "      <td>30.0</td>\n",
              "    </tr>\n",
              "    <tr>\n",
              "      <th>1</th>\n",
              "      <td>1001</td>\n",
              "      <td>2018-08</td>\n",
              "      <td>27.0</td>\n",
              "      <td>182.0</td>\n",
              "      <td>7.0</td>\n",
              "      <td>30.0</td>\n",
              "      <td>28</td>\n",
              "      <td>surf</td>\n",
              "      <td>WA</td>\n",
              "      <td>0</td>\n",
              "      <td>50</td>\n",
              "      <td>500</td>\n",
              "      <td>20</td>\n",
              "      <td>10</td>\n",
              "      <td>0.03</td>\n",
              "      <td>0.03</td>\n",
              "      <td>15.0</td>\n",
              "    </tr>\n",
              "    <tr>\n",
              "      <th>2</th>\n",
              "      <td>1001</td>\n",
              "      <td>2018-09</td>\n",
              "      <td>49.0</td>\n",
              "      <td>315.0</td>\n",
              "      <td>14.0</td>\n",
              "      <td>44.0</td>\n",
              "      <td>28</td>\n",
              "      <td>surf</td>\n",
              "      <td>WA</td>\n",
              "      <td>0</td>\n",
              "      <td>50</td>\n",
              "      <td>500</td>\n",
              "      <td>20</td>\n",
              "      <td>10</td>\n",
              "      <td>0.03</td>\n",
              "      <td>0.03</td>\n",
              "      <td>15.0</td>\n",
              "    </tr>\n",
              "    <tr>\n",
              "      <th>3</th>\n",
              "      <td>1001</td>\n",
              "      <td>2018-10</td>\n",
              "      <td>65.0</td>\n",
              "      <td>393.0</td>\n",
              "      <td>22.0</td>\n",
              "      <td>53.0</td>\n",
              "      <td>28</td>\n",
              "      <td>surf</td>\n",
              "      <td>WA</td>\n",
              "      <td>0</td>\n",
              "      <td>50</td>\n",
              "      <td>500</td>\n",
              "      <td>20</td>\n",
              "      <td>10</td>\n",
              "      <td>0.03</td>\n",
              "      <td>0.03</td>\n",
              "      <td>15.0</td>\n",
              "    </tr>\n",
              "    <tr>\n",
              "      <th>4</th>\n",
              "      <td>1001</td>\n",
              "      <td>2018-11</td>\n",
              "      <td>64.0</td>\n",
              "      <td>426.0</td>\n",
              "      <td>19.0</td>\n",
              "      <td>36.0</td>\n",
              "      <td>28</td>\n",
              "      <td>surf</td>\n",
              "      <td>WA</td>\n",
              "      <td>0</td>\n",
              "      <td>50</td>\n",
              "      <td>500</td>\n",
              "      <td>20</td>\n",
              "      <td>10</td>\n",
              "      <td>0.03</td>\n",
              "      <td>0.03</td>\n",
              "      <td>15.0</td>\n",
              "    </tr>\n",
              "  </tbody>\n",
              "</table>\n",
              "</div>"
            ],
            "text/plain": [
              "   user_id    month  counts_calls  total_duration  gb_used   sms  age  \\\n",
              "0     1000  2018-12          16.0           124.0      2.0  11.0   45   \n",
              "1     1001  2018-08          27.0           182.0      7.0  30.0   28   \n",
              "2     1001  2018-09          49.0           315.0     14.0  44.0   28   \n",
              "3     1001  2018-10          65.0           393.0     22.0  53.0   28   \n",
              "4     1001  2018-11          64.0           426.0     19.0  36.0   28   \n",
              "\n",
              "       plan clean_city  is-nynj  messages_included  minutes_included  \\\n",
              "0  ultimate         GA        0               1000              3000   \n",
              "1      surf         WA        0                 50               500   \n",
              "2      surf         WA        0                 50               500   \n",
              "3      surf         WA        0                 50               500   \n",
              "4      surf         WA        0                 50               500   \n",
              "\n",
              "   usd_monthly_pay  usd_per_gb  usd_per_message  usd_per_minute  \\\n",
              "0               70           7             0.01            0.01   \n",
              "1               20          10             0.03            0.03   \n",
              "2               20          10             0.03            0.03   \n",
              "3               20          10             0.03            0.03   \n",
              "4               20          10             0.03            0.03   \n",
              "\n",
              "   gb_per_month_included  \n",
              "0                   30.0  \n",
              "1                   15.0  \n",
              "2                   15.0  \n",
              "3                   15.0  \n",
              "4                   15.0  "
            ]
          },
          "metadata": {}
        }
      ],
      "execution_count": 35
    },
    {
      "cell_type": "markdown",
      "source": "* Menghapus kolom yang tidak perlu, untuk mempermudah analisis",
      "metadata": {}
    },
    {
      "cell_type": "code",
      "source": "# Isi missing value di kolom numerikal dengan 0\ndf[['total_duration', 'gb_used', 'sms']] = df[['total_duration', 'gb_used', 'sms']].fillna(0)",
      "metadata": {
        "trusted": true
      },
      "outputs": [],
      "execution_count": 36
    },
    {
      "cell_type": "code",
      "source": "# buat kolom untuk menghitung biaya ekstra pada telepon\ndf['extra_calls'] = (df['total_duration'] - df['minutes_included']) * df['usd_per_minute']\n\n# Harga minus artinya tidak berlebihan dan harus diganti 0\ndf.loc[df['extra_calls'] < 0, 'extra_calls'] = 0",
      "metadata": {
        "trusted": true
      },
      "outputs": [],
      "execution_count": 37
    },
    {
      "cell_type": "code",
      "source": "# buat kolom untuk menghitung biaya ekstra pada internet\ndf['extra_internet'] = (df['gb_used'] - df['gb_per_month_included']) * df['usd_per_gb']\n\n# Harga minus artinya tidak berlebihan dan harus diganti 0\ndf.loc[df['extra_internet'] < 0, 'extra_internet'] = 0",
      "metadata": {
        "trusted": true
      },
      "outputs": [],
      "execution_count": 38
    },
    {
      "cell_type": "code",
      "source": "# buat kolom untuk menghitung biaya ekstra pada message\ndf['extra_sms'] = (df['sms'] - df['messages_included']) * df['usd_per_message']\n\n# Harga minus arinya tidak berlebihan dan harus diganti 0\ndf.loc[df['extra_sms'] < 0, 'extra_sms'] = 0",
      "metadata": {
        "trusted": true
      },
      "outputs": [],
      "execution_count": 39
    },
    {
      "cell_type": "code",
      "source": "# cek data\ndf",
      "metadata": {
        "trusted": true
      },
      "outputs": [
        {
          "execution_count": 40,
          "output_type": "execute_result",
          "data": {
            "text/html": [
              "<div>\n",
              "<style scoped>\n",
              "    .dataframe tbody tr th:only-of-type {\n",
              "        vertical-align: middle;\n",
              "    }\n",
              "\n",
              "    .dataframe tbody tr th {\n",
              "        vertical-align: top;\n",
              "    }\n",
              "\n",
              "    .dataframe thead th {\n",
              "        text-align: right;\n",
              "    }\n",
              "</style>\n",
              "<table border=\"1\" class=\"dataframe\">\n",
              "  <thead>\n",
              "    <tr style=\"text-align: right;\">\n",
              "      <th></th>\n",
              "      <th>user_id</th>\n",
              "      <th>month</th>\n",
              "      <th>counts_calls</th>\n",
              "      <th>total_duration</th>\n",
              "      <th>gb_used</th>\n",
              "      <th>sms</th>\n",
              "      <th>age</th>\n",
              "      <th>plan</th>\n",
              "      <th>clean_city</th>\n",
              "      <th>is-nynj</th>\n",
              "      <th>messages_included</th>\n",
              "      <th>minutes_included</th>\n",
              "      <th>usd_monthly_pay</th>\n",
              "      <th>usd_per_gb</th>\n",
              "      <th>usd_per_message</th>\n",
              "      <th>usd_per_minute</th>\n",
              "      <th>gb_per_month_included</th>\n",
              "      <th>extra_calls</th>\n",
              "      <th>extra_internet</th>\n",
              "      <th>extra_sms</th>\n",
              "    </tr>\n",
              "  </thead>\n",
              "  <tbody>\n",
              "    <tr>\n",
              "      <th>0</th>\n",
              "      <td>1000</td>\n",
              "      <td>2018-12</td>\n",
              "      <td>16.0</td>\n",
              "      <td>124.0</td>\n",
              "      <td>2.0</td>\n",
              "      <td>11.0</td>\n",
              "      <td>45</td>\n",
              "      <td>ultimate</td>\n",
              "      <td>GA</td>\n",
              "      <td>0</td>\n",
              "      <td>1000</td>\n",
              "      <td>3000</td>\n",
              "      <td>70</td>\n",
              "      <td>7</td>\n",
              "      <td>0.01</td>\n",
              "      <td>0.01</td>\n",
              "      <td>30.0</td>\n",
              "      <td>0.0</td>\n",
              "      <td>0.0</td>\n",
              "      <td>0.00</td>\n",
              "    </tr>\n",
              "    <tr>\n",
              "      <th>1</th>\n",
              "      <td>1001</td>\n",
              "      <td>2018-08</td>\n",
              "      <td>27.0</td>\n",
              "      <td>182.0</td>\n",
              "      <td>7.0</td>\n",
              "      <td>30.0</td>\n",
              "      <td>28</td>\n",
              "      <td>surf</td>\n",
              "      <td>WA</td>\n",
              "      <td>0</td>\n",
              "      <td>50</td>\n",
              "      <td>500</td>\n",
              "      <td>20</td>\n",
              "      <td>10</td>\n",
              "      <td>0.03</td>\n",
              "      <td>0.03</td>\n",
              "      <td>15.0</td>\n",
              "      <td>0.0</td>\n",
              "      <td>0.0</td>\n",
              "      <td>0.00</td>\n",
              "    </tr>\n",
              "    <tr>\n",
              "      <th>2</th>\n",
              "      <td>1001</td>\n",
              "      <td>2018-09</td>\n",
              "      <td>49.0</td>\n",
              "      <td>315.0</td>\n",
              "      <td>14.0</td>\n",
              "      <td>44.0</td>\n",
              "      <td>28</td>\n",
              "      <td>surf</td>\n",
              "      <td>WA</td>\n",
              "      <td>0</td>\n",
              "      <td>50</td>\n",
              "      <td>500</td>\n",
              "      <td>20</td>\n",
              "      <td>10</td>\n",
              "      <td>0.03</td>\n",
              "      <td>0.03</td>\n",
              "      <td>15.0</td>\n",
              "      <td>0.0</td>\n",
              "      <td>0.0</td>\n",
              "      <td>0.00</td>\n",
              "    </tr>\n",
              "    <tr>\n",
              "      <th>3</th>\n",
              "      <td>1001</td>\n",
              "      <td>2018-10</td>\n",
              "      <td>65.0</td>\n",
              "      <td>393.0</td>\n",
              "      <td>22.0</td>\n",
              "      <td>53.0</td>\n",
              "      <td>28</td>\n",
              "      <td>surf</td>\n",
              "      <td>WA</td>\n",
              "      <td>0</td>\n",
              "      <td>50</td>\n",
              "      <td>500</td>\n",
              "      <td>20</td>\n",
              "      <td>10</td>\n",
              "      <td>0.03</td>\n",
              "      <td>0.03</td>\n",
              "      <td>15.0</td>\n",
              "      <td>0.0</td>\n",
              "      <td>70.0</td>\n",
              "      <td>0.09</td>\n",
              "    </tr>\n",
              "    <tr>\n",
              "      <th>4</th>\n",
              "      <td>1001</td>\n",
              "      <td>2018-11</td>\n",
              "      <td>64.0</td>\n",
              "      <td>426.0</td>\n",
              "      <td>19.0</td>\n",
              "      <td>36.0</td>\n",
              "      <td>28</td>\n",
              "      <td>surf</td>\n",
              "      <td>WA</td>\n",
              "      <td>0</td>\n",
              "      <td>50</td>\n",
              "      <td>500</td>\n",
              "      <td>20</td>\n",
              "      <td>10</td>\n",
              "      <td>0.03</td>\n",
              "      <td>0.03</td>\n",
              "      <td>15.0</td>\n",
              "      <td>0.0</td>\n",
              "      <td>40.0</td>\n",
              "      <td>0.00</td>\n",
              "    </tr>\n",
              "    <tr>\n",
              "      <th>...</th>\n",
              "      <td>...</td>\n",
              "      <td>...</td>\n",
              "      <td>...</td>\n",
              "      <td>...</td>\n",
              "      <td>...</td>\n",
              "      <td>...</td>\n",
              "      <td>...</td>\n",
              "      <td>...</td>\n",
              "      <td>...</td>\n",
              "      <td>...</td>\n",
              "      <td>...</td>\n",
              "      <td>...</td>\n",
              "      <td>...</td>\n",
              "      <td>...</td>\n",
              "      <td>...</td>\n",
              "      <td>...</td>\n",
              "      <td>...</td>\n",
              "      <td>...</td>\n",
              "      <td>...</td>\n",
              "      <td>...</td>\n",
              "    </tr>\n",
              "    <tr>\n",
              "      <th>2288</th>\n",
              "      <td>1349</td>\n",
              "      <td>2018-10</td>\n",
              "      <td>NaN</td>\n",
              "      <td>0.0</td>\n",
              "      <td>13.0</td>\n",
              "      <td>76.0</td>\n",
              "      <td>69</td>\n",
              "      <td>surf</td>\n",
              "      <td>MA-NH</td>\n",
              "      <td>0</td>\n",
              "      <td>50</td>\n",
              "      <td>500</td>\n",
              "      <td>20</td>\n",
              "      <td>10</td>\n",
              "      <td>0.03</td>\n",
              "      <td>0.03</td>\n",
              "      <td>15.0</td>\n",
              "      <td>0.0</td>\n",
              "      <td>0.0</td>\n",
              "      <td>0.78</td>\n",
              "    </tr>\n",
              "    <tr>\n",
              "      <th>2289</th>\n",
              "      <td>1349</td>\n",
              "      <td>2018-11</td>\n",
              "      <td>NaN</td>\n",
              "      <td>0.0</td>\n",
              "      <td>17.0</td>\n",
              "      <td>72.0</td>\n",
              "      <td>69</td>\n",
              "      <td>surf</td>\n",
              "      <td>MA-NH</td>\n",
              "      <td>0</td>\n",
              "      <td>50</td>\n",
              "      <td>500</td>\n",
              "      <td>20</td>\n",
              "      <td>10</td>\n",
              "      <td>0.03</td>\n",
              "      <td>0.03</td>\n",
              "      <td>15.0</td>\n",
              "      <td>0.0</td>\n",
              "      <td>20.0</td>\n",
              "      <td>0.66</td>\n",
              "    </tr>\n",
              "    <tr>\n",
              "      <th>2290</th>\n",
              "      <td>1349</td>\n",
              "      <td>2018-12</td>\n",
              "      <td>NaN</td>\n",
              "      <td>0.0</td>\n",
              "      <td>13.0</td>\n",
              "      <td>61.0</td>\n",
              "      <td>69</td>\n",
              "      <td>surf</td>\n",
              "      <td>MA-NH</td>\n",
              "      <td>0</td>\n",
              "      <td>50</td>\n",
              "      <td>500</td>\n",
              "      <td>20</td>\n",
              "      <td>10</td>\n",
              "      <td>0.03</td>\n",
              "      <td>0.03</td>\n",
              "      <td>15.0</td>\n",
              "      <td>0.0</td>\n",
              "      <td>0.0</td>\n",
              "      <td>0.33</td>\n",
              "    </tr>\n",
              "    <tr>\n",
              "      <th>2291</th>\n",
              "      <td>1361</td>\n",
              "      <td>2018-05</td>\n",
              "      <td>NaN</td>\n",
              "      <td>0.0</td>\n",
              "      <td>2.0</td>\n",
              "      <td>2.0</td>\n",
              "      <td>45</td>\n",
              "      <td>surf</td>\n",
              "      <td>AL</td>\n",
              "      <td>0</td>\n",
              "      <td>50</td>\n",
              "      <td>500</td>\n",
              "      <td>20</td>\n",
              "      <td>10</td>\n",
              "      <td>0.03</td>\n",
              "      <td>0.03</td>\n",
              "      <td>15.0</td>\n",
              "      <td>0.0</td>\n",
              "      <td>0.0</td>\n",
              "      <td>0.00</td>\n",
              "    </tr>\n",
              "    <tr>\n",
              "      <th>2292</th>\n",
              "      <td>1482</td>\n",
              "      <td>2018-10</td>\n",
              "      <td>NaN</td>\n",
              "      <td>0.0</td>\n",
              "      <td>0.0</td>\n",
              "      <td>2.0</td>\n",
              "      <td>70</td>\n",
              "      <td>ultimate</td>\n",
              "      <td>NY-NJ-PA</td>\n",
              "      <td>1</td>\n",
              "      <td>1000</td>\n",
              "      <td>3000</td>\n",
              "      <td>70</td>\n",
              "      <td>7</td>\n",
              "      <td>0.01</td>\n",
              "      <td>0.01</td>\n",
              "      <td>30.0</td>\n",
              "      <td>0.0</td>\n",
              "      <td>0.0</td>\n",
              "      <td>0.00</td>\n",
              "    </tr>\n",
              "  </tbody>\n",
              "</table>\n",
              "<p>2293 rows × 20 columns</p>\n",
              "</div>"
            ],
            "text/plain": [
              "      user_id    month  counts_calls  total_duration  gb_used   sms  age  \\\n",
              "0        1000  2018-12          16.0           124.0      2.0  11.0   45   \n",
              "1        1001  2018-08          27.0           182.0      7.0  30.0   28   \n",
              "2        1001  2018-09          49.0           315.0     14.0  44.0   28   \n",
              "3        1001  2018-10          65.0           393.0     22.0  53.0   28   \n",
              "4        1001  2018-11          64.0           426.0     19.0  36.0   28   \n",
              "...       ...      ...           ...             ...      ...   ...  ...   \n",
              "2288     1349  2018-10           NaN             0.0     13.0  76.0   69   \n",
              "2289     1349  2018-11           NaN             0.0     17.0  72.0   69   \n",
              "2290     1349  2018-12           NaN             0.0     13.0  61.0   69   \n",
              "2291     1361  2018-05           NaN             0.0      2.0   2.0   45   \n",
              "2292     1482  2018-10           NaN             0.0      0.0   2.0   70   \n",
              "\n",
              "          plan clean_city  is-nynj  messages_included  minutes_included  \\\n",
              "0     ultimate         GA        0               1000              3000   \n",
              "1         surf         WA        0                 50               500   \n",
              "2         surf         WA        0                 50               500   \n",
              "3         surf         WA        0                 50               500   \n",
              "4         surf         WA        0                 50               500   \n",
              "...        ...        ...      ...                ...               ...   \n",
              "2288      surf      MA-NH        0                 50               500   \n",
              "2289      surf      MA-NH        0                 50               500   \n",
              "2290      surf      MA-NH        0                 50               500   \n",
              "2291      surf         AL        0                 50               500   \n",
              "2292  ultimate   NY-NJ-PA        1               1000              3000   \n",
              "\n",
              "      usd_monthly_pay  usd_per_gb  usd_per_message  usd_per_minute  \\\n",
              "0                  70           7             0.01            0.01   \n",
              "1                  20          10             0.03            0.03   \n",
              "2                  20          10             0.03            0.03   \n",
              "3                  20          10             0.03            0.03   \n",
              "4                  20          10             0.03            0.03   \n",
              "...               ...         ...              ...             ...   \n",
              "2288               20          10             0.03            0.03   \n",
              "2289               20          10             0.03            0.03   \n",
              "2290               20          10             0.03            0.03   \n",
              "2291               20          10             0.03            0.03   \n",
              "2292               70           7             0.01            0.01   \n",
              "\n",
              "      gb_per_month_included  extra_calls  extra_internet  extra_sms  \n",
              "0                      30.0          0.0             0.0       0.00  \n",
              "1                      15.0          0.0             0.0       0.00  \n",
              "2                      15.0          0.0             0.0       0.00  \n",
              "3                      15.0          0.0            70.0       0.09  \n",
              "4                      15.0          0.0            40.0       0.00  \n",
              "...                     ...          ...             ...        ...  \n",
              "2288                   15.0          0.0             0.0       0.78  \n",
              "2289                   15.0          0.0            20.0       0.66  \n",
              "2290                   15.0          0.0             0.0       0.33  \n",
              "2291                   15.0          0.0             0.0       0.00  \n",
              "2292                   30.0          0.0             0.0       0.00  \n",
              "\n",
              "[2293 rows x 20 columns]"
            ]
          },
          "metadata": {}
        }
      ],
      "execution_count": 40
    },
    {
      "cell_type": "markdown",
      "source": "* Mengisi kolom yang kosong dengan nilai 0 sesuai ketentuan dan menambah kolom baru.",
      "metadata": {}
    },
    {
      "cell_type": "code",
      "source": "# kolom untuk total_payment\ndf['total_payment'] = df['usd_monthly_pay'] + df['extra_calls'] + df['extra_internet'] + df['extra_sms']\ndf.tail()",
      "metadata": {
        "scrolled": true,
        "trusted": true
      },
      "outputs": [
        {
          "execution_count": 41,
          "output_type": "execute_result",
          "data": {
            "text/html": [
              "<div>\n",
              "<style scoped>\n",
              "    .dataframe tbody tr th:only-of-type {\n",
              "        vertical-align: middle;\n",
              "    }\n",
              "\n",
              "    .dataframe tbody tr th {\n",
              "        vertical-align: top;\n",
              "    }\n",
              "\n",
              "    .dataframe thead th {\n",
              "        text-align: right;\n",
              "    }\n",
              "</style>\n",
              "<table border=\"1\" class=\"dataframe\">\n",
              "  <thead>\n",
              "    <tr style=\"text-align: right;\">\n",
              "      <th></th>\n",
              "      <th>user_id</th>\n",
              "      <th>month</th>\n",
              "      <th>counts_calls</th>\n",
              "      <th>total_duration</th>\n",
              "      <th>gb_used</th>\n",
              "      <th>sms</th>\n",
              "      <th>age</th>\n",
              "      <th>plan</th>\n",
              "      <th>clean_city</th>\n",
              "      <th>is-nynj</th>\n",
              "      <th>...</th>\n",
              "      <th>minutes_included</th>\n",
              "      <th>usd_monthly_pay</th>\n",
              "      <th>usd_per_gb</th>\n",
              "      <th>usd_per_message</th>\n",
              "      <th>usd_per_minute</th>\n",
              "      <th>gb_per_month_included</th>\n",
              "      <th>extra_calls</th>\n",
              "      <th>extra_internet</th>\n",
              "      <th>extra_sms</th>\n",
              "      <th>total_payment</th>\n",
              "    </tr>\n",
              "  </thead>\n",
              "  <tbody>\n",
              "    <tr>\n",
              "      <th>2288</th>\n",
              "      <td>1349</td>\n",
              "      <td>2018-10</td>\n",
              "      <td>NaN</td>\n",
              "      <td>0.0</td>\n",
              "      <td>13.0</td>\n",
              "      <td>76.0</td>\n",
              "      <td>69</td>\n",
              "      <td>surf</td>\n",
              "      <td>MA-NH</td>\n",
              "      <td>0</td>\n",
              "      <td>...</td>\n",
              "      <td>500</td>\n",
              "      <td>20</td>\n",
              "      <td>10</td>\n",
              "      <td>0.03</td>\n",
              "      <td>0.03</td>\n",
              "      <td>15.0</td>\n",
              "      <td>0.0</td>\n",
              "      <td>0.0</td>\n",
              "      <td>0.78</td>\n",
              "      <td>20.78</td>\n",
              "    </tr>\n",
              "    <tr>\n",
              "      <th>2289</th>\n",
              "      <td>1349</td>\n",
              "      <td>2018-11</td>\n",
              "      <td>NaN</td>\n",
              "      <td>0.0</td>\n",
              "      <td>17.0</td>\n",
              "      <td>72.0</td>\n",
              "      <td>69</td>\n",
              "      <td>surf</td>\n",
              "      <td>MA-NH</td>\n",
              "      <td>0</td>\n",
              "      <td>...</td>\n",
              "      <td>500</td>\n",
              "      <td>20</td>\n",
              "      <td>10</td>\n",
              "      <td>0.03</td>\n",
              "      <td>0.03</td>\n",
              "      <td>15.0</td>\n",
              "      <td>0.0</td>\n",
              "      <td>20.0</td>\n",
              "      <td>0.66</td>\n",
              "      <td>40.66</td>\n",
              "    </tr>\n",
              "    <tr>\n",
              "      <th>2290</th>\n",
              "      <td>1349</td>\n",
              "      <td>2018-12</td>\n",
              "      <td>NaN</td>\n",
              "      <td>0.0</td>\n",
              "      <td>13.0</td>\n",
              "      <td>61.0</td>\n",
              "      <td>69</td>\n",
              "      <td>surf</td>\n",
              "      <td>MA-NH</td>\n",
              "      <td>0</td>\n",
              "      <td>...</td>\n",
              "      <td>500</td>\n",
              "      <td>20</td>\n",
              "      <td>10</td>\n",
              "      <td>0.03</td>\n",
              "      <td>0.03</td>\n",
              "      <td>15.0</td>\n",
              "      <td>0.0</td>\n",
              "      <td>0.0</td>\n",
              "      <td>0.33</td>\n",
              "      <td>20.33</td>\n",
              "    </tr>\n",
              "    <tr>\n",
              "      <th>2291</th>\n",
              "      <td>1361</td>\n",
              "      <td>2018-05</td>\n",
              "      <td>NaN</td>\n",
              "      <td>0.0</td>\n",
              "      <td>2.0</td>\n",
              "      <td>2.0</td>\n",
              "      <td>45</td>\n",
              "      <td>surf</td>\n",
              "      <td>AL</td>\n",
              "      <td>0</td>\n",
              "      <td>...</td>\n",
              "      <td>500</td>\n",
              "      <td>20</td>\n",
              "      <td>10</td>\n",
              "      <td>0.03</td>\n",
              "      <td>0.03</td>\n",
              "      <td>15.0</td>\n",
              "      <td>0.0</td>\n",
              "      <td>0.0</td>\n",
              "      <td>0.00</td>\n",
              "      <td>20.00</td>\n",
              "    </tr>\n",
              "    <tr>\n",
              "      <th>2292</th>\n",
              "      <td>1482</td>\n",
              "      <td>2018-10</td>\n",
              "      <td>NaN</td>\n",
              "      <td>0.0</td>\n",
              "      <td>0.0</td>\n",
              "      <td>2.0</td>\n",
              "      <td>70</td>\n",
              "      <td>ultimate</td>\n",
              "      <td>NY-NJ-PA</td>\n",
              "      <td>1</td>\n",
              "      <td>...</td>\n",
              "      <td>3000</td>\n",
              "      <td>70</td>\n",
              "      <td>7</td>\n",
              "      <td>0.01</td>\n",
              "      <td>0.01</td>\n",
              "      <td>30.0</td>\n",
              "      <td>0.0</td>\n",
              "      <td>0.0</td>\n",
              "      <td>0.00</td>\n",
              "      <td>70.00</td>\n",
              "    </tr>\n",
              "  </tbody>\n",
              "</table>\n",
              "<p>5 rows × 21 columns</p>\n",
              "</div>"
            ],
            "text/plain": [
              "      user_id    month  counts_calls  total_duration  gb_used   sms  age  \\\n",
              "2288     1349  2018-10           NaN             0.0     13.0  76.0   69   \n",
              "2289     1349  2018-11           NaN             0.0     17.0  72.0   69   \n",
              "2290     1349  2018-12           NaN             0.0     13.0  61.0   69   \n",
              "2291     1361  2018-05           NaN             0.0      2.0   2.0   45   \n",
              "2292     1482  2018-10           NaN             0.0      0.0   2.0   70   \n",
              "\n",
              "          plan clean_city  is-nynj  ...  minutes_included  usd_monthly_pay  \\\n",
              "2288      surf      MA-NH        0  ...               500               20   \n",
              "2289      surf      MA-NH        0  ...               500               20   \n",
              "2290      surf      MA-NH        0  ...               500               20   \n",
              "2291      surf         AL        0  ...               500               20   \n",
              "2292  ultimate   NY-NJ-PA        1  ...              3000               70   \n",
              "\n",
              "      usd_per_gb  usd_per_message  usd_per_minute  gb_per_month_included  \\\n",
              "2288          10             0.03            0.03                   15.0   \n",
              "2289          10             0.03            0.03                   15.0   \n",
              "2290          10             0.03            0.03                   15.0   \n",
              "2291          10             0.03            0.03                   15.0   \n",
              "2292           7             0.01            0.01                   30.0   \n",
              "\n",
              "      extra_calls  extra_internet  extra_sms  total_payment  \n",
              "2288          0.0             0.0       0.78          20.78  \n",
              "2289          0.0            20.0       0.66          40.66  \n",
              "2290          0.0             0.0       0.33          20.33  \n",
              "2291          0.0             0.0       0.00          20.00  \n",
              "2292          0.0             0.0       0.00          70.00  \n",
              "\n",
              "[5 rows x 21 columns]"
            ]
          },
          "metadata": {}
        }
      ],
      "execution_count": 41
    },
    {
      "cell_type": "markdown",
      "source": "* Membuat kolom baru yaitu total_payment yang merupakan jumlah total pembayaran user ketika membeli paket dan biaya tambahannya.",
      "metadata": {}
    },
    {
      "cell_type": "markdown",
      "source": "**Kesimpulan Sementara**\n1. Memperbaiki tipe data duration pada kolom calls \n2. Mengagregasikan kolom-kolom sesuai ketentuan yang diminta\n3. Melakukan pembulatan keatas pada kolom mb_per_month_included sesuai ketentuan\n4. Menghapus kolom yang tidak dibutuhkan pada tabel users, untuk mempermudah proses analisis\n5. Menggabungkan semua tabel, agar lebih mudah untuk dianalisis\n6. Menghapus kolom yang tidak perlu, untuk mempermudah analisis\n7. Mengisi kolom yang kosong dengan nilai 0 sesuai ketentuan dan menambah kolom baru.\n8. Membuat kolom baru yaitu total_payment yang merupakan jumlah total pembayaran user ketika membeli paket dan biaya tambahannya.",
      "metadata": {}
    },
    {
      "cell_type": "markdown",
      "source": "# Exploratory Data Analysis (EDA)",
      "metadata": {}
    },
    {
      "cell_type": "markdown",
      "source": "* Keywords\n    \n    * Pendapatan\n    * Paket\n    * Perilaku client\n\n\n* Questions\n    1. Berapakah total income di setiap paket per bulannya?\n    2. Berapakah rata-rata income customer di setiap paket per bulannya?\n    3. Bagaimana distribusi rata-rata pendapatan user di setiap paket?\n    4. Bagaimana korelasi antara penggunaan internet dan pendapatan di setiap paket?",
      "metadata": {}
    },
    {
      "cell_type": "markdown",
      "source": "## Berapakah total income di setiap paket per bulannya?",
      "metadata": {}
    },
    {
      "cell_type": "code",
      "source": "# Persiapkan dataset\nincome_monthly = pd.pivot_table(df, index='month', \n                                columns='plan',\n                                values='total_payment', \n                                aggfunc='sum').reset_index()\n\n# Karena tipe data period M (Month) tidak bisa divisualisasikan, maka kita jadikan sebagai string\nincome_monthly['month'] = income_monthly['month'].astype(str)\nincome_monthly",
      "metadata": {
        "trusted": true
      },
      "outputs": [
        {
          "execution_count": 42,
          "output_type": "execute_result",
          "data": {
            "text/html": [
              "<div>\n",
              "<style scoped>\n",
              "    .dataframe tbody tr th:only-of-type {\n",
              "        vertical-align: middle;\n",
              "    }\n",
              "\n",
              "    .dataframe tbody tr th {\n",
              "        vertical-align: top;\n",
              "    }\n",
              "\n",
              "    .dataframe thead th {\n",
              "        text-align: right;\n",
              "    }\n",
              "</style>\n",
              "<table border=\"1\" class=\"dataframe\">\n",
              "  <thead>\n",
              "    <tr style=\"text-align: right;\">\n",
              "      <th>plan</th>\n",
              "      <th>month</th>\n",
              "      <th>surf</th>\n",
              "      <th>ultimate</th>\n",
              "    </tr>\n",
              "  </thead>\n",
              "  <tbody>\n",
              "    <tr>\n",
              "      <th>0</th>\n",
              "      <td>2018-01</td>\n",
              "      <td>40.00</td>\n",
              "      <td>280.0</td>\n",
              "    </tr>\n",
              "    <tr>\n",
              "      <th>1</th>\n",
              "      <td>2018-02</td>\n",
              "      <td>309.57</td>\n",
              "      <td>490.0</td>\n",
              "    </tr>\n",
              "    <tr>\n",
              "      <th>2</th>\n",
              "      <td>2018-03</td>\n",
              "      <td>1056.65</td>\n",
              "      <td>896.0</td>\n",
              "    </tr>\n",
              "    <tr>\n",
              "      <th>3</th>\n",
              "      <td>2018-04</td>\n",
              "      <td>2035.53</td>\n",
              "      <td>1533.0</td>\n",
              "    </tr>\n",
              "    <tr>\n",
              "      <th>4</th>\n",
              "      <td>2018-05</td>\n",
              "      <td>3667.37</td>\n",
              "      <td>2051.0</td>\n",
              "    </tr>\n",
              "    <tr>\n",
              "      <th>5</th>\n",
              "      <td>2018-06</td>\n",
              "      <td>4779.80</td>\n",
              "      <td>3367.0</td>\n",
              "    </tr>\n",
              "    <tr>\n",
              "      <th>6</th>\n",
              "      <td>2018-07</td>\n",
              "      <td>7583.56</td>\n",
              "      <td>4242.0</td>\n",
              "    </tr>\n",
              "    <tr>\n",
              "      <th>7</th>\n",
              "      <td>2018-08</td>\n",
              "      <td>10356.85</td>\n",
              "      <td>5173.0</td>\n",
              "    </tr>\n",
              "    <tr>\n",
              "      <th>8</th>\n",
              "      <td>2018-09</td>\n",
              "      <td>11304.67</td>\n",
              "      <td>6195.0</td>\n",
              "    </tr>\n",
              "    <tr>\n",
              "      <th>9</th>\n",
              "      <td>2018-10</td>\n",
              "      <td>15504.83</td>\n",
              "      <td>7665.0</td>\n",
              "    </tr>\n",
              "    <tr>\n",
              "      <th>10</th>\n",
              "      <td>2018-11</td>\n",
              "      <td>16415.21</td>\n",
              "      <td>9107.0</td>\n",
              "    </tr>\n",
              "    <tr>\n",
              "      <th>11</th>\n",
              "      <td>2018-12</td>\n",
              "      <td>22437.14</td>\n",
              "      <td>11067.0</td>\n",
              "    </tr>\n",
              "  </tbody>\n",
              "</table>\n",
              "</div>"
            ],
            "text/plain": [
              "plan    month      surf  ultimate\n",
              "0     2018-01     40.00     280.0\n",
              "1     2018-02    309.57     490.0\n",
              "2     2018-03   1056.65     896.0\n",
              "3     2018-04   2035.53    1533.0\n",
              "4     2018-05   3667.37    2051.0\n",
              "5     2018-06   4779.80    3367.0\n",
              "6     2018-07   7583.56    4242.0\n",
              "7     2018-08  10356.85    5173.0\n",
              "8     2018-09  11304.67    6195.0\n",
              "9     2018-10  15504.83    7665.0\n",
              "10    2018-11  16415.21    9107.0\n",
              "11    2018-12  22437.14   11067.0"
            ]
          },
          "metadata": {}
        }
      ],
      "execution_count": 42
    },
    {
      "cell_type": "code",
      "source": "plt.figure(figsize=(12,5))\nplt.title('Total Income of Surf and Ultimate Plan per Month')\nsns.lineplot(data=income_monthly, x='month', y='surf', color='red')\nsns.lineplot(data=income_monthly, x='month', y='ultimate', color='blue')\nplt.show()",
      "metadata": {
        "trusted": true
      },
      "outputs": [
        {
          "output_type": "display_data",
          "data": {
            "image/png": "[encoded data removed]",
            "text/plain": [
              "<Figure size 864x360 with 1 Axes>"
            ]
          },
          "metadata": {
            "needs_background": "light"
          }
        }
      ],
      "execution_count": 43
    },
    {
      "cell_type": "markdown",
      "source": "* findings \n    * Dari bulan april sampai desember paket surf memberikan kontribusi income yang lebih tinggi dibandingkan paket ultimate\n    * Kedua Paket memiliki pertumbuhan income yang semakin tajam.\n\n* insight\n    * Kemungkinan hal yang menyebabkan total income di surf mampu mengalahkan ultimate adalah jumlah user yang semakin banyak\n    * Paket yang lebih murah belum tentu memberikan kontribusi pendapatan yang sedikit.\n    * Paket yang lebih mahal belum tentu memberikan kontribusi pendapatan yang banyak.",
      "metadata": {}
    },
    {
      "cell_type": "markdown",
      "source": "## Berapakah rata-rata income customer di setiap paket per bulannya?",
      "metadata": {}
    },
    {
      "cell_type": "code",
      "source": "avg_income = pd.pivot_table(df, index='month',\n                            columns='plan',\n                            values='total_payment',\n                            aggfunc='mean').reset_index()\n\navg_income['month'] = avg_income['month'].astype(str)\navg_income",
      "metadata": {
        "trusted": true
      },
      "outputs": [
        {
          "execution_count": 44,
          "output_type": "execute_result",
          "data": {
            "text/html": [
              "<div>\n",
              "<style scoped>\n",
              "    .dataframe tbody tr th:only-of-type {\n",
              "        vertical-align: middle;\n",
              "    }\n",
              "\n",
              "    .dataframe tbody tr th {\n",
              "        vertical-align: top;\n",
              "    }\n",
              "\n",
              "    .dataframe thead th {\n",
              "        text-align: right;\n",
              "    }\n",
              "</style>\n",
              "<table border=\"1\" class=\"dataframe\">\n",
              "  <thead>\n",
              "    <tr style=\"text-align: right;\">\n",
              "      <th>plan</th>\n",
              "      <th>month</th>\n",
              "      <th>surf</th>\n",
              "      <th>ultimate</th>\n",
              "    </tr>\n",
              "  </thead>\n",
              "  <tbody>\n",
              "    <tr>\n",
              "      <th>0</th>\n",
              "      <td>2018-01</td>\n",
              "      <td>20.000000</td>\n",
              "      <td>70.000000</td>\n",
              "    </tr>\n",
              "    <tr>\n",
              "      <th>1</th>\n",
              "      <td>2018-02</td>\n",
              "      <td>34.396667</td>\n",
              "      <td>70.000000</td>\n",
              "    </tr>\n",
              "    <tr>\n",
              "      <th>2</th>\n",
              "      <td>2018-03</td>\n",
              "      <td>45.941304</td>\n",
              "      <td>74.666667</td>\n",
              "    </tr>\n",
              "    <tr>\n",
              "      <th>3</th>\n",
              "      <td>2018-04</td>\n",
              "      <td>40.710600</td>\n",
              "      <td>73.000000</td>\n",
              "    </tr>\n",
              "    <tr>\n",
              "      <th>4</th>\n",
              "      <td>2018-05</td>\n",
              "      <td>47.628182</td>\n",
              "      <td>70.724138</td>\n",
              "    </tr>\n",
              "    <tr>\n",
              "      <th>5</th>\n",
              "      <td>2018-06</td>\n",
              "      <td>49.276289</td>\n",
              "      <td>71.638298</td>\n",
              "    </tr>\n",
              "    <tr>\n",
              "      <th>6</th>\n",
              "      <td>2018-07</td>\n",
              "      <td>62.674050</td>\n",
              "      <td>71.898305</td>\n",
              "    </tr>\n",
              "    <tr>\n",
              "      <th>7</th>\n",
              "      <td>2018-08</td>\n",
              "      <td>63.931173</td>\n",
              "      <td>72.859155</td>\n",
              "    </tr>\n",
              "    <tr>\n",
              "      <th>8</th>\n",
              "      <td>2018-09</td>\n",
              "      <td>58.271495</td>\n",
              "      <td>72.034884</td>\n",
              "    </tr>\n",
              "    <tr>\n",
              "      <th>9</th>\n",
              "      <td>2018-10</td>\n",
              "      <td>65.421224</td>\n",
              "      <td>72.311321</td>\n",
              "    </tr>\n",
              "    <tr>\n",
              "      <th>10</th>\n",
              "      <td>2018-11</td>\n",
              "      <td>58.004276</td>\n",
              "      <td>71.708661</td>\n",
              "    </tr>\n",
              "    <tr>\n",
              "      <th>11</th>\n",
              "      <td>2018-12</td>\n",
              "      <td>70.557044</td>\n",
              "      <td>73.291391</td>\n",
              "    </tr>\n",
              "  </tbody>\n",
              "</table>\n",
              "</div>"
            ],
            "text/plain": [
              "plan    month       surf   ultimate\n",
              "0     2018-01  20.000000  70.000000\n",
              "1     2018-02  34.396667  70.000000\n",
              "2     2018-03  45.941304  74.666667\n",
              "3     2018-04  40.710600  73.000000\n",
              "4     2018-05  47.628182  70.724138\n",
              "5     2018-06  49.276289  71.638298\n",
              "6     2018-07  62.674050  71.898305\n",
              "7     2018-08  63.931173  72.859155\n",
              "8     2018-09  58.271495  72.034884\n",
              "9     2018-10  65.421224  72.311321\n",
              "10    2018-11  58.004276  71.708661\n",
              "11    2018-12  70.557044  73.291391"
            ]
          },
          "metadata": {}
        }
      ],
      "execution_count": 44
    },
    {
      "cell_type": "code",
      "source": "plt.figure(figsize=(12,5))\nplt.title('Average Income per user of Surf and Ultimate Plan per Month')\nsns.lineplot(data=avg_income, x='month', y='surf', color='red')\nsns.lineplot(data=avg_income, x='month', y='ultimate', color='blue')\nplt.show()",
      "metadata": {
        "trusted": true
      },
      "outputs": [
        {
          "output_type": "display_data",
          "data": {
            "image/png": "[encoded data removed]",
            "text/plain": [
              "<Figure size 864x360 with 1 Axes>"
            ]
          },
          "metadata": {
            "needs_background": "light"
          }
        }
      ],
      "execution_count": 45
    },
    {
      "cell_type": "markdown",
      "source": "* findings\n    * Rata-rata pengeluaran orang untuk membeli paket internet perbulannya lebih tinggi pada paket surf daripada ultimate\n    * Rata-rata pengeluaran orang untuk membeli paket surf perbulannya semakin naik setiap bulannya secara fluktuatif\n    \n* insight\n    * Pengguna paket surf biasanya membayar biaya tambahan untuk mendapat kuota internet / pulsa tambahan\n    * Pengguna paket ultimate jarang yang membayar biaya tambahan untuk mendapat kuota internet / pulsa tambahan\n    \n* recommendation\n    * Untuk pengguna disarankan untuk membeli paket ultimate karena benefitnya lebih banyak dan lebih murah daripada paket surf yang biaya tambahannya juga bertambah banyak terus.",
      "metadata": {}
    },
    {
      "cell_type": "markdown",
      "source": "## Bagaimana distribusi rata-rata pendapatan user di setiap paket?",
      "metadata": {}
    },
    {
      "cell_type": "code",
      "source": "avg_user = pd.pivot_table(df, index='user_id', \n                          columns='plan', \n                          values='total_payment',\n                          aggfunc='mean').reset_index()\navg_user",
      "metadata": {
        "trusted": true
      },
      "outputs": [
        {
          "execution_count": 46,
          "output_type": "execute_result",
          "data": {
            "text/html": [
              "<div>\n",
              "<style scoped>\n",
              "    .dataframe tbody tr th:only-of-type {\n",
              "        vertical-align: middle;\n",
              "    }\n",
              "\n",
              "    .dataframe tbody tr th {\n",
              "        vertical-align: top;\n",
              "    }\n",
              "\n",
              "    .dataframe thead th {\n",
              "        text-align: right;\n",
              "    }\n",
              "</style>\n",
              "<table border=\"1\" class=\"dataframe\">\n",
              "  <thead>\n",
              "    <tr style=\"text-align: right;\">\n",
              "      <th>plan</th>\n",
              "      <th>user_id</th>\n",
              "      <th>surf</th>\n",
              "      <th>ultimate</th>\n",
              "    </tr>\n",
              "  </thead>\n",
              "  <tbody>\n",
              "    <tr>\n",
              "      <th>0</th>\n",
              "      <td>1000</td>\n",
              "      <td>NaN</td>\n",
              "      <td>70.0</td>\n",
              "    </tr>\n",
              "    <tr>\n",
              "      <th>1</th>\n",
              "      <td>1001</td>\n",
              "      <td>50.018000</td>\n",
              "      <td>NaN</td>\n",
              "    </tr>\n",
              "    <tr>\n",
              "      <th>2</th>\n",
              "      <td>1002</td>\n",
              "      <td>33.333333</td>\n",
              "      <td>NaN</td>\n",
              "    </tr>\n",
              "    <tr>\n",
              "      <th>3</th>\n",
              "      <td>1003</td>\n",
              "      <td>158.120000</td>\n",
              "      <td>NaN</td>\n",
              "    </tr>\n",
              "    <tr>\n",
              "      <th>4</th>\n",
              "      <td>1004</td>\n",
              "      <td>76.250000</td>\n",
              "      <td>NaN</td>\n",
              "    </tr>\n",
              "    <tr>\n",
              "      <th>...</th>\n",
              "      <td>...</td>\n",
              "      <td>...</td>\n",
              "      <td>...</td>\n",
              "    </tr>\n",
              "    <tr>\n",
              "      <th>485</th>\n",
              "      <td>1495</td>\n",
              "      <td>118.325000</td>\n",
              "      <td>NaN</td>\n",
              "    </tr>\n",
              "    <tr>\n",
              "      <th>486</th>\n",
              "      <td>1496</td>\n",
              "      <td>28.000000</td>\n",
              "      <td>NaN</td>\n",
              "    </tr>\n",
              "    <tr>\n",
              "      <th>487</th>\n",
              "      <td>1497</td>\n",
              "      <td>NaN</td>\n",
              "      <td>70.0</td>\n",
              "    </tr>\n",
              "    <tr>\n",
              "      <th>488</th>\n",
              "      <td>1498</td>\n",
              "      <td>77.272727</td>\n",
              "      <td>NaN</td>\n",
              "    </tr>\n",
              "    <tr>\n",
              "      <th>489</th>\n",
              "      <td>1499</td>\n",
              "      <td>55.000000</td>\n",
              "      <td>NaN</td>\n",
              "    </tr>\n",
              "  </tbody>\n",
              "</table>\n",
              "<p>490 rows × 3 columns</p>\n",
              "</div>"
            ],
            "text/plain": [
              "plan  user_id        surf  ultimate\n",
              "0        1000         NaN      70.0\n",
              "1        1001   50.018000       NaN\n",
              "2        1002   33.333333       NaN\n",
              "3        1003  158.120000       NaN\n",
              "4        1004   76.250000       NaN\n",
              "..        ...         ...       ...\n",
              "485      1495  118.325000       NaN\n",
              "486      1496   28.000000       NaN\n",
              "487      1497         NaN      70.0\n",
              "488      1498   77.272727       NaN\n",
              "489      1499   55.000000       NaN\n",
              "\n",
              "[490 rows x 3 columns]"
            ]
          },
          "metadata": {}
        }
      ],
      "execution_count": 46
    },
    {
      "cell_type": "code",
      "source": "# Dapatkan user yang surf\navg_surf = avg_user.loc[:, ['user_id', 'surf']].dropna()\navg_surf",
      "metadata": {
        "trusted": true
      },
      "outputs": [
        {
          "execution_count": 47,
          "output_type": "execute_result",
          "data": {
            "text/html": [
              "<div>\n",
              "<style scoped>\n",
              "    .dataframe tbody tr th:only-of-type {\n",
              "        vertical-align: middle;\n",
              "    }\n",
              "\n",
              "    .dataframe tbody tr th {\n",
              "        vertical-align: top;\n",
              "    }\n",
              "\n",
              "    .dataframe thead th {\n",
              "        text-align: right;\n",
              "    }\n",
              "</style>\n",
              "<table border=\"1\" class=\"dataframe\">\n",
              "  <thead>\n",
              "    <tr style=\"text-align: right;\">\n",
              "      <th>plan</th>\n",
              "      <th>user_id</th>\n",
              "      <th>surf</th>\n",
              "    </tr>\n",
              "  </thead>\n",
              "  <tbody>\n",
              "    <tr>\n",
              "      <th>1</th>\n",
              "      <td>1001</td>\n",
              "      <td>50.018000</td>\n",
              "    </tr>\n",
              "    <tr>\n",
              "      <th>2</th>\n",
              "      <td>1002</td>\n",
              "      <td>33.333333</td>\n",
              "    </tr>\n",
              "    <tr>\n",
              "      <th>3</th>\n",
              "      <td>1003</td>\n",
              "      <td>158.120000</td>\n",
              "    </tr>\n",
              "    <tr>\n",
              "      <th>4</th>\n",
              "      <td>1004</td>\n",
              "      <td>76.250000</td>\n",
              "    </tr>\n",
              "    <tr>\n",
              "      <th>5</th>\n",
              "      <td>1005</td>\n",
              "      <td>40.000000</td>\n",
              "    </tr>\n",
              "    <tr>\n",
              "      <th>...</th>\n",
              "      <td>...</td>\n",
              "      <td>...</td>\n",
              "    </tr>\n",
              "    <tr>\n",
              "      <th>484</th>\n",
              "      <td>1494</td>\n",
              "      <td>30.625000</td>\n",
              "    </tr>\n",
              "    <tr>\n",
              "      <th>485</th>\n",
              "      <td>1495</td>\n",
              "      <td>118.325000</td>\n",
              "    </tr>\n",
              "    <tr>\n",
              "      <th>486</th>\n",
              "      <td>1496</td>\n",
              "      <td>28.000000</td>\n",
              "    </tr>\n",
              "    <tr>\n",
              "      <th>488</th>\n",
              "      <td>1498</td>\n",
              "      <td>77.272727</td>\n",
              "    </tr>\n",
              "    <tr>\n",
              "      <th>489</th>\n",
              "      <td>1499</td>\n",
              "      <td>55.000000</td>\n",
              "    </tr>\n",
              "  </tbody>\n",
              "</table>\n",
              "<p>333 rows × 2 columns</p>\n",
              "</div>"
            ],
            "text/plain": [
              "plan  user_id        surf\n",
              "1        1001   50.018000\n",
              "2        1002   33.333333\n",
              "3        1003  158.120000\n",
              "4        1004   76.250000\n",
              "5        1005   40.000000\n",
              "..        ...         ...\n",
              "484      1494   30.625000\n",
              "485      1495  118.325000\n",
              "486      1496   28.000000\n",
              "488      1498   77.272727\n",
              "489      1499   55.000000\n",
              "\n",
              "[333 rows x 2 columns]"
            ]
          },
          "metadata": {}
        }
      ],
      "execution_count": 47
    },
    {
      "cell_type": "code",
      "source": "# Dapatkan user yang ultimate\navg_ultimate = avg_user.loc[:, ['user_id', 'ultimate']].dropna()\navg_ultimate",
      "metadata": {
        "trusted": true
      },
      "outputs": [
        {
          "execution_count": 48,
          "output_type": "execute_result",
          "data": {
            "text/html": [
              "<div>\n",
              "<style scoped>\n",
              "    .dataframe tbody tr th:only-of-type {\n",
              "        vertical-align: middle;\n",
              "    }\n",
              "\n",
              "    .dataframe tbody tr th {\n",
              "        vertical-align: top;\n",
              "    }\n",
              "\n",
              "    .dataframe thead th {\n",
              "        text-align: right;\n",
              "    }\n",
              "</style>\n",
              "<table border=\"1\" class=\"dataframe\">\n",
              "  <thead>\n",
              "    <tr style=\"text-align: right;\">\n",
              "      <th>plan</th>\n",
              "      <th>user_id</th>\n",
              "      <th>ultimate</th>\n",
              "    </tr>\n",
              "  </thead>\n",
              "  <tbody>\n",
              "    <tr>\n",
              "      <th>0</th>\n",
              "      <td>1000</td>\n",
              "      <td>70.000000</td>\n",
              "    </tr>\n",
              "    <tr>\n",
              "      <th>6</th>\n",
              "      <td>1006</td>\n",
              "      <td>77.000000</td>\n",
              "    </tr>\n",
              "    <tr>\n",
              "      <th>8</th>\n",
              "      <td>1008</td>\n",
              "      <td>70.000000</td>\n",
              "    </tr>\n",
              "    <tr>\n",
              "      <th>11</th>\n",
              "      <td>1011</td>\n",
              "      <td>70.000000</td>\n",
              "    </tr>\n",
              "    <tr>\n",
              "      <th>13</th>\n",
              "      <td>1013</td>\n",
              "      <td>70.000000</td>\n",
              "    </tr>\n",
              "    <tr>\n",
              "      <th>...</th>\n",
              "      <td>...</td>\n",
              "      <td>...</td>\n",
              "    </tr>\n",
              "    <tr>\n",
              "      <th>472</th>\n",
              "      <td>1482</td>\n",
              "      <td>70.000000</td>\n",
              "    </tr>\n",
              "    <tr>\n",
              "      <th>477</th>\n",
              "      <td>1487</td>\n",
              "      <td>70.000000</td>\n",
              "    </tr>\n",
              "    <tr>\n",
              "      <th>480</th>\n",
              "      <td>1490</td>\n",
              "      <td>114.333333</td>\n",
              "    </tr>\n",
              "    <tr>\n",
              "      <th>483</th>\n",
              "      <td>1493</td>\n",
              "      <td>70.000000</td>\n",
              "    </tr>\n",
              "    <tr>\n",
              "      <th>487</th>\n",
              "      <td>1497</td>\n",
              "      <td>70.000000</td>\n",
              "    </tr>\n",
              "  </tbody>\n",
              "</table>\n",
              "<p>157 rows × 2 columns</p>\n",
              "</div>"
            ],
            "text/plain": [
              "plan  user_id    ultimate\n",
              "0        1000   70.000000\n",
              "6        1006   77.000000\n",
              "8        1008   70.000000\n",
              "11       1011   70.000000\n",
              "13       1013   70.000000\n",
              "..        ...         ...\n",
              "472      1482   70.000000\n",
              "477      1487   70.000000\n",
              "480      1490  114.333333\n",
              "483      1493   70.000000\n",
              "487      1497   70.000000\n",
              "\n",
              "[157 rows x 2 columns]"
            ]
          },
          "metadata": {}
        }
      ],
      "execution_count": 48
    },
    {
      "cell_type": "code",
      "source": "plt.figure(figsize=(12, 5))\nplt.subplot(1, 2, 1)\nplt.title('Surf')\nsns.histplot(avg_surf['surf'], binwidth=5, color='red')\n\nplt.subplot(1, 2, 2)\nplt.title('Ultimate')\nsns.histplot(avg_ultimate['ultimate'], binwidth=5, color='blue')\nplt.show()",
      "metadata": {
        "trusted": true
      },
      "outputs": [
        {
          "output_type": "display_data",
          "data": {
            "image/png": "[encoded data removed]",
            "text/plain": [
              "<Figure size 864x360 with 2 Axes>"
            ]
          },
          "metadata": {
            "needs_background": "light"
          }
        }
      ],
      "execution_count": 49
    },
    {
      "cell_type": "code",
      "source": "#  varians dan standar deviasi\n\n# Surf\nsurf_std = round(avg_surf['surf'].std(), 1)\nsurf_var = round(avg_surf['surf'].var(), 1)\nprint('Surf:')\nprint(f'Standar Deviasi nya: {surf_std}')\nprint(f'Varians nya: {surf_var}')\nprint()\n\n# Ultimate\nulti_std = round(avg_ultimate['ultimate'].std(), 1)\nulti_var = round(avg_ultimate['ultimate'].var(), 1)\nprint('Ultimate:')\nprint(f'Standar Deviasi nya: {ulti_std}')\nprint(f'Varians nya: {ulti_var}')\nprint()",
      "metadata": {
        "trusted": true
      },
      "outputs": [
        {
          "name": "stdout",
          "output_type": "stream",
          "text": "Surf:\n\nStandar Deviasi nya: 43.6\n\nVarians nya: 1897.9\n\n\n\nUltimate:\n\nStandar Deviasi nya: 7.4\n\nVarians nya: 55.1\n\n\n"
        }
      ],
      "execution_count": 50
    },
    {
      "cell_type": "markdown",
      "source": "* Findings\n\n    * Pada paket ultimate, kebanyakan user mengeluarkan uang di kisaran 70-75 dollar.\n    * Pada paket Surf, banyak user yang melebihi paketnya sehingga biayanya mencapai lebih dari 20 (yaitu 25 - 200).\n    * Standar deviasi dan varians dari surf adalah 43.6 dan 1897.9\n    * Standar deviasi dan varians dari ultimate adalah 7.4 dan 55.1\n\n* Insights\n\n    * Sedikit user ultimate yang menambah paketnya.\n    * Banyak user surf yang menambah paketnya bahkan pengeluarannya melebihi paket ultimate.\n    * Income dari customer surf lebih bervariasi dibandingkan ultimate karena surf lebih banyak nambah paket. Dan value penambahannya bermacam-macam",
      "metadata": {}
    },
    {
      "cell_type": "markdown",
      "source": "## Bagaimana korelasi antara penggunaan internet dan pendapatan di setiap paket?",
      "metadata": {}
    },
    {
      "cell_type": "code",
      "source": "# Korelasi antara penggunaan internet dengan total payment di paket surf\nsurf_internet = df.loc[df['plan']== 'surf', ['total_payment', 'gb_used', 'total_duration', 'sms', 'age']]\n\n# Kalau valuenya positif, artinya hubungan antar variable selaras (kalo satu naik, yang lainnya ikutan naik)\n# Kalau valuenya negatif, artinya hubungan antar variable berlawanan (kalo satu naik, yang lainnya turun)\n# Mendekati 0 (Tidak ada korelasi)\n# 0.01 - 0.33 (Lemah)\n# 0.33 - 0.66 (Medium)\n# 0.66 - 1.00 (Tinggi)\n\nplt.figure(figsize=(8, 6))\nplt.title('Korelasi Antara total payment dengan variable lain di Surf')\nsns.heatmap(surf_internet.corr(), annot=True)\nplt.show()",
      "metadata": {
        "trusted": true
      },
      "outputs": [
        {
          "output_type": "display_data",
          "data": {
            "image/png": "[encoded data removed]",
            "text/plain": [
              "<Figure size 576x432 with 2 Axes>"
            ]
          },
          "metadata": {
            "needs_background": "light"
          }
        }
      ],
      "execution_count": 51
    },
    {
      "cell_type": "markdown",
      "source": "* Findings :\n\n**Korelasi antara total payment dengan variabel lain di paket surf**\n\n* A. Korelasi kolom total_payment dengan kolom lain \n    1. Korelasi total_payment dengan gb_used adalah 0.89 artinya semakin banyak total_payment maka semakin tinggi pula gb_used yang digunakan (korelasi tinggi)\n    2. Korelasi total_payment dengan duration adalah 0.28 artinya semakin banyak total_payment maka duration juga akan semakin naik akan tetapi tidak terlalu tinggi (korelasi lemah)\n    3. Korelasi total_payment dengan sms adalah 0.17 artinya semakin banyak total_payment maka jumlah sms juga semakin naik akan tetapi tidak terlalu tinggi (korelasi lemah)\n    4. Korelasi total_payment dengan age adalah 0.032 artinya jumlah total_payment tidak ada pengaruh terhadap usia\n    \n    \n* B. Korelasi kolom gb_used dengan kolom lain\n    1. Korelasi gb_used dengan duration adalah 0.37 artinya semakin banyak gb_used digunakan maka durasi juga akan semakin naik akan tetapi tidak terlalu banyak (korelasi medium)\n    2. Korelasi gb_used dengan sms adalah 0.16 artinya semakin banyak gb_used digunakan maka jumlah sms juga semakin naik akan tetapi tidak terlalu tinggi (korelasi lemah)\n    3. Korelasi gb_used dengan age adalah 0.046 artinya jumlah gb_used tidak ada pengaruh terhadap usia\n    \n    \n* C. Korelasi kolom duration dengan kolom lain\n    1. Korelasi duration dengan sms adalah 0.24 artinya semakin banyak durasi maka jumlah sms juga semakin naik akan tetapi tidak terlalu tinggi (korelasi lemah)\n    2. Korelasi duration dengan age adalah -0.018 artinya jumlah durasi tidak ada pengaruh terhadap usia\n    \n    \n* D. Korelasi kolom sms dengan kolom lain\n    1. Korelasi sms dengan age adalah -0.019 artinya jumlah sms tidak ada pengaruh terhadap usia",
      "metadata": {}
    },
    {
      "cell_type": "code",
      "source": "# visualisasi scatterplot untuk melihat korelasinya\nsns.scatterplot(data=surf_internet, x='gb_used', y='total_payment', color='red')\nplt.show()",
      "metadata": {
        "trusted": true
      },
      "outputs": [
        {
          "output_type": "display_data",
          "data": {
            "image/png": "[encoded data removed]",
            "text/plain": [
              "<Figure size 432x288 with 1 Axes>"
            ]
          },
          "metadata": {
            "needs_background": "light"
          }
        }
      ],
      "execution_count": 52
    },
    {
      "cell_type": "markdown",
      "source": "* Berdasarkan visualisasi data diatas, grafik miring keatas setelah gb_used mencapai 15 gb, hal tersebut dapat disimpulkan bahwa korelasi gb_used penggunaan internet dengan total_payment memiliki korelasi yang kuat artinya semakin banyak penggunaan gb_used maka total_payment juga semakin tinggi (korelasi tinggi)",
      "metadata": {}
    },
    {
      "cell_type": "code",
      "source": "# Korelasi antara penggunaan internet dengan total payment di paket ultimate\nulti_internet = df.loc[df['plan']=='ultimate', ['total_payment', 'gb_used', 'total_duration', 'sms', 'age']]\nplt.figure(figsize=(8, 6))\nplt.title('Korelasi Antara total payment dengan variable lain di Ultimate')\nsns.heatmap(ulti_internet.corr(), annot=True)\nplt.show()",
      "metadata": {
        "trusted": true
      },
      "outputs": [
        {
          "output_type": "display_data",
          "data": {
            "image/png": "[encoded data removed]",
            "text/plain": [
              "<Figure size 576x432 with 2 Axes>"
            ]
          },
          "metadata": {
            "needs_background": "light"
          }
        }
      ],
      "execution_count": 53
    },
    {
      "cell_type": "markdown",
      "source": "* Findings :\n\n**Korelasi antara total payment dengan variabel lain di paket ultimate**\n\n* A. Korelasi kolom total_payment dengan kolom lain \n    1. Korelasi total_payment dengan gb_used adalah 0.56 artinya semakin banyak total_payment maka cukup tinggi pula gb_used yang digunakan (korelasi medium)\n    2. Korelasi total_payment dengan duration adalah jumlah total_payment tidak ada pengaruh terhadap durasi \n    3. Korelasi total_payment dengan sms adalah 0.17 artinya semakin banyak total_payment maka jumlah sms juga semakin naik akan tetapi tidak terlalu tinggi (korelasi lemah)\n    4. Korelasi total_payment dengan age adalah 0.012 artinya jumlah total_payment tidak ada pengaruh terhadap usia\n    \n    \n* B. Korelasi kolom gb_used dengan kolom lain\n    1. Korelasi gb_used dengan duration adalah 0.22 artinya semakin banyak gb_used digunakan maka durasi juga semakin naik akan tetapi tidak terlalu banyak (korelasi lemah)\n    2. Korelasi gb_used dengan sms adalah 0.34 artinya semakin banyak gb_used digunakan maka jumlah sms juga semakin naik akan tetapi tidak terlalu tinggi (korelasi medium)\n    3. Korelasi gb_used dengan age adalah -0.049 artinya jumlah gb_used tidak ada pengaruh terhadap usia\n    \n    \n* C. Korelasi kolom duration dengan kolom lain\n    1. Korelasi duration dengan sms adalah 0.24 artinya semakin banyak durasi maka jumlah sms juga semakin naik akan tetapi tidak terlalu tinggi (korelasi lemah)\n    2. Korelasi duration dengan age adalah 0.032 artinya jumlah durasi tidak ada pengaruh terhadap usia\n    \n    \n* D. Korelasi kolom sms dengan kolom lain\n    1. Korelasi sms dengan age adalah 0.0078 artinya jumlah sms tidak ada pengaruh terhadap usia",
      "metadata": {}
    },
    {
      "cell_type": "code",
      "source": "# visualisasi scatterplot untuk melihat korelasinya\nsns.scatterplot(data=ulti_internet, x='gb_used', y='total_payment', color='blue')\nplt.show()",
      "metadata": {
        "trusted": true
      },
      "outputs": [
        {
          "output_type": "display_data",
          "data": {
            "image/png": "[encoded data removed]",
            "text/plain": [
              "<Figure size 432x288 with 1 Axes>"
            ]
          },
          "metadata": {
            "needs_background": "light"
          }
        }
      ],
      "execution_count": 54
    },
    {
      "cell_type": "markdown",
      "source": "* Berdasarkan visualisasi data diatas, grafik miring keatas setelah gb_used mencapai 30 gb, hal tersebut dapat disimpulkan bahwa korelasi gb_used penggunaan internet dengan total_payment memiliki korelasi yang sedang artinya semakin banyak penggunaan gb_used maka total_payment juga semakin tinggi namun tidak terlalu tinggi.",
      "metadata": {}
    },
    {
      "cell_type": "markdown",
      "source": "# Analisis Data Statistik",
      "metadata": {}
    },
    {
      "cell_type": "markdown",
      "source": "## Mempelajari Syarat dan Kondisi Terkait Paket Prabayar",
      "metadata": {}
    },
    {
      "cell_type": "code",
      "source": "# Tampilkan persyaratan paket prabayar dan pastikan Anda memahaminya\ndf",
      "metadata": {
        "trusted": true
      },
      "outputs": [
        {
          "execution_count": 55,
          "output_type": "execute_result",
          "data": {
            "text/html": [
              "<div>\n",
              "<style scoped>\n",
              "    .dataframe tbody tr th:only-of-type {\n",
              "        vertical-align: middle;\n",
              "    }\n",
              "\n",
              "    .dataframe tbody tr th {\n",
              "        vertical-align: top;\n",
              "    }\n",
              "\n",
              "    .dataframe thead th {\n",
              "        text-align: right;\n",
              "    }\n",
              "</style>\n",
              "<table border=\"1\" class=\"dataframe\">\n",
              "  <thead>\n",
              "    <tr style=\"text-align: right;\">\n",
              "      <th></th>\n",
              "      <th>user_id</th>\n",
              "      <th>month</th>\n",
              "      <th>counts_calls</th>\n",
              "      <th>total_duration</th>\n",
              "      <th>gb_used</th>\n",
              "      <th>sms</th>\n",
              "      <th>age</th>\n",
              "      <th>plan</th>\n",
              "      <th>clean_city</th>\n",
              "      <th>is-nynj</th>\n",
              "      <th>...</th>\n",
              "      <th>minutes_included</th>\n",
              "      <th>usd_monthly_pay</th>\n",
              "      <th>usd_per_gb</th>\n",
              "      <th>usd_per_message</th>\n",
              "      <th>usd_per_minute</th>\n",
              "      <th>gb_per_month_included</th>\n",
              "      <th>extra_calls</th>\n",
              "      <th>extra_internet</th>\n",
              "      <th>extra_sms</th>\n",
              "      <th>total_payment</th>\n",
              "    </tr>\n",
              "  </thead>\n",
              "  <tbody>\n",
              "    <tr>\n",
              "      <th>0</th>\n",
              "      <td>1000</td>\n",
              "      <td>2018-12</td>\n",
              "      <td>16.0</td>\n",
              "      <td>124.0</td>\n",
              "      <td>2.0</td>\n",
              "      <td>11.0</td>\n",
              "      <td>45</td>\n",
              "      <td>ultimate</td>\n",
              "      <td>GA</td>\n",
              "      <td>0</td>\n",
              "      <td>...</td>\n",
              "      <td>3000</td>\n",
              "      <td>70</td>\n",
              "      <td>7</td>\n",
              "      <td>0.01</td>\n",
              "      <td>0.01</td>\n",
              "      <td>30.0</td>\n",
              "      <td>0.0</td>\n",
              "      <td>0.0</td>\n",
              "      <td>0.00</td>\n",
              "      <td>70.00</td>\n",
              "    </tr>\n",
              "    <tr>\n",
              "      <th>1</th>\n",
              "      <td>1001</td>\n",
              "      <td>2018-08</td>\n",
              "      <td>27.0</td>\n",
              "      <td>182.0</td>\n",
              "      <td>7.0</td>\n",
              "      <td>30.0</td>\n",
              "      <td>28</td>\n",
              "      <td>surf</td>\n",
              "      <td>WA</td>\n",
              "      <td>0</td>\n",
              "      <td>...</td>\n",
              "      <td>500</td>\n",
              "      <td>20</td>\n",
              "      <td>10</td>\n",
              "      <td>0.03</td>\n",
              "      <td>0.03</td>\n",
              "      <td>15.0</td>\n",
              "      <td>0.0</td>\n",
              "      <td>0.0</td>\n",
              "      <td>0.00</td>\n",
              "      <td>20.00</td>\n",
              "    </tr>\n",
              "    <tr>\n",
              "      <th>2</th>\n",
              "      <td>1001</td>\n",
              "      <td>2018-09</td>\n",
              "      <td>49.0</td>\n",
              "      <td>315.0</td>\n",
              "      <td>14.0</td>\n",
              "      <td>44.0</td>\n",
              "      <td>28</td>\n",
              "      <td>surf</td>\n",
              "      <td>WA</td>\n",
              "      <td>0</td>\n",
              "      <td>...</td>\n",
              "      <td>500</td>\n",
              "      <td>20</td>\n",
              "      <td>10</td>\n",
              "      <td>0.03</td>\n",
              "      <td>0.03</td>\n",
              "      <td>15.0</td>\n",
              "      <td>0.0</td>\n",
              "      <td>0.0</td>\n",
              "      <td>0.00</td>\n",
              "      <td>20.00</td>\n",
              "    </tr>\n",
              "    <tr>\n",
              "      <th>3</th>\n",
              "      <td>1001</td>\n",
              "      <td>2018-10</td>\n",
              "      <td>65.0</td>\n",
              "      <td>393.0</td>\n",
              "      <td>22.0</td>\n",
              "      <td>53.0</td>\n",
              "      <td>28</td>\n",
              "      <td>surf</td>\n",
              "      <td>WA</td>\n",
              "      <td>0</td>\n",
              "      <td>...</td>\n",
              "      <td>500</td>\n",
              "      <td>20</td>\n",
              "      <td>10</td>\n",
              "      <td>0.03</td>\n",
              "      <td>0.03</td>\n",
              "      <td>15.0</td>\n",
              "      <td>0.0</td>\n",
              "      <td>70.0</td>\n",
              "      <td>0.09</td>\n",
              "      <td>90.09</td>\n",
              "    </tr>\n",
              "    <tr>\n",
              "      <th>4</th>\n",
              "      <td>1001</td>\n",
              "      <td>2018-11</td>\n",
              "      <td>64.0</td>\n",
              "      <td>426.0</td>\n",
              "      <td>19.0</td>\n",
              "      <td>36.0</td>\n",
              "      <td>28</td>\n",
              "      <td>surf</td>\n",
              "      <td>WA</td>\n",
              "      <td>0</td>\n",
              "      <td>...</td>\n",
              "      <td>500</td>\n",
              "      <td>20</td>\n",
              "      <td>10</td>\n",
              "      <td>0.03</td>\n",
              "      <td>0.03</td>\n",
              "      <td>15.0</td>\n",
              "      <td>0.0</td>\n",
              "      <td>40.0</td>\n",
              "      <td>0.00</td>\n",
              "      <td>60.00</td>\n",
              "    </tr>\n",
              "    <tr>\n",
              "      <th>...</th>\n",
              "      <td>...</td>\n",
              "      <td>...</td>\n",
              "      <td>...</td>\n",
              "      <td>...</td>\n",
              "      <td>...</td>\n",
              "      <td>...</td>\n",
              "      <td>...</td>\n",
              "      <td>...</td>\n",
              "      <td>...</td>\n",
              "      <td>...</td>\n",
              "      <td>...</td>\n",
              "      <td>...</td>\n",
              "      <td>...</td>\n",
              "      <td>...</td>\n",
              "      <td>...</td>\n",
              "      <td>...</td>\n",
              "      <td>...</td>\n",
              "      <td>...</td>\n",
              "      <td>...</td>\n",
              "      <td>...</td>\n",
              "      <td>...</td>\n",
              "    </tr>\n",
              "    <tr>\n",
              "      <th>2288</th>\n",
              "      <td>1349</td>\n",
              "      <td>2018-10</td>\n",
              "      <td>NaN</td>\n",
              "      <td>0.0</td>\n",
              "      <td>13.0</td>\n",
              "      <td>76.0</td>\n",
              "      <td>69</td>\n",
              "      <td>surf</td>\n",
              "      <td>MA-NH</td>\n",
              "      <td>0</td>\n",
              "      <td>...</td>\n",
              "      <td>500</td>\n",
              "      <td>20</td>\n",
              "      <td>10</td>\n",
              "      <td>0.03</td>\n",
              "      <td>0.03</td>\n",
              "      <td>15.0</td>\n",
              "      <td>0.0</td>\n",
              "      <td>0.0</td>\n",
              "      <td>0.78</td>\n",
              "      <td>20.78</td>\n",
              "    </tr>\n",
              "    <tr>\n",
              "      <th>2289</th>\n",
              "      <td>1349</td>\n",
              "      <td>2018-11</td>\n",
              "      <td>NaN</td>\n",
              "      <td>0.0</td>\n",
              "      <td>17.0</td>\n",
              "      <td>72.0</td>\n",
              "      <td>69</td>\n",
              "      <td>surf</td>\n",
              "      <td>MA-NH</td>\n",
              "      <td>0</td>\n",
              "      <td>...</td>\n",
              "      <td>500</td>\n",
              "      <td>20</td>\n",
              "      <td>10</td>\n",
              "      <td>0.03</td>\n",
              "      <td>0.03</td>\n",
              "      <td>15.0</td>\n",
              "      <td>0.0</td>\n",
              "      <td>20.0</td>\n",
              "      <td>0.66</td>\n",
              "      <td>40.66</td>\n",
              "    </tr>\n",
              "    <tr>\n",
              "      <th>2290</th>\n",
              "      <td>1349</td>\n",
              "      <td>2018-12</td>\n",
              "      <td>NaN</td>\n",
              "      <td>0.0</td>\n",
              "      <td>13.0</td>\n",
              "      <td>61.0</td>\n",
              "      <td>69</td>\n",
              "      <td>surf</td>\n",
              "      <td>MA-NH</td>\n",
              "      <td>0</td>\n",
              "      <td>...</td>\n",
              "      <td>500</td>\n",
              "      <td>20</td>\n",
              "      <td>10</td>\n",
              "      <td>0.03</td>\n",
              "      <td>0.03</td>\n",
              "      <td>15.0</td>\n",
              "      <td>0.0</td>\n",
              "      <td>0.0</td>\n",
              "      <td>0.33</td>\n",
              "      <td>20.33</td>\n",
              "    </tr>\n",
              "    <tr>\n",
              "      <th>2291</th>\n",
              "      <td>1361</td>\n",
              "      <td>2018-05</td>\n",
              "      <td>NaN</td>\n",
              "      <td>0.0</td>\n",
              "      <td>2.0</td>\n",
              "      <td>2.0</td>\n",
              "      <td>45</td>\n",
              "      <td>surf</td>\n",
              "      <td>AL</td>\n",
              "      <td>0</td>\n",
              "      <td>...</td>\n",
              "      <td>500</td>\n",
              "      <td>20</td>\n",
              "      <td>10</td>\n",
              "      <td>0.03</td>\n",
              "      <td>0.03</td>\n",
              "      <td>15.0</td>\n",
              "      <td>0.0</td>\n",
              "      <td>0.0</td>\n",
              "      <td>0.00</td>\n",
              "      <td>20.00</td>\n",
              "    </tr>\n",
              "    <tr>\n",
              "      <th>2292</th>\n",
              "      <td>1482</td>\n",
              "      <td>2018-10</td>\n",
              "      <td>NaN</td>\n",
              "      <td>0.0</td>\n",
              "      <td>0.0</td>\n",
              "      <td>2.0</td>\n",
              "      <td>70</td>\n",
              "      <td>ultimate</td>\n",
              "      <td>NY-NJ-PA</td>\n",
              "      <td>1</td>\n",
              "      <td>...</td>\n",
              "      <td>3000</td>\n",
              "      <td>70</td>\n",
              "      <td>7</td>\n",
              "      <td>0.01</td>\n",
              "      <td>0.01</td>\n",
              "      <td>30.0</td>\n",
              "      <td>0.0</td>\n",
              "      <td>0.0</td>\n",
              "      <td>0.00</td>\n",
              "      <td>70.00</td>\n",
              "    </tr>\n",
              "  </tbody>\n",
              "</table>\n",
              "<p>2293 rows × 21 columns</p>\n",
              "</div>"
            ],
            "text/plain": [
              "      user_id    month  counts_calls  total_duration  gb_used   sms  age  \\\n",
              "0        1000  2018-12          16.0           124.0      2.0  11.0   45   \n",
              "1        1001  2018-08          27.0           182.0      7.0  30.0   28   \n",
              "2        1001  2018-09          49.0           315.0     14.0  44.0   28   \n",
              "3        1001  2018-10          65.0           393.0     22.0  53.0   28   \n",
              "4        1001  2018-11          64.0           426.0     19.0  36.0   28   \n",
              "...       ...      ...           ...             ...      ...   ...  ...   \n",
              "2288     1349  2018-10           NaN             0.0     13.0  76.0   69   \n",
              "2289     1349  2018-11           NaN             0.0     17.0  72.0   69   \n",
              "2290     1349  2018-12           NaN             0.0     13.0  61.0   69   \n",
              "2291     1361  2018-05           NaN             0.0      2.0   2.0   45   \n",
              "2292     1482  2018-10           NaN             0.0      0.0   2.0   70   \n",
              "\n",
              "          plan clean_city  is-nynj  ...  minutes_included  usd_monthly_pay  \\\n",
              "0     ultimate         GA        0  ...              3000               70   \n",
              "1         surf         WA        0  ...               500               20   \n",
              "2         surf         WA        0  ...               500               20   \n",
              "3         surf         WA        0  ...               500               20   \n",
              "4         surf         WA        0  ...               500               20   \n",
              "...        ...        ...      ...  ...               ...              ...   \n",
              "2288      surf      MA-NH        0  ...               500               20   \n",
              "2289      surf      MA-NH        0  ...               500               20   \n",
              "2290      surf      MA-NH        0  ...               500               20   \n",
              "2291      surf         AL        0  ...               500               20   \n",
              "2292  ultimate   NY-NJ-PA        1  ...              3000               70   \n",
              "\n",
              "      usd_per_gb  usd_per_message  usd_per_minute  gb_per_month_included  \\\n",
              "0              7             0.01            0.01                   30.0   \n",
              "1             10             0.03            0.03                   15.0   \n",
              "2             10             0.03            0.03                   15.0   \n",
              "3             10             0.03            0.03                   15.0   \n",
              "4             10             0.03            0.03                   15.0   \n",
              "...          ...              ...             ...                    ...   \n",
              "2288          10             0.03            0.03                   15.0   \n",
              "2289          10             0.03            0.03                   15.0   \n",
              "2290          10             0.03            0.03                   15.0   \n",
              "2291          10             0.03            0.03                   15.0   \n",
              "2292           7             0.01            0.01                   30.0   \n",
              "\n",
              "      extra_calls  extra_internet  extra_sms  total_payment  \n",
              "0             0.0             0.0       0.00          70.00  \n",
              "1             0.0             0.0       0.00          20.00  \n",
              "2             0.0             0.0       0.00          20.00  \n",
              "3             0.0            70.0       0.09          90.09  \n",
              "4             0.0            40.0       0.00          60.00  \n",
              "...           ...             ...        ...            ...  \n",
              "2288          0.0             0.0       0.78          20.78  \n",
              "2289          0.0            20.0       0.66          40.66  \n",
              "2290          0.0             0.0       0.33          20.33  \n",
              "2291          0.0             0.0       0.00          20.00  \n",
              "2292          0.0             0.0       0.00          70.00  \n",
              "\n",
              "[2293 rows x 21 columns]"
            ]
          },
          "metadata": {}
        }
      ],
      "execution_count": 55
    },
    {
      "cell_type": "markdown",
      "source": "## Mempelajari Perilaku Pengguna",
      "metadata": {}
    },
    {
      "cell_type": "markdown",
      "source": "### Panggilan",
      "metadata": {}
    },
    {
      "cell_type": "code",
      "source": "plans",
      "metadata": {
        "trusted": true
      },
      "outputs": [
        {
          "execution_count": 56,
          "output_type": "execute_result",
          "data": {
            "text/html": [
              "<div>\n",
              "<style scoped>\n",
              "    .dataframe tbody tr th:only-of-type {\n",
              "        vertical-align: middle;\n",
              "    }\n",
              "\n",
              "    .dataframe tbody tr th {\n",
              "        vertical-align: top;\n",
              "    }\n",
              "\n",
              "    .dataframe thead th {\n",
              "        text-align: right;\n",
              "    }\n",
              "</style>\n",
              "<table border=\"1\" class=\"dataframe\">\n",
              "  <thead>\n",
              "    <tr style=\"text-align: right;\">\n",
              "      <th></th>\n",
              "      <th>messages_included</th>\n",
              "      <th>minutes_included</th>\n",
              "      <th>usd_monthly_pay</th>\n",
              "      <th>usd_per_gb</th>\n",
              "      <th>usd_per_message</th>\n",
              "      <th>usd_per_minute</th>\n",
              "      <th>plan_name</th>\n",
              "      <th>gb_per_month_included</th>\n",
              "    </tr>\n",
              "  </thead>\n",
              "  <tbody>\n",
              "    <tr>\n",
              "      <th>0</th>\n",
              "      <td>50</td>\n",
              "      <td>500</td>\n",
              "      <td>20</td>\n",
              "      <td>10</td>\n",
              "      <td>0.03</td>\n",
              "      <td>0.03</td>\n",
              "      <td>surf</td>\n",
              "      <td>15.0</td>\n",
              "    </tr>\n",
              "    <tr>\n",
              "      <th>1</th>\n",
              "      <td>1000</td>\n",
              "      <td>3000</td>\n",
              "      <td>70</td>\n",
              "      <td>7</td>\n",
              "      <td>0.01</td>\n",
              "      <td>0.01</td>\n",
              "      <td>ultimate</td>\n",
              "      <td>30.0</td>\n",
              "    </tr>\n",
              "  </tbody>\n",
              "</table>\n",
              "</div>"
            ],
            "text/plain": [
              "   messages_included  minutes_included  usd_monthly_pay  usd_per_gb  \\\n",
              "0                 50               500               20          10   \n",
              "1               1000              3000               70           7   \n",
              "\n",
              "   usd_per_message  usd_per_minute plan_name  gb_per_month_included  \n",
              "0             0.03            0.03      surf                   15.0  \n",
              "1             0.01            0.01  ultimate                   30.0  "
            ]
          },
          "metadata": {}
        }
      ],
      "execution_count": 56
    },
    {
      "cell_type": "code",
      "source": "# Konversi kolom \"month\" ke tipe data string\ndf[\"month\"] = df[\"month\"].astype(str)\n\n# Bandingkan durasi rata-rata panggilan setiap paket per bulannya. \naverage_duration_by_plan = df.groupby([\"plan\", \"month\"])[\"total_duration\"].mean().reset_index()\naverage_duration_by_plan",
      "metadata": {
        "trusted": true
      },
      "outputs": [
        {
          "execution_count": 57,
          "output_type": "execute_result",
          "data": {
            "text/html": [
              "<div>\n",
              "<style scoped>\n",
              "    .dataframe tbody tr th:only-of-type {\n",
              "        vertical-align: middle;\n",
              "    }\n",
              "\n",
              "    .dataframe tbody tr th {\n",
              "        vertical-align: top;\n",
              "    }\n",
              "\n",
              "    .dataframe thead th {\n",
              "        text-align: right;\n",
              "    }\n",
              "</style>\n",
              "<table border=\"1\" class=\"dataframe\">\n",
              "  <thead>\n",
              "    <tr style=\"text-align: right;\">\n",
              "      <th></th>\n",
              "      <th>plan</th>\n",
              "      <th>month</th>\n",
              "      <th>total_duration</th>\n",
              "    </tr>\n",
              "  </thead>\n",
              "  <tbody>\n",
              "    <tr>\n",
              "      <th>0</th>\n",
              "      <td>surf</td>\n",
              "      <td>2018-01</td>\n",
              "      <td>203.000000</td>\n",
              "    </tr>\n",
              "    <tr>\n",
              "      <th>1</th>\n",
              "      <td>surf</td>\n",
              "      <td>2018-02</td>\n",
              "      <td>297.000000</td>\n",
              "    </tr>\n",
              "    <tr>\n",
              "      <th>2</th>\n",
              "      <td>surf</td>\n",
              "      <td>2018-03</td>\n",
              "      <td>330.000000</td>\n",
              "    </tr>\n",
              "    <tr>\n",
              "      <th>3</th>\n",
              "      <td>surf</td>\n",
              "      <td>2018-04</td>\n",
              "      <td>351.540000</td>\n",
              "    </tr>\n",
              "    <tr>\n",
              "      <th>4</th>\n",
              "      <td>surf</td>\n",
              "      <td>2018-05</td>\n",
              "      <td>399.584416</td>\n",
              "    </tr>\n",
              "    <tr>\n",
              "      <th>5</th>\n",
              "      <td>surf</td>\n",
              "      <td>2018-06</td>\n",
              "      <td>431.298969</td>\n",
              "    </tr>\n",
              "    <tr>\n",
              "      <th>6</th>\n",
              "      <td>surf</td>\n",
              "      <td>2018-07</td>\n",
              "      <td>449.983471</td>\n",
              "    </tr>\n",
              "    <tr>\n",
              "      <th>7</th>\n",
              "      <td>surf</td>\n",
              "      <td>2018-08</td>\n",
              "      <td>410.111111</td>\n",
              "    </tr>\n",
              "    <tr>\n",
              "      <th>8</th>\n",
              "      <td>surf</td>\n",
              "      <td>2018-09</td>\n",
              "      <td>414.226804</td>\n",
              "    </tr>\n",
              "    <tr>\n",
              "      <th>9</th>\n",
              "      <td>surf</td>\n",
              "      <td>2018-10</td>\n",
              "      <td>429.729958</td>\n",
              "    </tr>\n",
              "    <tr>\n",
              "      <th>10</th>\n",
              "      <td>surf</td>\n",
              "      <td>2018-11</td>\n",
              "      <td>423.325088</td>\n",
              "    </tr>\n",
              "    <tr>\n",
              "      <th>11</th>\n",
              "      <td>surf</td>\n",
              "      <td>2018-12</td>\n",
              "      <td>473.836478</td>\n",
              "    </tr>\n",
              "    <tr>\n",
              "      <th>12</th>\n",
              "      <td>ultimate</td>\n",
              "      <td>2018-01</td>\n",
              "      <td>193.500000</td>\n",
              "    </tr>\n",
              "    <tr>\n",
              "      <th>13</th>\n",
              "      <td>ultimate</td>\n",
              "      <td>2018-02</td>\n",
              "      <td>403.142857</td>\n",
              "    </tr>\n",
              "    <tr>\n",
              "      <th>14</th>\n",
              "      <td>ultimate</td>\n",
              "      <td>2018-03</td>\n",
              "      <td>304.250000</td>\n",
              "    </tr>\n",
              "    <tr>\n",
              "      <th>15</th>\n",
              "      <td>ultimate</td>\n",
              "      <td>2018-04</td>\n",
              "      <td>336.857143</td>\n",
              "    </tr>\n",
              "    <tr>\n",
              "      <th>16</th>\n",
              "      <td>ultimate</td>\n",
              "      <td>2018-05</td>\n",
              "      <td>406.241379</td>\n",
              "    </tr>\n",
              "    <tr>\n",
              "      <th>17</th>\n",
              "      <td>ultimate</td>\n",
              "      <td>2018-06</td>\n",
              "      <td>370.957447</td>\n",
              "    </tr>\n",
              "    <tr>\n",
              "      <th>18</th>\n",
              "      <td>ultimate</td>\n",
              "      <td>2018-07</td>\n",
              "      <td>427.067797</td>\n",
              "    </tr>\n",
              "    <tr>\n",
              "      <th>19</th>\n",
              "      <td>ultimate</td>\n",
              "      <td>2018-08</td>\n",
              "      <td>421.436620</td>\n",
              "    </tr>\n",
              "    <tr>\n",
              "      <th>20</th>\n",
              "      <td>ultimate</td>\n",
              "      <td>2018-09</td>\n",
              "      <td>437.511628</td>\n",
              "    </tr>\n",
              "    <tr>\n",
              "      <th>21</th>\n",
              "      <td>ultimate</td>\n",
              "      <td>2018-10</td>\n",
              "      <td>450.735849</td>\n",
              "    </tr>\n",
              "    <tr>\n",
              "      <th>22</th>\n",
              "      <td>ultimate</td>\n",
              "      <td>2018-11</td>\n",
              "      <td>445.196850</td>\n",
              "    </tr>\n",
              "    <tr>\n",
              "      <th>23</th>\n",
              "      <td>ultimate</td>\n",
              "      <td>2018-12</td>\n",
              "      <td>459.099338</td>\n",
              "    </tr>\n",
              "  </tbody>\n",
              "</table>\n",
              "</div>"
            ],
            "text/plain": [
              "        plan    month  total_duration\n",
              "0       surf  2018-01      203.000000\n",
              "1       surf  2018-02      297.000000\n",
              "2       surf  2018-03      330.000000\n",
              "3       surf  2018-04      351.540000\n",
              "4       surf  2018-05      399.584416\n",
              "5       surf  2018-06      431.298969\n",
              "6       surf  2018-07      449.983471\n",
              "7       surf  2018-08      410.111111\n",
              "8       surf  2018-09      414.226804\n",
              "9       surf  2018-10      429.729958\n",
              "10      surf  2018-11      423.325088\n",
              "11      surf  2018-12      473.836478\n",
              "12  ultimate  2018-01      193.500000\n",
              "13  ultimate  2018-02      403.142857\n",
              "14  ultimate  2018-03      304.250000\n",
              "15  ultimate  2018-04      336.857143\n",
              "16  ultimate  2018-05      406.241379\n",
              "17  ultimate  2018-06      370.957447\n",
              "18  ultimate  2018-07      427.067797\n",
              "19  ultimate  2018-08      421.436620\n",
              "20  ultimate  2018-09      437.511628\n",
              "21  ultimate  2018-10      450.735849\n",
              "22  ultimate  2018-11      445.196850\n",
              "23  ultimate  2018-12      459.099338"
            ]
          },
          "metadata": {}
        }
      ],
      "execution_count": 57
    },
    {
      "cell_type": "code",
      "source": "# Buatlah sebuah diagram batang untuk memvisualisasikannya.\nplt.figure(figsize=(10, 6))\nfor plan in df[\"plan\"].unique():\n    plan_data = average_duration_by_plan[average_duration_by_plan[\"plan\"] == plan]\n    plt.bar(plan_data[\"month\"], plan_data[\"total_duration\"], label=plan)\n\nplt.xlabel(\"Bulan\")\nplt.ylabel(\"Rata-rata Durasi Panggilan\")\nplt.title(\"Rata-rata Durasi Panggilan Setiap Paket per Bulannya\")\nplt.xticks(rotation=45)\nplt.legend()\nplt.tight_layout()\nplt.show()",
      "metadata": {
        "trusted": true
      },
      "outputs": [
        {
          "output_type": "display_data",
          "data": {
            "image/png": "[encoded data removed]",
            "text/plain": [
              "<Figure size 720x432 with 1 Axes>"
            ]
          },
          "metadata": {
            "needs_background": "light"
          }
        }
      ],
      "execution_count": 58
    },
    {
      "cell_type": "code",
      "source": "# Bandingkan jumlah menit yang dibutuhkan pengguna tiap paket per bulannya.\ntotal_minutes_by_plan = df.groupby([\"plan\", \"month\"])[\"total_duration\"].sum().reset_index()\ntotal_minutes_by_plan",
      "metadata": {
        "trusted": true
      },
      "outputs": [
        {
          "execution_count": 59,
          "output_type": "execute_result",
          "data": {
            "text/html": [
              "<div>\n",
              "<style scoped>\n",
              "    .dataframe tbody tr th:only-of-type {\n",
              "        vertical-align: middle;\n",
              "    }\n",
              "\n",
              "    .dataframe tbody tr th {\n",
              "        vertical-align: top;\n",
              "    }\n",
              "\n",
              "    .dataframe thead th {\n",
              "        text-align: right;\n",
              "    }\n",
              "</style>\n",
              "<table border=\"1\" class=\"dataframe\">\n",
              "  <thead>\n",
              "    <tr style=\"text-align: right;\">\n",
              "      <th></th>\n",
              "      <th>plan</th>\n",
              "      <th>month</th>\n",
              "      <th>total_duration</th>\n",
              "    </tr>\n",
              "  </thead>\n",
              "  <tbody>\n",
              "    <tr>\n",
              "      <th>0</th>\n",
              "      <td>surf</td>\n",
              "      <td>2018-01</td>\n",
              "      <td>406.0</td>\n",
              "    </tr>\n",
              "    <tr>\n",
              "      <th>1</th>\n",
              "      <td>surf</td>\n",
              "      <td>2018-02</td>\n",
              "      <td>2673.0</td>\n",
              "    </tr>\n",
              "    <tr>\n",
              "      <th>2</th>\n",
              "      <td>surf</td>\n",
              "      <td>2018-03</td>\n",
              "      <td>7590.0</td>\n",
              "    </tr>\n",
              "    <tr>\n",
              "      <th>3</th>\n",
              "      <td>surf</td>\n",
              "      <td>2018-04</td>\n",
              "      <td>17577.0</td>\n",
              "    </tr>\n",
              "    <tr>\n",
              "      <th>4</th>\n",
              "      <td>surf</td>\n",
              "      <td>2018-05</td>\n",
              "      <td>30768.0</td>\n",
              "    </tr>\n",
              "    <tr>\n",
              "      <th>5</th>\n",
              "      <td>surf</td>\n",
              "      <td>2018-06</td>\n",
              "      <td>41836.0</td>\n",
              "    </tr>\n",
              "    <tr>\n",
              "      <th>6</th>\n",
              "      <td>surf</td>\n",
              "      <td>2018-07</td>\n",
              "      <td>54448.0</td>\n",
              "    </tr>\n",
              "    <tr>\n",
              "      <th>7</th>\n",
              "      <td>surf</td>\n",
              "      <td>2018-08</td>\n",
              "      <td>66438.0</td>\n",
              "    </tr>\n",
              "    <tr>\n",
              "      <th>8</th>\n",
              "      <td>surf</td>\n",
              "      <td>2018-09</td>\n",
              "      <td>80360.0</td>\n",
              "    </tr>\n",
              "    <tr>\n",
              "      <th>9</th>\n",
              "      <td>surf</td>\n",
              "      <td>2018-10</td>\n",
              "      <td>101846.0</td>\n",
              "    </tr>\n",
              "    <tr>\n",
              "      <th>10</th>\n",
              "      <td>surf</td>\n",
              "      <td>2018-11</td>\n",
              "      <td>119801.0</td>\n",
              "    </tr>\n",
              "    <tr>\n",
              "      <th>11</th>\n",
              "      <td>surf</td>\n",
              "      <td>2018-12</td>\n",
              "      <td>150680.0</td>\n",
              "    </tr>\n",
              "    <tr>\n",
              "      <th>12</th>\n",
              "      <td>ultimate</td>\n",
              "      <td>2018-01</td>\n",
              "      <td>774.0</td>\n",
              "    </tr>\n",
              "    <tr>\n",
              "      <th>13</th>\n",
              "      <td>ultimate</td>\n",
              "      <td>2018-02</td>\n",
              "      <td>2822.0</td>\n",
              "    </tr>\n",
              "    <tr>\n",
              "      <th>14</th>\n",
              "      <td>ultimate</td>\n",
              "      <td>2018-03</td>\n",
              "      <td>3651.0</td>\n",
              "    </tr>\n",
              "    <tr>\n",
              "      <th>15</th>\n",
              "      <td>ultimate</td>\n",
              "      <td>2018-04</td>\n",
              "      <td>7074.0</td>\n",
              "    </tr>\n",
              "    <tr>\n",
              "      <th>16</th>\n",
              "      <td>ultimate</td>\n",
              "      <td>2018-05</td>\n",
              "      <td>11781.0</td>\n",
              "    </tr>\n",
              "    <tr>\n",
              "      <th>17</th>\n",
              "      <td>ultimate</td>\n",
              "      <td>2018-06</td>\n",
              "      <td>17435.0</td>\n",
              "    </tr>\n",
              "    <tr>\n",
              "      <th>18</th>\n",
              "      <td>ultimate</td>\n",
              "      <td>2018-07</td>\n",
              "      <td>25197.0</td>\n",
              "    </tr>\n",
              "    <tr>\n",
              "      <th>19</th>\n",
              "      <td>ultimate</td>\n",
              "      <td>2018-08</td>\n",
              "      <td>29922.0</td>\n",
              "    </tr>\n",
              "    <tr>\n",
              "      <th>20</th>\n",
              "      <td>ultimate</td>\n",
              "      <td>2018-09</td>\n",
              "      <td>37626.0</td>\n",
              "    </tr>\n",
              "    <tr>\n",
              "      <th>21</th>\n",
              "      <td>ultimate</td>\n",
              "      <td>2018-10</td>\n",
              "      <td>47778.0</td>\n",
              "    </tr>\n",
              "    <tr>\n",
              "      <th>22</th>\n",
              "      <td>ultimate</td>\n",
              "      <td>2018-11</td>\n",
              "      <td>56540.0</td>\n",
              "    </tr>\n",
              "    <tr>\n",
              "      <th>23</th>\n",
              "      <td>ultimate</td>\n",
              "      <td>2018-12</td>\n",
              "      <td>69324.0</td>\n",
              "    </tr>\n",
              "  </tbody>\n",
              "</table>\n",
              "</div>"
            ],
            "text/plain": [
              "        plan    month  total_duration\n",
              "0       surf  2018-01           406.0\n",
              "1       surf  2018-02          2673.0\n",
              "2       surf  2018-03          7590.0\n",
              "3       surf  2018-04         17577.0\n",
              "4       surf  2018-05         30768.0\n",
              "5       surf  2018-06         41836.0\n",
              "6       surf  2018-07         54448.0\n",
              "7       surf  2018-08         66438.0\n",
              "8       surf  2018-09         80360.0\n",
              "9       surf  2018-10        101846.0\n",
              "10      surf  2018-11        119801.0\n",
              "11      surf  2018-12        150680.0\n",
              "12  ultimate  2018-01           774.0\n",
              "13  ultimate  2018-02          2822.0\n",
              "14  ultimate  2018-03          3651.0\n",
              "15  ultimate  2018-04          7074.0\n",
              "16  ultimate  2018-05         11781.0\n",
              "17  ultimate  2018-06         17435.0\n",
              "18  ultimate  2018-07         25197.0\n",
              "19  ultimate  2018-08         29922.0\n",
              "20  ultimate  2018-09         37626.0\n",
              "21  ultimate  2018-10         47778.0\n",
              "22  ultimate  2018-11         56540.0\n",
              "23  ultimate  2018-12         69324.0"
            ]
          },
          "metadata": {}
        }
      ],
      "execution_count": 59
    },
    {
      "cell_type": "code",
      "source": "# Buatlah sebuah histogram.\nplt.figure(figsize=(10, 6))\nfor plan in df[\"plan\"].unique():\n    plan_data = total_minutes_by_plan[total_minutes_by_plan[\"plan\"] == plan]\n    plt.hist(plan_data[\"total_duration\"], bins=20, alpha=0.5, label=plan)\n\nplt.xlabel(\"Jumlah Menit\")\nplt.ylabel(\"Frekuensi\")\nplt.title(\"Histogram Jumlah Menit yang Dibutuhkan Pengguna Setiap Paket per Bulannya\")\nplt.legend()\nplt.tight_layout()\nplt.show()",
      "metadata": {
        "trusted": true
      },
      "outputs": [
        {
          "output_type": "display_data",
          "data": {
            "image/png": "[encoded data removed]",
            "text/plain": [
              "<Figure size 720x432 with 1 Axes>"
            ]
          },
          "metadata": {
            "needs_background": "light"
          }
        }
      ],
      "execution_count": 60
    },
    {
      "cell_type": "markdown",
      "source": "**Hitung rata-rata dan variabel durasi panggilan untuk mempertimbangkan apakah pengguna pada paket yang berbeda memiliki perilaku penggunaan panggilan yang berbeda pula?**",
      "metadata": {}
    },
    {
      "cell_type": "markdown",
      "source": "* Uji Statistik : Two sample independent\n* Hipotesis : \n    * H0: Rata-rata penggunaan call dari pengguna paket ultimate dan surf SAMA\n    * H1: Rata-rata penggunaan call dari pengguna paket ultimate dan surf BEDA\n* Alpha: 5%",
      "metadata": {}
    },
    {
      "cell_type": "code",
      "source": "# Prepare dataset surf\nduration_surf = df.loc[(df['plan']=='surf') & (df['total_duration'] > 0), 'total_duration']\nsns.histplot(duration_surf)\nplt.show()",
      "metadata": {
        "trusted": true
      },
      "outputs": [
        {
          "output_type": "display_data",
          "data": {
            "image/png": "[encoded data removed]",
            "text/plain": [
              "<Figure size 432x288 with 1 Axes>"
            ]
          },
          "metadata": {
            "needs_background": "light"
          }
        }
      ],
      "execution_count": 61
    },
    {
      "cell_type": "code",
      "source": "# Prepare dataset ultimate\nduration_ultimate = df.loc[(df['plan']=='ultimate') & (df['total_duration'] > 0), 'total_duration']\nsns.histplot(duration_ultimate)\nplt.show()",
      "metadata": {
        "trusted": true
      },
      "outputs": [
        {
          "output_type": "display_data",
          "data": {
            "image/png": "[encoded data removed]",
            "text/plain": [
              "<Figure size 432x288 with 1 Axes>"
            ]
          },
          "metadata": {
            "needs_background": "light"
          }
        }
      ],
      "execution_count": 62
    },
    {
      "cell_type": "code",
      "source": "# Buat function uji kenormalan\nalpha = 0.05\ndef normality_test(series):\n    p_value_shapiro = shapiro(series).pvalue\n    print(f'P-Value: {p_value_shapiro}')\n    print(f'Alpha  : {alpha}')\n    if p_value_shapiro >= alpha:\n        print('H0 Diterima: Distribusi data tersebut adalah normal')\n    else:\n        print('H1 Diterima: Distribusi data tersebut adalah tidak normal')",
      "metadata": {
        "trusted": true
      },
      "outputs": [],
      "execution_count": 63
    },
    {
      "cell_type": "code",
      "source": "# Uji Kenormalan dari distribusi duration surf dan ultimate\nnormality_test(duration_surf)\nprint('---------------------------')\nnormality_test(duration_ultimate)",
      "metadata": {
        "trusted": true
      },
      "outputs": [
        {
          "name": "stdout",
          "output_type": "stream",
          "text": "P-Value: 2.953542900703543e-14\n\nAlpha  : 0.05\n\nH1 Diterima: Distribusi data tersebut adalah tidak normal\n\n---------------------------\n\nP-Value: 2.2405648517076493e-11\n\nAlpha  : 0.05\n\nH1 Diterima: Distribusi data tersebut adalah tidak normal\n"
        }
      ],
      "execution_count": 64
    },
    {
      "cell_type": "code",
      "source": "alpha = 0.05\np_value = mannwhitneyu(duration_surf, duration_ultimate, nan_policy='omit').pvalue\nprint(f'Alpha  : {alpha}')\nprint(f'P-Value: {p_value}')\nif p_value >= alpha:\n    print('H0 Diterima: Rata-rata penggunaan call dari pengguna paket ultimate dan surf SAMA')\nelse:\n    print('H1 Diterima: Rata-rata penggunaan call dari pengguna paket ultimate dan surf BEDA')\n\nprint('Rata2 call di surf', duration_surf.mean())\nprint('Rata2 call di ultimate', duration_ultimate.mean())",
      "metadata": {
        "trusted": true
      },
      "outputs": [
        {
          "name": "stdout",
          "output_type": "stream",
          "text": "Alpha  : 0.05\n\nP-Value: 0.614269803622298\n\nH0 Diterima: Rata-rata penggunaan call dari pengguna paket ultimate dan surf SAMA\n\nRata2 call di surf 436.80246113989637\n\nRata2 call di ultimate 435.2865168539326\n"
        }
      ],
      "execution_count": 65
    },
    {
      "cell_type": "code",
      "source": "sns.histplot(duration_surf)\nsns.histplot(duration_ultimate)\nplt.show()",
      "metadata": {
        "trusted": true
      },
      "outputs": [
        {
          "output_type": "display_data",
          "data": {
            "image/png": "[encoded data removed]",
            "text/plain": [
              "<Figure size 432x288 with 1 Axes>"
            ]
          },
          "metadata": {
            "needs_background": "light"
          }
        }
      ],
      "execution_count": 66
    },
    {
      "cell_type": "markdown",
      "source": "* Findings :\n    * P-Value dari uji statistik rata2 call antara paket surf dan ultimate adalah 61.4%\n    * Tidak ada perbedaan rata2 call antara paket surf dengan ultimate.\n\n* Insights :\n    * User yang menggunakan paket ultimate dan surf memiliki behavior call yang sama.\n    * Artinya tidak ada perbedaan behavior dari kedua paket customer tersebut meskipun limitnya dari ultimate sangat tinggi\n\n* Recommendation :\n    * Kita bisa kurangi benefit dari paket ultimate\n    * Atau kita naikkan benefit call dari paket ultimate agar menarik customer. Karena mau dinaikkan berapapun, tidak ada durasi call mencapai 3000 menit",
      "metadata": {}
    },
    {
      "cell_type": "markdown",
      "source": "### Pesan/SMS",
      "metadata": {}
    },
    {
      "cell_type": "code",
      "source": "# Bandingkan jumlah SMS yang cenderung dikirim pengguna tiap paket per bulannya\ndf['month'] = pd.to_datetime(df['month'], format='%Y-%m')\n# Kelompokkan data berdasarkan \"plan\" (paket) dan \"month\" (bulan) dan hitung jumlah SMS\nmonthly_sms_stats = df.groupby([\"plan\", df[\"month\"].dt.strftime('%Y-%m')])[\"sms\"].sum().reset_index()\nmonthly_sms_stats",
      "metadata": {
        "trusted": true
      },
      "outputs": [
        {
          "execution_count": 67,
          "output_type": "execute_result",
          "data": {
            "text/html": [
              "<div>\n",
              "<style scoped>\n",
              "    .dataframe tbody tr th:only-of-type {\n",
              "        vertical-align: middle;\n",
              "    }\n",
              "\n",
              "    .dataframe tbody tr th {\n",
              "        vertical-align: top;\n",
              "    }\n",
              "\n",
              "    .dataframe thead th {\n",
              "        text-align: right;\n",
              "    }\n",
              "</style>\n",
              "<table border=\"1\" class=\"dataframe\">\n",
              "  <thead>\n",
              "    <tr style=\"text-align: right;\">\n",
              "      <th></th>\n",
              "      <th>plan</th>\n",
              "      <th>month</th>\n",
              "      <th>sms</th>\n",
              "    </tr>\n",
              "  </thead>\n",
              "  <tbody>\n",
              "    <tr>\n",
              "      <th>0</th>\n",
              "      <td>surf</td>\n",
              "      <td>2018-01</td>\n",
              "      <td>21.0</td>\n",
              "    </tr>\n",
              "    <tr>\n",
              "      <th>1</th>\n",
              "      <td>surf</td>\n",
              "      <td>2018-02</td>\n",
              "      <td>108.0</td>\n",
              "    </tr>\n",
              "    <tr>\n",
              "      <th>2</th>\n",
              "      <td>surf</td>\n",
              "      <td>2018-03</td>\n",
              "      <td>351.0</td>\n",
              "    </tr>\n",
              "    <tr>\n",
              "      <th>3</th>\n",
              "      <td>surf</td>\n",
              "      <td>2018-04</td>\n",
              "      <td>870.0</td>\n",
              "    </tr>\n",
              "    <tr>\n",
              "      <th>4</th>\n",
              "      <td>surf</td>\n",
              "      <td>2018-05</td>\n",
              "      <td>1849.0</td>\n",
              "    </tr>\n",
              "    <tr>\n",
              "      <th>5</th>\n",
              "      <td>surf</td>\n",
              "      <td>2018-06</td>\n",
              "      <td>2454.0</td>\n",
              "    </tr>\n",
              "    <tr>\n",
              "      <th>6</th>\n",
              "      <td>surf</td>\n",
              "      <td>2018-07</td>\n",
              "      <td>3271.0</td>\n",
              "    </tr>\n",
              "    <tr>\n",
              "      <th>7</th>\n",
              "      <td>surf</td>\n",
              "      <td>2018-08</td>\n",
              "      <td>4662.0</td>\n",
              "    </tr>\n",
              "    <tr>\n",
              "      <th>8</th>\n",
              "      <td>surf</td>\n",
              "      <td>2018-09</td>\n",
              "      <td>5968.0</td>\n",
              "    </tr>\n",
              "    <tr>\n",
              "      <th>9</th>\n",
              "      <td>surf</td>\n",
              "      <td>2018-10</td>\n",
              "      <td>8020.0</td>\n",
              "    </tr>\n",
              "    <tr>\n",
              "      <th>10</th>\n",
              "      <td>surf</td>\n",
              "      <td>2018-11</td>\n",
              "      <td>9165.0</td>\n",
              "    </tr>\n",
              "    <tr>\n",
              "      <th>11</th>\n",
              "      <td>surf</td>\n",
              "      <td>2018-12</td>\n",
              "      <td>12275.0</td>\n",
              "    </tr>\n",
              "    <tr>\n",
              "      <th>12</th>\n",
              "      <td>ultimate</td>\n",
              "      <td>2018-01</td>\n",
              "      <td>62.0</td>\n",
              "    </tr>\n",
              "    <tr>\n",
              "      <th>13</th>\n",
              "      <td>ultimate</td>\n",
              "      <td>2018-02</td>\n",
              "      <td>151.0</td>\n",
              "    </tr>\n",
              "    <tr>\n",
              "      <th>14</th>\n",
              "      <td>ultimate</td>\n",
              "      <td>2018-03</td>\n",
              "      <td>243.0</td>\n",
              "    </tr>\n",
              "    <tr>\n",
              "      <th>15</th>\n",
              "      <td>ultimate</td>\n",
              "      <td>2018-04</td>\n",
              "      <td>463.0</td>\n",
              "    </tr>\n",
              "    <tr>\n",
              "      <th>16</th>\n",
              "      <td>ultimate</td>\n",
              "      <td>2018-05</td>\n",
              "      <td>931.0</td>\n",
              "    </tr>\n",
              "    <tr>\n",
              "      <th>17</th>\n",
              "      <td>ultimate</td>\n",
              "      <td>2018-06</td>\n",
              "      <td>1379.0</td>\n",
              "    </tr>\n",
              "    <tr>\n",
              "      <th>18</th>\n",
              "      <td>ultimate</td>\n",
              "      <td>2018-07</td>\n",
              "      <td>1937.0</td>\n",
              "    </tr>\n",
              "    <tr>\n",
              "      <th>19</th>\n",
              "      <td>ultimate</td>\n",
              "      <td>2018-08</td>\n",
              "      <td>2732.0</td>\n",
              "    </tr>\n",
              "    <tr>\n",
              "      <th>20</th>\n",
              "      <td>ultimate</td>\n",
              "      <td>2018-09</td>\n",
              "      <td>3259.0</td>\n",
              "    </tr>\n",
              "    <tr>\n",
              "      <th>21</th>\n",
              "      <td>ultimate</td>\n",
              "      <td>2018-10</td>\n",
              "      <td>4181.0</td>\n",
              "    </tr>\n",
              "    <tr>\n",
              "      <th>22</th>\n",
              "      <td>ultimate</td>\n",
              "      <td>2018-11</td>\n",
              "      <td>4903.0</td>\n",
              "    </tr>\n",
              "    <tr>\n",
              "      <th>23</th>\n",
              "      <td>ultimate</td>\n",
              "      <td>2018-12</td>\n",
              "      <td>6796.0</td>\n",
              "    </tr>\n",
              "  </tbody>\n",
              "</table>\n",
              "</div>"
            ],
            "text/plain": [
              "        plan    month      sms\n",
              "0       surf  2018-01     21.0\n",
              "1       surf  2018-02    108.0\n",
              "2       surf  2018-03    351.0\n",
              "3       surf  2018-04    870.0\n",
              "4       surf  2018-05   1849.0\n",
              "5       surf  2018-06   2454.0\n",
              "6       surf  2018-07   3271.0\n",
              "7       surf  2018-08   4662.0\n",
              "8       surf  2018-09   5968.0\n",
              "9       surf  2018-10   8020.0\n",
              "10      surf  2018-11   9165.0\n",
              "11      surf  2018-12  12275.0\n",
              "12  ultimate  2018-01     62.0\n",
              "13  ultimate  2018-02    151.0\n",
              "14  ultimate  2018-03    243.0\n",
              "15  ultimate  2018-04    463.0\n",
              "16  ultimate  2018-05    931.0\n",
              "17  ultimate  2018-06   1379.0\n",
              "18  ultimate  2018-07   1937.0\n",
              "19  ultimate  2018-08   2732.0\n",
              "20  ultimate  2018-09   3259.0\n",
              "21  ultimate  2018-10   4181.0\n",
              "22  ultimate  2018-11   4903.0\n",
              "23  ultimate  2018-12   6796.0"
            ]
          },
          "metadata": {}
        }
      ],
      "execution_count": 67
    },
    {
      "cell_type": "code",
      "source": "# Buat diagram batang atau grafik garis\nplt.figure(figsize=(10, 6))\nfor plan in df[\"plan\"].unique():\n    plan_data = monthly_sms_stats[monthly_sms_stats[\"plan\"] == plan]\n    plt.plot(plan_data[\"month\"], plan_data[\"sms\"], label=plan, marker='o')\n\nplt.xlabel(\"Bulan\")\nplt.ylabel(\"Jumlah SMS\")\nplt.title(\"Jumlah SMS yang Dikirim Pengguna Tiap Paket per Bulan\")\nplt.xticks(rotation=45)\nplt.legend()\nplt.tight_layout()\nplt.show()",
      "metadata": {
        "trusted": true
      },
      "outputs": [
        {
          "output_type": "display_data",
          "data": {
            "image/png": "[encoded data removed]",
            "text/plain": [
              "<Figure size 720x432 with 1 Axes>"
            ]
          },
          "metadata": {
            "needs_background": "light"
          }
        }
      ],
      "execution_count": 68
    },
    {
      "cell_type": "markdown",
      "source": "**Kesimpulan Sementara**\n\n* A. Perilaku Pengguna Paket \"Surf\":\n    * Pengguna paket \"surf\" cenderung mengirim jumlah SMS yang lebih tinggi daripada pengguna paket \"ultimate\" setiap bulannya. Terdapat fluktuasi dalam jumlah SMS yang dikirim oleh pengguna paket \"surf\" dari bulan ke bulan, dengan beberapa bulan mungkin mengalami peningkatan signifikan dalam pengiriman pesan.\n\n\n* B. Perilaku Pengguna Paket \"Ultimate\":\n    * Pengguna paket \"ultimate\" memiliki kecenderungan untuk mengirim jumlah SMS yang lebih rendah dibandingkan dengan pengguna paket \"surf\" setiap bulannya.\n    * Meskipun jumlah SMS yang dikirim oleh pengguna paket \"ultimate\" lebih rendah, pola pengiriman pesan mereka lebih stabil dan memiliki variasi yang lebih kecil dari bulan ke bulan.\n    \n    \n* Dari kesimpulan di atas, terlihat bahwa perilaku pengguna terkait pengiriman pesan berbeda antara paket \"surf\" dan \"ultimate.\" Pengguna paket \"surf\" cenderung lebih aktif dalam mengirim SMS, sementara pengguna paket \"ultimate\" memiliki tingkat pengiriman pesan yang lebih rendah tetapi lebih stabil dari waktu ke waktu. Hal ini bisa menjadi informasi berharga bagi operator telekomunikasi untuk memahami preferensi dan kebutuhan pelanggan berdasarkan paket yang mereka pilih.",
      "metadata": {}
    },
    {
      "cell_type": "markdown",
      "source": "### Internet",
      "metadata": {}
    },
    {
      "cell_type": "code",
      "source": "# Bandingkan jumlah traffic internet yang dihabiskan oleh pengguna per paket\n# Kelompokkan data berdasarkan \"plan\" (paket) dan hitung jumlah traffic internet\ntotal_internet_traffic = df.groupby(\"plan\")[\"gb_used\"].sum().reset_index()\ntotal_internet_traffic",
      "metadata": {
        "trusted": true
      },
      "outputs": [
        {
          "execution_count": 69,
          "output_type": "execute_result",
          "data": {
            "text/html": [
              "<div>\n",
              "<style scoped>\n",
              "    .dataframe tbody tr th:only-of-type {\n",
              "        vertical-align: middle;\n",
              "    }\n",
              "\n",
              "    .dataframe tbody tr th {\n",
              "        vertical-align: top;\n",
              "    }\n",
              "\n",
              "    .dataframe thead th {\n",
              "        text-align: right;\n",
              "    }\n",
              "</style>\n",
              "<table border=\"1\" class=\"dataframe\">\n",
              "  <thead>\n",
              "    <tr style=\"text-align: right;\">\n",
              "      <th></th>\n",
              "      <th>plan</th>\n",
              "      <th>gb_used</th>\n",
              "    </tr>\n",
              "  </thead>\n",
              "  <tbody>\n",
              "    <tr>\n",
              "      <th>0</th>\n",
              "      <td>surf</td>\n",
              "      <td>26223.0</td>\n",
              "    </tr>\n",
              "    <tr>\n",
              "      <th>1</th>\n",
              "      <td>ultimate</td>\n",
              "      <td>12461.0</td>\n",
              "    </tr>\n",
              "  </tbody>\n",
              "</table>\n",
              "</div>"
            ],
            "text/plain": [
              "       plan  gb_used\n",
              "0      surf  26223.0\n",
              "1  ultimate  12461.0"
            ]
          },
          "metadata": {}
        }
      ],
      "execution_count": 69
    },
    {
      "cell_type": "code",
      "source": "# Buat diagram batang\nplt.figure(figsize=(8, 6))\nplt.bar(total_internet_traffic[\"plan\"], total_internet_traffic[\"gb_used\"])\nplt.xlabel(\"Paket\")\nplt.ylabel(\"Jumlah Traffic Internet (GB)\")\nplt.title(\"Perbandingan Jumlah Traffic Internet yang Dihabiskan oleh Pengguna per Paket\")\nplt.show()",
      "metadata": {
        "trusted": true
      },
      "outputs": [
        {
          "output_type": "display_data",
          "data": {
            "image/png": "[encoded data removed]",
            "text/plain": [
              "<Figure size 576x432 with 1 Axes>"
            ]
          },
          "metadata": {
            "needs_background": "light"
          }
        }
      ],
      "execution_count": 70
    },
    {
      "cell_type": "markdown",
      "source": "**Kesimpulan Sementara**\n* A. Perilaku Pengguna Paket \"Surf\":\n    * Pengguna paket \"surf\" memiliki kecenderungan untuk mengonsumsi jumlah traffic internet yang lebih rendah dibandingkan dengan pengguna paket \"ultimate.\"\n\n* B. Perilaku Pengguna Paket \"Ultimate\":\n    * Pengguna paket \"ultimate\" cenderung mengonsumsi jumlah traffic internet yang lebih tinggi daripada pengguna paket \"surf.\"\n\n* C. Perbandingan Penggunaan Data Internet Antar Paket:\n    * Terdapat perbedaan signifikan dalam konsumsi data internet antara kedua paket, dengan paket \"ultimate\" memiliki penggunaan yang lebih tinggi dibandingkan dengan paket \"surf.\"\n\n* D. Variabilitas Perilaku Pengguna:\n    * Penggunaan data internet oleh pengguna paket \"surf\" cenderung lebih bervariasi, dengan beberapa pengguna mungkin mengonsumsi lebih sedikit data internet, sementara yang lain mungkin membutuhkan lebih banyak.\n\n* Perbedaan perilaku pengguna dalam mengonsumsi paket data internet antara paket \"surf\" dan \"ultimate\" dapat menjadi informasi yang berguna bagi operator telekomunikasi. Hal ini dapat digunakan untuk menyesuaikan kuota data dalam masing-masing paket, serta merancang promosi atau penawaran yang lebih sesuai dengan preferensi pelanggan.",
      "metadata": {}
    },
    {
      "cell_type": "markdown",
      "source": "## Pendapatan",
      "metadata": {}
    },
    {
      "cell_type": "code",
      "source": "# Kelompokkan data berdasarkan \"plan\" (paket) dan hitung total pendapatan\ntotal_revenue = df.groupby(\"plan\")[\"total_payment\"].sum().reset_index()\ntotal_revenue",
      "metadata": {
        "trusted": true
      },
      "outputs": [
        {
          "execution_count": 71,
          "output_type": "execute_result",
          "data": {
            "text/html": [
              "<div>\n",
              "<style scoped>\n",
              "    .dataframe tbody tr th:only-of-type {\n",
              "        vertical-align: middle;\n",
              "    }\n",
              "\n",
              "    .dataframe tbody tr th {\n",
              "        vertical-align: top;\n",
              "    }\n",
              "\n",
              "    .dataframe thead th {\n",
              "        text-align: right;\n",
              "    }\n",
              "</style>\n",
              "<table border=\"1\" class=\"dataframe\">\n",
              "  <thead>\n",
              "    <tr style=\"text-align: right;\">\n",
              "      <th></th>\n",
              "      <th>plan</th>\n",
              "      <th>total_payment</th>\n",
              "    </tr>\n",
              "  </thead>\n",
              "  <tbody>\n",
              "    <tr>\n",
              "      <th>0</th>\n",
              "      <td>surf</td>\n",
              "      <td>95491.18</td>\n",
              "    </tr>\n",
              "    <tr>\n",
              "      <th>1</th>\n",
              "      <td>ultimate</td>\n",
              "      <td>52066.00</td>\n",
              "    </tr>\n",
              "  </tbody>\n",
              "</table>\n",
              "</div>"
            ],
            "text/plain": [
              "       plan  total_payment\n",
              "0      surf       95491.18\n",
              "1  ultimate       52066.00"
            ]
          },
          "metadata": {}
        }
      ],
      "execution_count": 71
    },
    {
      "cell_type": "code",
      "source": "# Buat diagram batang\nplt.figure(figsize=(8, 6))\nplt.bar(total_revenue[\"plan\"], total_revenue[\"total_payment\"])\nplt.xlabel(\"Paket\")\nplt.ylabel(\"Total Pendapatan (USD)\")\nplt.title(\"Perbandingan Total Pendapatan yang Dihasilkan oleh Pengguna per Paket\")\nplt.show()",
      "metadata": {
        "trusted": true
      },
      "outputs": [
        {
          "output_type": "display_data",
          "data": {
            "image/png": "[encoded data removed]",
            "text/plain": [
              "<Figure size 576x432 with 1 Axes>"
            ]
          },
          "metadata": {
            "needs_background": "light"
          }
        }
      ],
      "execution_count": 72
    },
    {
      "cell_type": "markdown",
      "source": "**Kesimpulan Sementara**\n* A. Pendapatan Paket \"Surf\":\n    * Paket \"surf\" menghasilkan pendapatan yang lebih rendah dibandingkan dengan paket \"ultimate.\"\n\n* B. Pendapatan Paket \"Ultimate\":\n    * Paket \"ultimate\" cenderung menghasilkan pendapatan yang lebih tinggi dibandingkan dengan paket \"surf.\"\n\n* C. Perbandingan Pendapatan Antar Paket:\n    * Terdapat perbedaan yang signifikan dalam pendapatan yang dihasilkan oleh kedua paket, dengan paket \"ultimate\" menghasilkan pendapatan yang lebih tinggi.\n\n* Perbedaan dalam pendapatan yang dihasilkan oleh setiap paket mencerminkan perbedaan dalam model bisnis dan penawaran layanan antara keduanya. Paket \"ultimate\" mungkin menawarkan fitur tambahan atau kuota yang lebih besar, yang dapat menghasilkan pendapatan yang lebih tinggi. Sementara itu, paket \"surf\" mungkin lebih terjangkau, sehingga menghasilkan pendapatan yang lebih rendah.",
      "metadata": {}
    },
    {
      "cell_type": "markdown",
      "source": "# Menguji Hipotesis Statistik",
      "metadata": {}
    },
    {
      "cell_type": "markdown",
      "source": "## Apakah Rata-rata pendapatan dari pengguna paket telepon Ultimate dan Surf berbeda.",
      "metadata": {}
    },
    {
      "cell_type": "markdown",
      "source": "* Uji Statistik: Two sample independent\n\n* Hipotesis :\n     1. H0: Rata-rata pendapatan dari pengguna paket Surf dan Ultimate SAMA\n     2. H1: Rata-rata pendapatan dari pengguna paket Surf dan Ultimate BERBEDA\n    \n    \n* Alpha: 5%",
      "metadata": {}
    },
    {
      "cell_type": "code",
      "source": "# prepare dataset surf\nincome_surf = df.loc[(df['plan']=='surf') & (df['total_payment'] > 0), 'total_payment']\nsns.histplot(income_surf)\nplt.show()",
      "metadata": {
        "trusted": true
      },
      "outputs": [
        {
          "output_type": "display_data",
          "data": {
            "image/png": "[encoded data removed]",
            "text/plain": [
              "<Figure size 432x288 with 1 Axes>"
            ]
          },
          "metadata": {
            "needs_background": "light"
          }
        }
      ],
      "execution_count": 73
    },
    {
      "cell_type": "code",
      "source": "# prepare dataset ultimate\nincome_ultimate = df.loc[(df['plan']=='ultimate') & (df['total_payment'] > 0), 'total_payment']\nsns.histplot(income_ultimate)\nplt.show()",
      "metadata": {
        "trusted": true
      },
      "outputs": [
        {
          "output_type": "display_data",
          "data": {
            "image/png": "[encoded data removed]",
            "text/plain": [
              "<Figure size 432x288 with 1 Axes>"
            ]
          },
          "metadata": {
            "needs_background": "light"
          }
        }
      ],
      "execution_count": 74
    },
    {
      "cell_type": "code",
      "source": "# Uji kenormalan dari distribusi duration surf dan ultimate\nnormality_test(income_surf)\nprint('==================')\nnormality_test(income_ultimate)",
      "metadata": {
        "trusted": true
      },
      "outputs": [
        {
          "name": "stdout",
          "output_type": "stream",
          "text": "P-Value: 1.5414283107572988e-44\n\nAlpha  : 0.05\n\nH1 Diterima: Distribusi data tersebut adalah tidak normal\n\n==================\n\nP-Value: 0.0\n\nAlpha  : 0.05\n\nH1 Diterima: Distribusi data tersebut adalah tidak normal\n"
        }
      ],
      "execution_count": 75
    },
    {
      "cell_type": "code",
      "source": "# Uji hipotesisnya\nalpha = 0.05\nstatistic, p_value = mannwhitneyu(income_surf, income_ultimate, nan_policy='omit')\nprint(f'Alpha  : {alpha}')\nprint(f'P-Value: {p_value}')\nif p_value >= alpha:\n    print('H0 Diterima: Rata-rata pendapatan dari pengguna paket Surf dan Ultimate SAMA')\nelse:\n    print('H1 Diterima: Rata-rata pendapatan dari pengguna paket Surf dan Ultimate BERBEDA')\n\nprint('====================')\nprint('Rata-rata pendapatan di surf :', income_surf.mean())\nprint('Rata-rata pendapatan di ultimate :', income_ultimate.mean())",
      "metadata": {
        "trusted": true
      },
      "outputs": [
        {
          "name": "stdout",
          "output_type": "stream",
          "text": "Alpha  : 0.05\n\nP-Value: 1.912179587173433e-48\n\nH1 Diterima: Rata-rata pendapatan dari pengguna paket Surf dan Ultimate BERBEDA\n\n====================\n\nRata-rata pendapatan di surf : 60.706408137317226\n\nRata-rata pendapatan di ultimate : 72.31388888888888\n"
        }
      ],
      "execution_count": 76
    },
    {
      "cell_type": "code",
      "source": "sns.histplot(income_surf)\nsns.histplot(income_ultimate)\nplt.show()",
      "metadata": {
        "trusted": true
      },
      "outputs": [
        {
          "output_type": "display_data",
          "data": {
            "image/png": "[encoded data removed]",
            "text/plain": [
              "<Figure size 432x288 with 1 Axes>"
            ]
          },
          "metadata": {
            "needs_background": "light"
          }
        }
      ],
      "execution_count": 77
    },
    {
      "cell_type": "markdown",
      "source": "* Findings :\n    * P-Value dari uji statistik rata-rata pendapatan dari pengguna paket telepon Ultimate dan Surf adalah 1.912179587173433e-48 %\n    * Terdapat perbedaan yang signifikan antara rata-rata pendapatan dari pengguna paket surf dengan ultimate.\n\n* Insights :\n    * User yang menggunakan paket ultimate dan surf memiliki behavior total_payment yang berbeda.\n    * Terdapat perbedaan behavior dari kedua paket customer tersebut meskipun paket surf terbilang murah tetapi malah ada customer paket tersebut ada yang total_payment nya tinggi melebihini customer paket ultimate.\n\n* Recommendation :\n    * Jika ingin lebih hemat, memilih paket ultimate adalah pilihan yang tepat karena biaya extra nya lebih murah daripada paket surf",
      "metadata": {}
    },
    {
      "cell_type": "markdown",
      "source": "## Apakah Rata-rata pendapatan dari pengguna di wilayah NY-NJ berbeda dengan pendapatan pengguna dari wilayah lain.",
      "metadata": {}
    },
    {
      "cell_type": "markdown",
      "source": "* Uji Statistik: Two sample independent\n\n* Hipotesis\n    1. H0: Rata-rata pendapatan dari pengguna di wilayah NY-NJ dan wilayah lainnya SAMA\n    2. H1: Rata-rata pendapatan dari pengguna di wilayah NY-NJ dan wilayah lainnya BERBEDA\n\n* Alpha: 5%",
      "metadata": {}
    },
    {
      "cell_type": "code",
      "source": "# Prepare dataset NY-NJ\nincome_nynj = df.loc[(df['is-nynj']==1) & (df['total_payment'] > 0), 'total_payment']\nsns.histplot(income_nynj)\nplt.show()",
      "metadata": {
        "trusted": true
      },
      "outputs": [
        {
          "output_type": "display_data",
          "data": {
            "image/png": "[encoded data removed]",
            "text/plain": [
              "<Figure size 432x288 with 1 Axes>"
            ]
          },
          "metadata": {
            "needs_background": "light"
          }
        }
      ],
      "execution_count": 78
    },
    {
      "cell_type": "code",
      "source": "# Prepare dataset other\nincome_other = df.loc[(df['is-nynj']==0) & (df['total_payment'] > 0), 'total_payment']\nsns.histplot(income_other)\nplt.show()",
      "metadata": {
        "trusted": true
      },
      "outputs": [
        {
          "output_type": "display_data",
          "data": {
            "image/png": "[encoded data removed]",
            "text/plain": [
              "<Figure size 432x288 with 1 Axes>"
            ]
          },
          "metadata": {
            "needs_background": "light"
          }
        }
      ],
      "execution_count": 79
    },
    {
      "cell_type": "code",
      "source": "# Uji Kenormalan dari distribusi duration surf dan ultimate\nnormality_test(income_nynj)\nprint('---------------------------')\nnormality_test(income_other)",
      "metadata": {
        "trusted": true
      },
      "outputs": [
        {
          "name": "stdout",
          "output_type": "stream",
          "text": "P-Value: 9.16044367265658e-20\n\nAlpha  : 0.05\n\nH1 Diterima: Distribusi data tersebut adalah tidak normal\n\n---------------------------\n\nP-Value: 0.0\n\nAlpha  : 0.05\n\nH1 Diterima: Distribusi data tersebut adalah tidak normal\n"
        }
      ],
      "execution_count": 80
    },
    {
      "cell_type": "code",
      "source": "# Uji hipotesisnya\nalpha = 0.05\np_value = mannwhitneyu(income_nynj, income_other, nan_policy='omit').pvalue\nprint(f'Alpha  : {alpha}')\nprint(f'P-Value: {p_value}')\nif p_value >= alpha:\n    print('H0 Diterima: Rata-rata pendapatan dari pengguna di wilayah NY-NJ dan wilayah lainnya SAMA')\nelse:\n    print('H1 Diterima: Rata-rata pendapatan dari pengguna di wilayah NY-NJ dan wilayah lainnya BERBEDA')\n\nprint('=====================')\nprint('Rata2 call di surf', income_nynj.mean())\nprint('Rata2 call di ultimate', income_other.mean())",
      "metadata": {
        "trusted": true
      },
      "outputs": [
        {
          "name": "stdout",
          "output_type": "stream",
          "text": "Alpha  : 0.05\n\nP-Value: 0.003927631468615441\n\nH1 Diterima: Rata-rata pendapatan dari pengguna di wilayah NY-NJ dan wilayah lainnya BERBEDA\n\n=====================\n\nRata2 call di surf 59.921352785145885\n\nRata2 call di ultimate 65.2227713987474\n"
        }
      ],
      "execution_count": 81
    },
    {
      "cell_type": "code",
      "source": "sns.histplot(income_nynj)\nsns.histplot(income_other)\nplt.show()",
      "metadata": {
        "trusted": true
      },
      "outputs": [
        {
          "output_type": "display_data",
          "data": {
            "image/png": "[encoded data removed]",
            "text/plain": [
              "<Figure size 432x288 with 1 Axes>"
            ]
          },
          "metadata": {
            "needs_background": "light"
          }
        }
      ],
      "execution_count": 82
    },
    {
      "cell_type": "markdown",
      "source": "* Findings :\n    * P-Value dari uji statistik rata-rata pendapatan dari pengguna di wilayah NY-NJ dengan pendapatan pengguna dari wilayah lain adalah 9.16044367265658e-20 %\n    * Terdapat perbedaan yang signifikan anatara rata-rata pendapatan dari pengguna di wilayah NY-NJ dengan pendapatan pengguna dari wilayah lain\n\n* Insights :\n    * User di wilayah NY-NJ dengan user di wilayah lain memiliki behavior total_payment yang berbeda.\n    * User di wilayah NY-NJ lebih banyak menggunakan paket surf, sedangkan user di wilayah lain lebih banyak menggunakan paket ultiamte ",
      "metadata": {}
    },
    {
      "cell_type": "markdown",
      "source": "# Kesimpulan Umum",
      "metadata": {}
    },
    {
      "cell_type": "markdown",
      "source": " * A. Pra-pemrosesan\n    * Berdasarkan data mentah, dapat disimpulkan \n    1. Tidak ada missing value dan nilai duplikat pada dataset\n    2. Tipe data pada data tanggal masih dalam format string dan perlu di ubah ke format datetime\n    3. Kelima dataset harus dijadikan satu\n    4. Semua definisi dalam satu row harus dalam format bulanan\n \n \n * B. Data preparation\n    1. Memperbaiki tipe data duration pada kolom calls\n    2. Mengagregasikan kolom-kolom sesuai ketentuan yang diminta\n    3. Melakukan pembulatan keatas pada kolom mb_per_month_included sesuai ketentuan\n    4. Menghapus kolom yang tidak dibutuhkan pada tabel users, untuk mempermudah proses analisis\n    5. Menggabungkan semua tabel, agar lebih mudah untuk dianalisis\n    6. Menghapus kolom yang tidak perlu, untuk mempermudah analisis\n    7. Mengisi kolom yang kosong dengan nilai 0 sesuai ketentuan dan menambah kolom baru.\n    8. Membuat kolom baru yaitu total_payment yang merupakan jumlah total pembayaran user ketika membeli paket dan biaya tambahannya.\n \n \n * C. Exploratory Data Analysis (EDA)\n \n    a. Berapakah total income di setiap paket per bulannya?\n    * findings : \n        - Dari bulan april sampai desember paket surf memberikan kontribusi income yang lebih tinggi dibandingkan paket ultimate\n        - Kedua Paket memiliki pertumbuhan income yang semakin tajam.\n    * insight :\n        - Kemungkinan hal yang menyebabkan total income di surf mampu mengalahkan ultimate adalah jumlah user yang semakin banyak\n        - Paket yang lebih murah belum tentu memberikan kontribusi pendapatan yang sedikit.\n        - Paket yang lebih mahal belum tentu memberikan kontribusi pendapatan yang banyak.\n\n   b. Berapakah rata-rata income customer di setiap paket per bulannya?\n    * findings :\n        - Rata-rata pengeluaran orang untuk membeli paket internet perbulannya lebih tinggi pada paket surf daripada ultimate\n        - Rata-rata pengeluaran orang untuk membeli paket surf perbulannya semakin naik setiap bulannya secara fluktuatif\n    * insight : \n        - Pengguna paket surf biasanya membayar biaya tambahan untuk mendapat kuota internet / pulsa tambahan\n        - Pengguna paket ultimate jarang yang membayar biaya tambahan untuk mendapat kuota internet / pulsa tambahan\n    * recommendation :\n        - Untuk pengguna disarankan untuk membeli paket ultimate karena benefitnya lebih banyak dan lebih murah daripada paket surf yang biaya tambahannya juga bertambah banyak terus.\n\n   c. Bagaimana distribusi rata-rata pendapatan user di setiap paket?\n    * Findings:\n        - Pada paket ultimate, kebanyakan user mengeluarkan uang di kisaran 70-75 dollar.\n        - Pada paket Surf, banyak user yang melebihi paketnya sehingga biayanya mencapai lebih dari 20 (yaitu 25 - 200).\n        - Standar deviasi dan varians dari surf adalah 43.6 dan 1897.9\n        - Standar deviasi dan varians dari ultimate adalah 7.4 dan 55.1\n    * Insights\n        - Sedikit user ultimate yang menambah paketnya.\n        - Banyak user surf yang menambah paketnya bahkan pengeluarannya melebihi paket ultimate.\n        - Income dari customer surf lebih bervariasi dibandingkan ultimate karena surf lebih banyak nambah paket. Dan value penambahannya bermacam-macam\n\n   d. Bagaimana korelasi antara penggunaan internet dan pendapatan di setiap paket?\n    * Paket surf\n        * Findings :\n        **Korelasi antara total payment dengan variabel lain di paket surf**\n\n        * A. Korelasi kolom total_payment dengan kolom lain \n            1. Korelasi total_payment dengan gb_used adalah 0.89 artinya semakin banyak total_payment maka semakin tinggi pula gb_used yang digunakan (korelasi tinggi)\n            2. Korelasi total_payment dengan duration adalah 0.28 artinya semakin banyak total_payment maka duration juga akan semakin naik akan tetapi tidak terlalu tinggi (korelasi lemah)\n            3. Korelasi total_payment dengan sms adalah 0.17 artinya semakin banyak total_payment maka jumlah sms juga semakin naik akan tetapi tidak terlalu tinggi (korelasi lemah)\n            4. Korelasi total_payment dengan age adalah 0.032 artinya jumlah total_payment tidak ada pengaruh terhadap usia\n\n        * B. Korelasi kolom gb_used dengan kolom lain\n            1. Korelasi gb_used dengan duration adalah 0.37 artinya semakin banyak gb_used digunakan maka durasi juga akan semakin naik akan tetapi tidak terlalu banyak (korelasi medium)\n            2. Korelasi gb_used dengan sms adalah 0.16 artinya semakin banyak gb_used digunakan maka jumlah sms juga semakin naik akan tetapi tidak terlalu tinggi (korelasi lemah)\n            3. Korelasi gb_used dengan age adalah 0.046 artinya jumlah gb_used tidak ada pengaruh terhadap usia\n\n        * C. Korelasi kolom duration dengan kolom lain\n            1. Korelasi duration dengan sms adalah 0.24 artinya semakin banyak durasi maka jumlah sms juga semakin naik akan tetapi tidak terlalu tinggi (korelasi lemah)\n            2. Korelasi duration dengan age adalah -0.018 artinya jumlah durasi tidak ada pengaruh terhadap usia\n\n        * D. Korelasi kolom sms dengan kolom lain\n            1. Korelasi sms dengan age adalah -0.019 artinya jumlah sms tidak ada pengaruh terhadap usia\n\n        * Berdasarkan visualisasi data diatas, grafik miring keatas setelah gb_used mencapai 15 gb, hal tersebut dapat disimpulkan bahwa korelasi gb_used penggunaan internet dengan total_payment memiliki korelasi yang kuat artinya semakin banyak penggunaan gb_used maka total_payment juga semakin tinggi (korelasi tinggi)\n\n     * Paket Ultimate\n        * Findings :\n        **Korelasi antara total payment dengan variabel lain di paket ultimate**\n\n        * A. Korelasi kolom total_payment dengan kolom lain \n            1. Korelasi total_payment dengan gb_used adalah 0.56 artinya semakin banyak total_payment maka cukup tinggi pula gb_used yang digunakan (korelasi medium)\n            2. Korelasi total_payment dengan duration adalah jumlah total_payment tidak ada pengaruh terhadap durasi \n            3. Korelasi total_payment dengan sms adalah 0.17 artinya semakin banyak total_payment maka jumlah sms juga semakin naik akan tetapi tidak terlalu tinggi (korelasi lemah)\n            4. Korelasi total_payment dengan age adalah 0.012 artinya jumlah total_payment tidak ada pengaruh terhadap usia\n\n        * B. Korelasi kolom gb_used dengan kolom lain\n            1. Korelasi gb_used dengan duration adalah 0.22 artinya semakin banyak gb_used digunakan maka durasi juga semakin naik akan tetapi tidak terlalu banyak (korelasi lemah)\n            2. Korelasi gb_used dengan sms adalah 0.34 artinya semakin banyak gb_used digunakan maka jumlah sms juga semakin naik akan tetapi tidak terlalu tinggi (korelasi medium)\n            3. Korelasi gb_used dengan age adalah -0.049 artinya jumlah gb_used tidak ada pengaruh terhadap usia\n\n        * C. Korelasi kolom duration dengan kolom lain\n            1. Korelasi duration dengan sms adalah 0.24 artinya semakin banyak durasi maka jumlah sms juga semakin naik akan tetapi tidak terlalu tinggi (korelasi lemah)\n            2. Korelasi duration dengan age adalah 0.032 artinya jumlah durasi tidak ada pengaruh terhadap usia\n\n        * D. Korelasi kolom sms dengan kolom lain\n            1. Korelasi sms dengan age adalah 0.0078 artinya jumlah sms tidak ada pengaruh terhadap usia\n\n        * Berdasarkan visualisasi data diatas, grafik miring keatas setelah gb_used mencapai 30 gb, hal tersebut dapat disimpulkan bahwa korelasi gb_used penggunaan internet dengan total_payment memiliki korelasi yang sedang artinya semakin banyak penggunaan gb_used maka total_payment juga semakin tinggi namun tidak terlalu tinggi.\n\n\n * D. Analisis Data Statistik\n\n    * Mempelajari perilaku pengguna\n    \n    a. Panggilan\n        * Findings :\n            * P-Value dari uji statistik rata2 call antara paket surf dan ultimate adalah 61.4%\n            * Tidak ada perbedaan rata2 call antara paket surf dengan ultimate.\n\n        * Insights :\n            * User yang menggunakan paket ultimate dan surf memiliki behavior call yang sama.\n            * Artinya tidak ada perbedaan behavior dari kedua paket customer tersebut meskipun limitnya dari ultimate sangat tinggi\n\n        * Recommendation :\n            * Kita bisa kurangi benefit dari paket ultimate\n            * Atau kita naikkan benefit call dari paket ultimate agar menarik customer. Karena mau dinaikkan berapapun, tidak ada durasi call mencapai 3000 menit\n \n    b. Pesan/SMS\n\n        * A. Perilaku Pengguna Paket \"Surf\":\n            * Pengguna paket \"surf\" cenderung mengirim jumlah SMS yang lebih tinggi daripada pengguna paket \"ultimate\" setiap bulannya. Terdapat fluktuasi dalam jumlah SMS yang dikirim oleh pengguna paket \"surf\" dari bulan ke bulan, dengan beberapa bulan mungkin mengalami peningkatan signifikan dalam pengiriman pesan.\n\n        * B. Perilaku Pengguna Paket \"Ultimate\":\n            * Pengguna paket \"ultimate\" memiliki kecenderungan untuk mengirim jumlah SMS yang lebih rendah dibandingkan dengan pengguna paket \"surf\" setiap bulannya.\n            * Meskipun jumlah SMS yang dikirim oleh pengguna paket \"ultimate\" lebih rendah, pola pengiriman pesan mereka lebih stabil dan memiliki variasi yang lebih kecil dari bulan ke bulan.\n       \n    * Dari kesimpulan di atas, terlihat bahwa perilaku pengguna terkait pengiriman pesan berbeda antara paket \"surf\" dan \"ultimate.\" Pengguna paket \"surf\" cenderung lebih aktif dalam mengirim SMS, sementara pengguna paket \"ultimate\" memiliki tingkat pengiriman pesan yang lebih rendah tetapi lebih stabil dari waktu ke waktu. Hal ini bisa menjadi informasi berharga bagi operator telekomunikasi untuk memahami preferensi dan kebutuhan pelanggan berdasarkan paket yang mereka pilih.\n \n    c. Internet\n\n        * 1. Perilaku Pengguna Paket \"Surf\":\n            * Pengguna paket \"surf\" memiliki kecenderungan untuk mengonsumsi jumlah traffic internet yang lebih rendah dibandingkan dengan pengguna paket \"ultimate.\"\n\n        * 2. Perilaku Pengguna Paket \"Ultimate\":\n            * Pengguna paket \"ultimate\" cenderung mengonsumsi jumlah traffic internet yang lebih tinggi daripada pengguna paket \"surf.\"\n\n        * 3. Perbandingan Penggunaan Data Internet Antar Paket:\n            * Terdapat perbedaan signifikan dalam konsumsi data internet antara kedua paket, dengan paket \"ultimate\" memiliki penggunaan yang lebih tinggi dibandingkan dengan paket \"surf.\"\n\n        * 4. Variabilitas Perilaku Pengguna:\n            * Penggunaan data internet oleh pengguna paket \"surf\" cenderung lebih bervariasi, dengan beberapa pengguna mungkin mengonsumsi lebih sedikit data internet, sementara yang lain mungkin membutuhkan lebih banyak.\n\n    * Perbedaan perilaku pengguna dalam mengonsumsi paket data internet antara paket \"surf\" dan \"ultimate\" dapat menjadi informasi yang berguna bagi operator telekomunikasi. Hal ini dapat digunakan untuk menyesuaikan kuota data dalam masing-masing paket, serta merancang promosi atau penawaran yang lebih sesuai dengan preferensi pelanggan.\n\n    * PENDAPATAN\n        * A. Pendapatan Paket \"Surf\":\n            * Paket \"surf\" menghasilkan pendapatan yang lebih rendah dibandingkan dengan paket \"ultimate.\"\n\n        * B. Pendapatan Paket \"Ultimate\":\n            * Paket \"ultimate\" cenderung menghasilkan pendapatan yang lebih tinggi dibandingkan dengan paket \"surf.\"\n\n        * C. Perbandingan Pendapatan Antar Paket:\n            * Terdapat perbedaan yang signifikan dalam pendapatan yang dihasilkan oleh kedua paket, dengan paket \"ultimate\" menghasilkan pendapatan yang lebih tinggi.\n\n    * Perbedaan dalam pendapatan yang dihasilkan oleh setiap paket mencerminkan perbedaan dalam model bisnis dan penawaran layanan antara keduanya. Paket \"ultimate\" mungkin menawarkan fitur tambahan atau kuota yang lebih besar, yang dapat menghasilkan pendapatan yang lebih tinggi. Sementara itu, paket \"surf\" mungkin lebih terjangkau, sehingga menghasilkan pendapatan yang lebih rendah.\n\n\n * E. Menguji Hipotesis Statistik\n\n    1. Apakah Rata-rata pendapatan dari pengguna paket telepon Ultimate dan Surf berbeda.\n\n    * Findings :\n        * P-Value dari uji statistik rata-rata pendapatan dari pengguna paket telepon Ultimate dan Surf adalah 1.912179587173433e-48 %\n        * Terdapat perbedaan yang signifikan antara rata-rata pendapatan dari pengguna paket surf dengan ultimate.\n\n    * Insights :\n        * User yang menggunakan paket ultimate dan surf memiliki behavior total_payment yang berbeda.\n        * Terdapat perbedaan behavior dari kedua paket customer tersebut meskipun paket surf terbilang murah tetapi malah ada customer paket tersebut ada yang total_payment nya tinggi melebihini customer paket ultimate.\n\n    * Recommendation :\n        * Jika ingin lebih hemat, memilih paket ultimate adalah pilihan yang tepat karena biaya extra nya lebih murah daripada paket surf\n\n    2. Apakah Rata-rata pendapatan dari pengguna di wilayah NY-NJ berbeda dengan pendapatan pengguna dari wilayah lain.\n\n    * Findings :\n        * P-Value dari uji statistik rata-rata pendapatan dari pengguna di wilayah NY-NJ dengan pendapatan pengguna dari wilayah lain adalah 9.16044367265658e-20 %\n        * Terdapat perbedaan yang signifikan anatara rata-rata pendapatan dari pengguna di wilayah NY-NJ dengan pendapatan pengguna dari wilayah lain\n\n    * Insights :\n        * User di wilayah NY-NJ dengan user di wilayah lain memiliki behavior total_payment yang berbeda.\n        * User di wilayah NY-NJ lebih banyak menggunakan paket surf, sedangkan user di wilayah lain lebih banyak menggunakan paket ultiamte \n \n",
      "metadata": {}
    },
    {
      "cell_type": "code",
      "source": "",
      "metadata": {
        "trusted": true
      },
      "outputs": [],
      "execution_count": null
    }
  ]
}